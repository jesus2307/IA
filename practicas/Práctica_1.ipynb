{
  "cells": [
    {
      "cell_type": "markdown",
      "metadata": {
        "id": "XnldHTOt-QZx"
      },
      "source": [
        "# Práctica 1 #\n",
        "\n",
        "Miembros del grupo de prácticas:\n",
        "- jesus fernandez rueda\n"
      ]
    },
    {
      "cell_type": "markdown",
      "metadata": {
        "id": "kjQsenT0_LwN"
      },
      "source": [
        "## Imports ##"
      ]
    },
    {
      "cell_type": "code",
      "execution_count": null,
      "metadata": {
        "id": "shcOA91t_LmV",
        "colab": {
          "base_uri": "https://localhost:8080/"
        },
        "outputId": "3bd965d7-2251-424d-ce27-4c31f9845dd5"
      },
      "outputs": [
        {
          "output_type": "stream",
          "name": "stdout",
          "text": [
            "Collecting optuna\n",
            "  Downloading optuna-3.6.1-py3-none-any.whl (380 kB)\n",
            "\u001b[2K     \u001b[90m━━━━━━━━━━━━━━━━━━━━━━━━━━━━━━━━━━━━━━━━\u001b[0m \u001b[32m380.1/380.1 kB\u001b[0m \u001b[31m4.0 MB/s\u001b[0m eta \u001b[36m0:00:00\u001b[0m\n",
            "\u001b[?25hCollecting alembic>=1.5.0 (from optuna)\n",
            "  Downloading alembic-1.13.1-py3-none-any.whl (233 kB)\n",
            "\u001b[2K     \u001b[90m━━━━━━━━━━━━━━━━━━━━━━━━━━━━━━━━━━━━━━━━\u001b[0m \u001b[32m233.4/233.4 kB\u001b[0m \u001b[31m9.2 MB/s\u001b[0m eta \u001b[36m0:00:00\u001b[0m\n",
            "\u001b[?25hCollecting colorlog (from optuna)\n",
            "  Downloading colorlog-6.8.2-py3-none-any.whl (11 kB)\n",
            "Requirement already satisfied: numpy in /usr/local/lib/python3.10/dist-packages (from optuna) (1.25.2)\n",
            "Requirement already satisfied: packaging>=20.0 in /usr/local/lib/python3.10/dist-packages (from optuna) (24.1)\n",
            "Requirement already satisfied: sqlalchemy>=1.3.0 in /usr/local/lib/python3.10/dist-packages (from optuna) (2.0.30)\n",
            "Requirement already satisfied: tqdm in /usr/local/lib/python3.10/dist-packages (from optuna) (4.66.4)\n",
            "Requirement already satisfied: PyYAML in /usr/local/lib/python3.10/dist-packages (from optuna) (6.0.1)\n",
            "Collecting Mako (from alembic>=1.5.0->optuna)\n",
            "  Downloading Mako-1.3.5-py3-none-any.whl (78 kB)\n",
            "\u001b[2K     \u001b[90m━━━━━━━━━━━━━━━━━━━━━━━━━━━━━━━━━━━━━━━━\u001b[0m \u001b[32m78.6/78.6 kB\u001b[0m \u001b[31m3.4 MB/s\u001b[0m eta \u001b[36m0:00:00\u001b[0m\n",
            "\u001b[?25hRequirement already satisfied: typing-extensions>=4 in /usr/local/lib/python3.10/dist-packages (from alembic>=1.5.0->optuna) (4.12.2)\n",
            "Requirement already satisfied: greenlet!=0.4.17 in /usr/local/lib/python3.10/dist-packages (from sqlalchemy>=1.3.0->optuna) (3.0.3)\n",
            "Requirement already satisfied: MarkupSafe>=0.9.2 in /usr/local/lib/python3.10/dist-packages (from Mako->alembic>=1.5.0->optuna) (2.1.5)\n",
            "Installing collected packages: Mako, colorlog, alembic, optuna\n",
            "Successfully installed Mako-1.3.5 alembic-1.13.1 colorlog-6.8.2 optuna-3.6.1\n",
            "Versión de Numpy: 1.25.2\n",
            "Versión de Pandas: 2.0.3\n",
            "Version de Google Colab: 0.0.1a2\n",
            "Versión de MatPlotLib: 3.7.1\n",
            "Versión de ScikitLearn: 1.2.2\n"
          ]
        }
      ],
      "source": [
        "# Instalación de Optuna utilizando pip\n",
        "!pip install optuna\n",
        "\n",
        "# Importar librerias\n",
        "import sys\n",
        "import os\n",
        "import pathlib\n",
        "import math\n",
        "import tensorflow as tf;\n",
        "import tensorflow.python.keras as tfk;\n",
        "import numpy as np; print(f'Versión de Numpy: {np.__version__}')\n",
        "import pandas as pd; print(f'Versión de Pandas: {pd.__version__}')\n",
        "import google.colab as gc; print(f'Version de Google Colab: {gc.__version__}')\n",
        "import matplotlib as mpl; print(f'Versión de MatPlotLib: {mpl.__version__}')\n",
        "import sklearn as sk; print(f'Versión de ScikitLearn: {sk.__version__}')\n",
        "import matplotlib.pyplot as plt\n",
        "import seaborn as sns\n",
        "import tensorflow as tf\n",
        "import optuna\n",
        "\n",
        "\n",
        "# Importar funciones\n",
        "from pathlib import Path\n",
        "from math import ceil\n",
        "from google.colab import drive\n",
        "from numpy import abs, logical_and, nan\n",
        "from pandas import read_csv, DataFrame, get_dummies\n",
        "from sklearn.preprocessing import LabelEncoder\n",
        "from sklearn.model_selection import KFold\n",
        "from sklearn.preprocessing import StandardScaler\n",
        "from sklearn.preprocessing import MinMaxScaler\n",
        "from sklearn.model_selection import cross_val_score\n",
        "from matplotlib import pyplot as plt\n",
        "from sklearn.neighbors import KNeighborsRegressor\n",
        "from sklearn.model_selection import GridSearchCV\n",
        "from sklearn.model_selection import RandomizedSearchCV\n",
        "from sklearn.ensemble import GradientBoostingRegressor\n",
        "from sklearn.ensemble import RandomForestRegressor\n",
        "from sklearn.metrics import mean_squared_error\n",
        "from sklearn.model_selection import train_test_split\n",
        "from contextlib import redirect_stdout, redirect_stderr\n",
        "from io import StringIO\n",
        "from keras.models import Sequential\n",
        "from keras.layers import Dense\n",
        "from sklearn.metrics import r2_score\n",
        "from tensorflow.keras.layers import BatchNormalization, Dropout\n",
        "from tensorflow.keras.optimizers import Adam\n",
        "from sklearn.metrics import mean_squared_error, r2_score\n",
        "from keras.layers import Dense, BatchNormalization\n",
        "from keras.regularizers import l2\n",
        "from keras.callbacks import EarlyStopping\n",
        "from tensorflow.keras import Sequential, layers, callbacks, optimizers\n",
        "from tensorflow.keras.models import Sequential\n",
        "from tensorflow.keras.layers import Dense\n",
        "from tensorflow.keras.callbacks import EarlyStopping\n",
        "from sklearn.neighbors import KNeighborsRegressor\n",
        "from sklearn.model_selection import GridSearchCV\n",
        "from sklearn.linear_model import Ridge\n",
        "from sklearn.model_selection import RandomizedSearchCV\n",
        "from sklearn.ensemble import GradientBoostingRegressor\n",
        "from tensorflow.keras.layers import Dense, LSTM, Bidirectional\n",
        "from tensorflow.keras.layers import GRU, Dense\n",
        "\n"
      ]
    },
    {
      "cell_type": "markdown",
      "metadata": {
        "id": "G9r5KHyUM9r-"
      },
      "source": [
        "## Data ##\n"
      ]
    },
    {
      "cell_type": "markdown",
      "metadata": {
        "id": "OJDn_AZsNGTO"
      },
      "source": [
        "### Read dataset ###"
      ]
    },
    {
      "cell_type": "code",
      "execution_count": null,
      "metadata": {
        "id": "uAqEWZJ_NGGu",
        "colab": {
          "base_uri": "https://localhost:8080/"
        },
        "outputId": "dabaa970-166c-42f4-e57c-9a30d3505258"
      },
      "outputs": [
        {
          "output_type": "stream",
          "name": "stdout",
          "text": [
            "<class 'pandas.core.frame.DataFrame'>\n",
            "RangeIndex: 395 entries, 0 to 394\n",
            "Data columns (total 33 columns):\n",
            " #   Column      Non-Null Count  Dtype \n",
            "---  ------      --------------  ----- \n",
            " 0   school      395 non-null    object\n",
            " 1   sex         395 non-null    object\n",
            " 2   age         395 non-null    int64 \n",
            " 3   address     395 non-null    object\n",
            " 4   famsize     395 non-null    object\n",
            " 5   Pstatus     395 non-null    object\n",
            " 6   Medu        395 non-null    int64 \n",
            " 7   Fedu        395 non-null    int64 \n",
            " 8   Mjob        395 non-null    object\n",
            " 9   Fjob        395 non-null    object\n",
            " 10  reason      395 non-null    object\n",
            " 11  guardian    395 non-null    object\n",
            " 12  traveltime  395 non-null    int64 \n",
            " 13  studytime   395 non-null    int64 \n",
            " 14  failures    395 non-null    int64 \n",
            " 15  schoolsup   395 non-null    object\n",
            " 16  famsup      395 non-null    object\n",
            " 17  paid        395 non-null    object\n",
            " 18  activities  395 non-null    object\n",
            " 19  nursery     395 non-null    object\n",
            " 20  higher      395 non-null    object\n",
            " 21  internet    395 non-null    object\n",
            " 22  romantic    395 non-null    object\n",
            " 23  famrel      395 non-null    int64 \n",
            " 24  freetime    395 non-null    int64 \n",
            " 25  goout       395 non-null    int64 \n",
            " 26  Dalc        395 non-null    int64 \n",
            " 27  Walc        395 non-null    int64 \n",
            " 28  health      395 non-null    int64 \n",
            " 29  absences    395 non-null    int64 \n",
            " 30  G1          395 non-null    int64 \n",
            " 31  G2          395 non-null    int64 \n",
            " 32  G3          395 non-null    int64 \n",
            "dtypes: int64(16), object(17)\n",
            "memory usage: 102.0+ KB\n",
            "None\n",
            "              age        Medu        Fedu  traveltime   studytime    failures  \\\n",
            "count  395.000000  395.000000  395.000000  395.000000  395.000000  395.000000   \n",
            "mean    16.696203    2.749367    2.521519    1.448101    2.035443    0.334177   \n",
            "std      1.276043    1.094735    1.088201    0.697505    0.839240    0.743651   \n",
            "min     15.000000    0.000000    0.000000    1.000000    1.000000    0.000000   \n",
            "25%     16.000000    2.000000    2.000000    1.000000    1.000000    0.000000   \n",
            "50%     17.000000    3.000000    2.000000    1.000000    2.000000    0.000000   \n",
            "75%     18.000000    4.000000    3.000000    2.000000    2.000000    0.000000   \n",
            "max     22.000000    4.000000    4.000000    4.000000    4.000000    3.000000   \n",
            "\n",
            "           famrel    freetime       goout        Dalc        Walc      health  \\\n",
            "count  395.000000  395.000000  395.000000  395.000000  395.000000  395.000000   \n",
            "mean     3.944304    3.235443    3.108861    1.481013    2.291139    3.554430   \n",
            "std      0.896659    0.998862    1.113278    0.890741    1.287897    1.390303   \n",
            "min      1.000000    1.000000    1.000000    1.000000    1.000000    1.000000   \n",
            "25%      4.000000    3.000000    2.000000    1.000000    1.000000    3.000000   \n",
            "50%      4.000000    3.000000    3.000000    1.000000    2.000000    4.000000   \n",
            "75%      5.000000    4.000000    4.000000    2.000000    3.000000    5.000000   \n",
            "max      5.000000    5.000000    5.000000    5.000000    5.000000    5.000000   \n",
            "\n",
            "         absences          G1          G2          G3  \n",
            "count  395.000000  395.000000  395.000000  395.000000  \n",
            "mean     5.708861   10.908861   10.713924   10.415190  \n",
            "std      8.003096    3.319195    3.761505    4.581443  \n",
            "min      0.000000    3.000000    0.000000    0.000000  \n",
            "25%      0.000000    8.000000    9.000000    8.000000  \n",
            "50%      4.000000   11.000000   11.000000   11.000000  \n",
            "75%      8.000000   13.000000   13.000000   14.000000  \n",
            "max     75.000000   19.000000   19.000000   20.000000  \n"
          ]
        }
      ],
      "source": [
        "# Leer el conjunto de datos\n",
        "dataset = pd.read_csv('student-mat.csv', sep=';', decimal='.')\n",
        "\n",
        "# Verificar Lectura\n",
        "print(dataset.info())\n",
        "\n",
        "# Resumen de la estadisticas\n",
        "print(dataset.describe())"
      ]
    },
    {
      "cell_type": "markdown",
      "metadata": {
        "id": "e9EqOajt-bWJ"
      },
      "source": [
        "### Exploratory Data Analysis (EDA) ###\n",
        "\n",
        "El análisis exploratorio de datos se realiza para comprender la estructura y distribución de los datos."
      ]
    },
    {
      "cell_type": "markdown",
      "metadata": {
        "id": "q30iRdUHNJet"
      },
      "source": [
        "### Data pre-processing ###"
      ]
    },
    {
      "cell_type": "code",
      "execution_count": null,
      "metadata": {
        "id": "h8e_lr2B2lGM",
        "colab": {
          "base_uri": "https://localhost:8080/"
        },
        "outputId": "4feb445c-c591-4791-ba56-e99c5c1ee289"
      },
      "outputs": [
        {
          "output_type": "stream",
          "name": "stdout",
          "text": [
            "    school sex  age address famsize Pstatus  Medu  Fedu      Mjob      Fjob  \\\n",
            "0       GP   F   18       U     GT3       A     4     4   at_home   teacher   \n",
            "1       GP   F   17       U     GT3       T     1     1   at_home     other   \n",
            "2       GP   F   15       U     LE3       T     1     1   at_home     other   \n",
            "3       GP   F   15       U     GT3       T     4     2    health  services   \n",
            "4       GP   F   16       U     GT3       T     3     3     other     other   \n",
            "..     ...  ..  ...     ...     ...     ...   ...   ...       ...       ...   \n",
            "390     MS   M   20       U     LE3       A     2     2  services  services   \n",
            "391     MS   M   17       U     LE3       T     3     1  services  services   \n",
            "392     MS   M   21       R     GT3       T     1     1     other     other   \n",
            "393     MS   M   18       R     LE3       T     3     2  services     other   \n",
            "394     MS   M   19       U     LE3       T     1     1     other   at_home   \n",
            "\n",
            "     ... romantic famrel  freetime  goout  Dalc Walc health absences  G1  G2  \n",
            "0    ...       no      4         3      4     1    1      3        6   5   6  \n",
            "1    ...       no      5         3      3     1    1      3        4   5   5  \n",
            "2    ...       no      4         3      2     2    3      3       10   7   8  \n",
            "3    ...      yes      3         2      2     1    1      5        2  15  14  \n",
            "4    ...       no      4         3      2     1    2      5        4   6  10  \n",
            "..   ...      ...    ...       ...    ...   ...  ...    ...      ...  ..  ..  \n",
            "390  ...       no      5         5      4     4    5      4       11   9   9  \n",
            "391  ...       no      2         4      5     3    4      2        3  14  16  \n",
            "392  ...       no      5         5      3     3    3      3        3  10   8  \n",
            "393  ...       no      4         4      1     3    4      5        0  11  12  \n",
            "394  ...       no      3         2      3     3    3      5        5   8   9  \n",
            "\n",
            "[395 rows x 32 columns]\n",
            "     G3\n",
            "0     6\n",
            "1     6\n",
            "2    10\n",
            "3    15\n",
            "4    10\n",
            "..   ..\n",
            "390   9\n",
            "391  16\n",
            "392   7\n",
            "393  10\n",
            "394   9\n",
            "\n",
            "[395 rows x 1 columns]\n",
            "      age  Medu  Fedu  traveltime  studytime  failures  famrel  freetime  \\\n",
            "0    18.0   4.0   4.0         2.0        2.0       0.0     4.0       3.0   \n",
            "1    17.0   1.0   1.0         1.0        2.0       0.0     5.0       3.0   \n",
            "2    15.0   1.0   1.0         1.0        2.0       3.0     4.0       3.0   \n",
            "3    15.0   4.0   2.0         1.0        3.0       0.0     3.0       2.0   \n",
            "4    16.0   3.0   3.0         1.0        2.0       0.0     4.0       3.0   \n",
            "..    ...   ...   ...         ...        ...       ...     ...       ...   \n",
            "390  20.0   2.0   2.0         1.0        2.0       2.0     5.0       5.0   \n",
            "391  17.0   3.0   1.0         2.0        1.0       0.0     2.0       4.0   \n",
            "392  21.0   1.0   1.0         1.0        1.0       3.0     5.0       5.0   \n",
            "393  18.0   3.0   2.0         3.0        1.0       0.0     4.0       4.0   \n",
            "394  19.0   1.0   1.0         1.0        1.0       0.0     3.0       2.0   \n",
            "\n",
            "     goout  Dalc  ...  romantic_no  romantic_yes  activities_no  \\\n",
            "0      4.0   1.0  ...          1.0           0.0            1.0   \n",
            "1      3.0   1.0  ...          1.0           0.0            1.0   \n",
            "2      2.0   2.0  ...          1.0           0.0            1.0   \n",
            "3      2.0   1.0  ...          0.0           1.0            0.0   \n",
            "4      2.0   1.0  ...          1.0           0.0            1.0   \n",
            "..     ...   ...  ...          ...           ...            ...   \n",
            "390    4.0   4.0  ...          1.0           0.0            1.0   \n",
            "391    5.0   3.0  ...          1.0           0.0            1.0   \n",
            "392    3.0   3.0  ...          1.0           0.0            1.0   \n",
            "393    1.0   3.0  ...          1.0           0.0            1.0   \n",
            "394    3.0   3.0  ...          1.0           0.0            1.0   \n",
            "\n",
            "     activities_yes  nursery_no  nursery_yes  reason_course  reason_home  \\\n",
            "0               0.0         0.0          1.0            1.0          0.0   \n",
            "1               0.0         1.0          0.0            1.0          0.0   \n",
            "2               0.0         0.0          1.0            0.0          0.0   \n",
            "3               1.0         0.0          1.0            0.0          1.0   \n",
            "4               0.0         0.0          1.0            0.0          1.0   \n",
            "..              ...         ...          ...            ...          ...   \n",
            "390             0.0         0.0          1.0            1.0          0.0   \n",
            "391             0.0         1.0          0.0            1.0          0.0   \n",
            "392             0.0         1.0          0.0            1.0          0.0   \n",
            "393             0.0         1.0          0.0            1.0          0.0   \n",
            "394             0.0         0.0          1.0            1.0          0.0   \n",
            "\n",
            "     reason_other  reason_reputation  \n",
            "0             0.0                0.0  \n",
            "1             0.0                0.0  \n",
            "2             1.0                0.0  \n",
            "3             0.0                0.0  \n",
            "4             0.0                0.0  \n",
            "..            ...                ...  \n",
            "390           0.0                0.0  \n",
            "391           0.0                0.0  \n",
            "392           0.0                0.0  \n",
            "393           0.0                0.0  \n",
            "394           0.0                0.0  \n",
            "\n",
            "[395 rows x 58 columns]\n",
            "          age  Medu  Fedu  traveltime  studytime  failures  famrel  freetime  \\\n",
            "0    0.428571  1.00  1.00    0.333333   0.333333  0.000000    0.75      0.50   \n",
            "1    0.285714  0.25  0.25    0.000000   0.333333  0.000000    1.00      0.50   \n",
            "2    0.000000  0.25  0.25    0.000000   0.333333  1.000000    0.75      0.50   \n",
            "3    0.000000  1.00  0.50    0.000000   0.666667  0.000000    0.50      0.25   \n",
            "4    0.142857  0.75  0.75    0.000000   0.333333  0.000000    0.75      0.50   \n",
            "..        ...   ...   ...         ...        ...       ...     ...       ...   \n",
            "390  0.714286  0.50  0.50    0.000000   0.333333  0.666667    1.00      1.00   \n",
            "391  0.285714  0.75  0.25    0.333333   0.000000  0.000000    0.25      0.75   \n",
            "392  0.857143  0.25  0.25    0.000000   0.000000  1.000000    1.00      1.00   \n",
            "393  0.428571  0.75  0.50    0.666667   0.000000  0.000000    0.75      0.75   \n",
            "394  0.571429  0.25  0.25    0.000000   0.000000  0.000000    0.50      0.25   \n",
            "\n",
            "     goout  Dalc  ...  romantic_no  romantic_yes  activities_no  \\\n",
            "0     0.75  0.00  ...          1.0           0.0            1.0   \n",
            "1     0.50  0.00  ...          1.0           0.0            1.0   \n",
            "2     0.25  0.25  ...          1.0           0.0            1.0   \n",
            "3     0.25  0.00  ...          0.0           1.0            0.0   \n",
            "4     0.25  0.00  ...          1.0           0.0            1.0   \n",
            "..     ...   ...  ...          ...           ...            ...   \n",
            "390   0.75  0.75  ...          1.0           0.0            1.0   \n",
            "391   1.00  0.50  ...          1.0           0.0            1.0   \n",
            "392   0.50  0.50  ...          1.0           0.0            1.0   \n",
            "393   0.00  0.50  ...          1.0           0.0            1.0   \n",
            "394   0.50  0.50  ...          1.0           0.0            1.0   \n",
            "\n",
            "     activities_yes  nursery_no  nursery_yes  reason_course  reason_home  \\\n",
            "0               0.0         0.0          1.0            1.0          0.0   \n",
            "1               0.0         1.0          0.0            1.0          0.0   \n",
            "2               0.0         0.0          1.0            0.0          0.0   \n",
            "3               1.0         0.0          1.0            0.0          1.0   \n",
            "4               0.0         0.0          1.0            0.0          1.0   \n",
            "..              ...         ...          ...            ...          ...   \n",
            "390             0.0         0.0          1.0            1.0          0.0   \n",
            "391             0.0         1.0          0.0            1.0          0.0   \n",
            "392             0.0         1.0          0.0            1.0          0.0   \n",
            "393             0.0         1.0          0.0            1.0          0.0   \n",
            "394             0.0         0.0          1.0            1.0          0.0   \n",
            "\n",
            "     reason_other  reason_reputation  \n",
            "0             0.0                0.0  \n",
            "1             0.0                0.0  \n",
            "2             1.0                0.0  \n",
            "3             0.0                0.0  \n",
            "4             0.0                0.0  \n",
            "..            ...                ...  \n",
            "390           0.0                0.0  \n",
            "391           0.0                0.0  \n",
            "392           0.0                0.0  \n",
            "393           0.0                0.0  \n",
            "394           0.0                0.0  \n",
            "\n",
            "[395 rows x 58 columns]\n"
          ]
        }
      ],
      "source": [
        "#Eliminar los valores faltantes\n",
        "dataset = dataset.dropna()\n",
        "\n",
        "# Voy a separa las características de (X) de las etiquetas objetivo (y). Ahora (y) contiene las etiquetas objetivo y (X) contiene todas las características.\n",
        "X=dataset.drop(columns=['G3'])\n",
        "Y=dataset[['G3']]\n",
        "print(X)\n",
        "print(Y)\n",
        "columnas_categoricas=['school', 'sex', 'address', 'famsize', 'Pstatus', 'Mjob', 'Fjob', 'guardian', 'schoolsup', 'famsup', 'paid', 'higher',  'internet',  'romantic', 'activities', 'nursery', 'reason']\n",
        "X_OH=pd.get_dummies(X, columns=columnas_categoricas)\n",
        "X_OH = X_OH.astype(float)\n",
        "print(X_OH)\n",
        "\n",
        "# Crear instancia del escalador\n",
        "scaler=MinMaxScaler()\n",
        "\n",
        "# Implementar la normalización Min-Max\n",
        "X_OHnormalized=scaler.fit_transform(X_OH)\n",
        "\n",
        "# Crear DataFrame con las características\n",
        "X_OHnormalized_df=pd.DataFrame(X_OHnormalized, columns=X_OH.columns)\n",
        "\n",
        "# Mostrar el DataFrame que se va a utilizar en los modelos\n",
        "print(X_OHnormalized_df)"
      ]
    },
    {
      "cell_type": "markdown",
      "metadata": {
        "id": "Cj60flafNupT"
      },
      "source": [
        "### Save cleaned dataset ###"
      ]
    },
    {
      "cell_type": "code",
      "execution_count": null,
      "metadata": {
        "id": "jIi9nj3qNuez"
      },
      "outputs": [],
      "source": [
        "# Crear el nuevo DataFrame\n",
        "X_OHselected=X_OHnormalized_df\n",
        "\n",
        "# Guardar el nuevo csv\n",
        "X_OHselected.to_csv(\"Datos_en_limpio.csv\", index=False)\n",
        "\n",
        "# Divide los datos en un conjunto de entrenamiento y pruebas\n",
        "from sklearn.model_selection import train_test_split\n",
        "\n",
        "# Establece y como la columna 'G3' del DataFrame Y.\n",
        "y = Y['G3']\n",
        "\n",
        "#Dividir un conjunto de datos en dos partes: un conjunto de entrenamiento y un conjunto de prueba\n",
        "X_train, X_test, y_train, y_test=train_test_split(X_OHselected, y, test_size=0.1, random_state=4)"
      ]
    },
    {
      "cell_type": "markdown",
      "metadata": {
        "id": "zzSig4FL-jTg"
      },
      "source": [
        "## Artificial Intelligence (AI) ##\n"
      ]
    },
    {
      "cell_type": "markdown",
      "metadata": {
        "id": "mIAOc4iQ-pkf"
      },
      "source": [
        "### Machine Learning (ML) ###"
      ]
    },
    {
      "cell_type": "markdown",
      "metadata": {
        "id": "SxdIablC-5Ou"
      },
      "source": [
        "#### Model ####"
      ]
    },
    {
      "cell_type": "markdown",
      "source": [
        "#### GBR ####"
      ],
      "metadata": {
        "id": "1_ER4tl-PNK6"
      }
    },
    {
      "cell_type": "code",
      "execution_count": null,
      "metadata": {
        "id": "JHqLkGkx-wk3",
        "colab": {
          "base_uri": "https://localhost:8080/",
          "height": 400
        },
        "outputId": "5fe39c8f-9e12-4734-a08a-f46b1128a616"
      },
      "outputs": [
        {
          "output_type": "error",
          "ename": "ModuleNotFoundError",
          "evalue": "No module named 'shap'",
          "traceback": [
            "\u001b[0;31m---------------------------------------------------------------------------\u001b[0m",
            "\u001b[0;31mModuleNotFoundError\u001b[0m                       Traceback (most recent call last)",
            "\u001b[0;32m<ipython-input-1-7df2acbf2a15>\u001b[0m in \u001b[0;36m<cell line: 2>\u001b[0;34m()\u001b[0m\n\u001b[1;32m      1\u001b[0m \u001b[0;32mfrom\u001b[0m \u001b[0msklearn\u001b[0m\u001b[0;34m.\u001b[0m\u001b[0mensemble\u001b[0m \u001b[0;32mimport\u001b[0m \u001b[0mGradientBoostingRegressor\u001b[0m\u001b[0;34m\u001b[0m\u001b[0;34m\u001b[0m\u001b[0m\n\u001b[0;32m----> 2\u001b[0;31m \u001b[0;32mimport\u001b[0m \u001b[0mshap\u001b[0m\u001b[0;34m\u001b[0m\u001b[0;34m\u001b[0m\u001b[0m\n\u001b[0m\u001b[1;32m      3\u001b[0m \u001b[0;32mimport\u001b[0m \u001b[0mpandas\u001b[0m \u001b[0;32mas\u001b[0m \u001b[0mpd\u001b[0m\u001b[0;34m\u001b[0m\u001b[0;34m\u001b[0m\u001b[0m\n\u001b[1;32m      4\u001b[0m \u001b[0;34m\u001b[0m\u001b[0m\n\u001b[1;32m      5\u001b[0m \u001b[0;31m# Supongamos que ya tienes X_train, X_test, y_train y y_test definidos\u001b[0m\u001b[0;34m\u001b[0m\u001b[0;34m\u001b[0m\u001b[0m\n",
            "\u001b[0;31mModuleNotFoundError\u001b[0m: No module named 'shap'",
            "",
            "\u001b[0;31m---------------------------------------------------------------------------\u001b[0;32m\nNOTE: If your import is failing due to a missing package, you can\nmanually install dependencies using either !pip or !apt.\n\nTo view examples of installing some common dependencies, click the\n\"Open Examples\" button below.\n\u001b[0;31m---------------------------------------------------------------------------\u001b[0m\n"
          ],
          "errorDetails": {
            "actions": [
              {
                "action": "open_url",
                "actionText": "Open Examples",
                "url": "/notebooks/snippets/importing_libraries.ipynb"
              }
            ]
          }
        }
      ],
      "source": [
        "# Tasa de aprendizaje\n",
        "learning_rate=0.1\n",
        "\n",
        "# Número máximo de estimadores\n",
        "n_estimators=500\n",
        "\n",
        "# Configurar la detención temprana\n",
        "n_iter_no_learning=15\n",
        "\n",
        "modelo = GradientBoostingRegressor(\n",
        "    n_estimators=n_estimators,\n",
        "    learning_rate=learning_rate,\n",
        "    max_depth=2,\n",
        "    random_state=50,\n",
        "    n_iter_no_change=n_iter_no_learning,\n",
        "    validation_fraction=0.1\n",
        ")\n",
        "\n",
        "modelo.fit(X_train, y_train)\n",
        "\n",
        "resultado=modelo.score(X_test, y_test)\n",
        "print(\"Score del modelo: \", resultado)\n",
        "\n",
        "scores=cross_val_score(modelo, X_train, y_train, cv=5)\n",
        "print(\"Puntajes de Validación Cruzada:\", scores)\n",
        "print(\"Puntaje promedio de Validación Cruzada:\", scores.mean())\n",
        "\n",
        "\n",
        "y_pred = modelo.predict(X_test)\n",
        "MSE = mean_squared_error(y_test, y_pred)\n",
        "R2 = r2_score(y_test, y_pred)\n",
        "APE=np.abs((y_test - y_pred) / y_test) * 100\n",
        "MAPE=np.mean(APE)\n",
        "RMSEGBR=math.sqrt(MSE)\n",
        "\n",
        "# Representar las predictiones\n",
        "print('Model predictions')\n",
        "plt.plot(y_test.values, 'go')\n",
        "plt.plot(y_pred.flatten(), 'ro')\n",
        "plt.title('GradientBoostingRegressor')\n",
        "plt.ylabel('predictions')\n",
        "plt.xlabel('item')\n",
        "plt.legend(['real', 'predicted'], loc='upper left')\n",
        "plt.show()\n",
        "\n",
        "print(f\"RMSE: {RMSEGBR}\")\n",
        "print(f\"MSE: {MSE}\")\n",
        "print(f\"R2: {R2}\")\n",
        "print(f\"MAPE: {MAPE}%\")"
      ]
    },
    {
      "cell_type": "markdown",
      "metadata": {
        "id": "98NWBFmT8ovS"
      },
      "source": [
        "#### KNN ####\n"
      ]
    },
    {
      "cell_type": "code",
      "execution_count": null,
      "metadata": {
        "id": "Os2AS4858zgG",
        "colab": {
          "base_uri": "https://localhost:8080/",
          "height": 546
        },
        "outputId": "fef92931-a5f8-4451-921f-ef9454dabbb7"
      },
      "outputs": [
        {
          "output_type": "display_data",
          "data": {
            "text/plain": [
              "<Figure size 640x480 with 1 Axes>"
            ],
            "image/png": "[encoded data removed]"
          },
          "metadata": {}
        },
        {
          "output_type": "stream",
          "name": "stdout",
          "text": [
            "RMSE: 3.858634797438078\n",
            "MSE: 14.8890625\n",
            "R2: 0.2892200739945101\n",
            "MAPE: inf%\n"
          ]
        }
      ],
      "source": [
        "# Crea un modelo KNN\n",
        "modeloKNN=KNeighborsRegressor(n_neighbors=4, weights='uniform', metric='manhattan', p=2)\n",
        "modeloKNN.fit(X_train, y_train)\n",
        "\n",
        "# Realiza predicciones en los datos de prueba\n",
        "y_pred=modeloKNN.predict(X_test)\n",
        "\n",
        "# Calcula métricas de evaluación\n",
        "MSE=mean_squared_error(y_test, y_pred)\n",
        "R2=r2_score(y_test, y_pred)\n",
        "APE = np.abs((y_test - y_pred) / y_test) * 100\n",
        "MAPE = np.mean(APE)\n",
        "RMSEKNN = np.sqrt(MSE)\n",
        "\n",
        "# Representa las predicciones\n",
        "plt.plot(y_test.values, 'go')\n",
        "plt.plot(y_pred, 'ro')\n",
        "plt.title('KNN')\n",
        "plt.ylabel('predictions')\n",
        "plt.xlabel('item')\n",
        "plt.legend(['real', 'predicted'], loc='upper left')\n",
        "plt.show()\n",
        "\n",
        "print(f\"RMSE: {RMSEKNN}\")\n",
        "print(f\"MSE: {MSE}\")\n",
        "print(f\"R2: {R2}\")\n",
        "print(f\"MAPE: {MAPE}%\")\n"
      ]
    },
    {
      "cell_type": "markdown",
      "metadata": {
        "id": "MeLhVQprgPG1"
      },
      "source": [
        "#### Ridge Regressor ####"
      ]
    },
    {
      "cell_type": "code",
      "execution_count": null,
      "metadata": {
        "id": "TVcvIikYEHLO",
        "colab": {
          "base_uri": "https://localhost:8080/",
          "height": 546
        },
        "outputId": "b411db4c-a4f3-4329-da3f-1ea2f6fe0ba3"
      },
      "outputs": [
        {
          "output_type": "display_data",
          "data": {
            "text/plain": [
              "<Figure size 640x480 with 1 Axes>"
            ],
            "image/png": "[encoded data removed]"
          },
          "metadata": {}
        },
        {
          "output_type": "stream",
          "name": "stdout",
          "text": [
            "RMSE: 1.9306152765726488\n",
            "MSE: 3.727275346135685\n",
            "R2: 0.8220658624592107\n",
            "MAPE: inf%\n"
          ]
        }
      ],
      "source": [
        "# Entrenar el modelo Ridge\n",
        "model_ridge = Ridge(\n",
        "    alpha=1.0\n",
        ")\n",
        "model_ridge.fit(X_train, y_train)\n",
        "\n",
        "y_pred = model_ridge.predict(X_test)\n",
        "\n",
        "# Calcula métricas de evaluación\n",
        "MSE = mean_squared_error(y_test, y_pred)\n",
        "R2 = r2_score(y_test, y_pred)\n",
        "APE = np.abs((y_test - y_pred) / y_test) * 100\n",
        "MAPE = np.mean(APE)\n",
        "RMSERIDGE = np.sqrt(MSE)\n",
        "\n",
        "# Representa las predicciones\n",
        "plt.plot(y_test.values, 'go')\n",
        "plt.plot(y_pred, 'ro')\n",
        "plt.title('Ridge Regression')\n",
        "plt.ylabel('Predictions')\n",
        "plt.xlabel('Item')\n",
        "plt.legend(['Real', 'Predicted'], loc='upper left')\n",
        "plt.show()\n",
        "\n",
        "print(f\"RMSE: {RMSERIDGE}\")\n",
        "print(f\"MSE: {MSE}\")\n",
        "print(f\"R2: {R2}\")\n",
        "print(f\"MAPE: {MAPE}%\")\n"
      ]
    },
    {
      "cell_type": "markdown",
      "metadata": {
        "id": "rFl1xtxRR3be"
      },
      "source": [
        "#### Evaluation ####\n"
      ]
    },
    {
      "cell_type": "markdown",
      "metadata": {
        "id": "GZM_rJAF_A0G"
      },
      "source": [
        "#### Hyperparametrization ####"
      ]
    },
    {
      "cell_type": "code",
      "execution_count": null,
      "metadata": {
        "id": "RVs76KLn_AnO",
        "colab": {
          "base_uri": "https://localhost:8080/"
        },
        "outputId": "e84e783b-fc5e-4955-8f9d-0246548e2d82"
      },
      "outputs": [
        {
          "output_type": "stream",
          "name": "stdout",
          "text": [
            "Fitting 5 folds for each of 10 candidates, totalling 50 fits\n"
          ]
        },
        {
          "output_type": "stream",
          "name": "stderr",
          "text": [
            "/usr/local/lib/python3.10/dist-packages/joblib/externals/loky/backend/fork_exec.py:38: RuntimeWarning: os.fork() was called. os.fork() is incompatible with multithreaded code, and JAX is multithreaded, so this will likely lead to a deadlock.\n",
            "  pid = os.fork()\n"
          ]
        },
        {
          "output_type": "stream",
          "name": "stdout",
          "text": [
            "Mejores hiperparámetros: {'n_estimators': 60, 'min_samples_split': 10, 'min_samples_leaf': 4, 'max_depth': 5, 'learning_rate': 0.12}\n",
            "RMSE: 1.8130049306957698\n",
            "R2: 0.8430845266152441\n"
          ]
        }
      ],
      "source": [
        "# Definir hiperparámetros\n",
        "param_dist = {\n",
        "    'n_estimators': [10, 30, 60, 250, 400, 1000],\n",
        "    'learning_rate': [0.001, 0.01, 0.1, 0.2, 0.3, 0.12],\n",
        "    'max_depth': [3, 5, 7, 9, 15],\n",
        "    'min_samples_split': [2, 5, 10, 5],\n",
        "    'min_samples_leaf': [1, 2, 4, 3],\n",
        "}\n",
        "\n",
        "# Configurar el estimador\n",
        "gb=GradientBoostingRegressor()\n",
        "\n",
        "# Crear un objeto RandomizedSearchCV\n",
        "random_search=RandomizedSearchCV(gb, param_distributions=param_dist, n_iter=10, cv=5, n_jobs=-1, verbose=2)\n",
        "\n",
        "# Ajustar RandomizedSearchCV a los datos de entrenamiento\n",
        "random_search.fit(X_train, y_train)\n",
        "\n",
        "# Obtener la mejor combinación de hiperparámetros y el modelo ajustado\n",
        "best_params=random_search.best_params_\n",
        "best_model=random_search.best_estimator_\n",
        "\n",
        "# Realizar predicciones\n",
        "y_pred=best_model.predict(X_test)\n",
        "\n",
        "# Calcular métricas de rendimiento\n",
        "MSE=mean_squared_error(y_test, y_pred)\n",
        "R2=r2_score(y_test, y_pred)\n",
        "RMSEGBRH=np.sqrt(MSE)\n",
        "\n",
        "# Mostrar los resultados\n",
        "print(\"Mejores hiperparámetros:\", best_params)\n",
        "print(f\"RMSE: {RMSEGBRH}\")\n",
        "print(f\"R2: {R2}\")\n"
      ]
    },
    {
      "cell_type": "code",
      "execution_count": null,
      "metadata": {
        "id": "BpjypQKv_u8I",
        "colab": {
          "base_uri": "https://localhost:8080/"
        },
        "outputId": "80652e83-e29a-4f45-c75d-e2ec65b1d15e"
      },
      "outputs": [
        {
          "output_type": "stream",
          "name": "stderr",
          "text": [
            "[I 2024-06-14 16:29:10,477] A new study created in memory with name: no-name-dddf2099-fbb3-49bf-8b12-8c9c3eb2d548\n",
            "[I 2024-06-14 16:29:10,991] Trial 0 finished with value: 22.08723110438854 and parameters: {'n_estimators': 89, 'max_depth': 28, 'min_samples_split': 0.7038269970397114, 'min_samples_leaf': 0.2397842373819759}. Best is trial 0 with value: 22.08723110438854.\n",
            "[I 2024-06-14 16:29:11,711] Trial 1 finished with value: 22.094467733564375 and parameters: {'n_estimators': 140, 'max_depth': 16, 'min_samples_split': 0.6060240949971213, 'min_samples_leaf': 0.4026556470190693}. Best is trial 0 with value: 22.08723110438854.\n",
            "[I 2024-06-14 16:29:12,690] Trial 2 finished with value: 15.898747785636937 and parameters: {'n_estimators': 193, 'max_depth': 26, 'min_samples_split': 0.6119917719532436, 'min_samples_leaf': 0.3094087755080891}. Best is trial 2 with value: 15.898747785636937.\n",
            "[I 2024-06-14 16:29:12,837] Trial 3 finished with value: 10.767873996775517 and parameters: {'n_estimators': 57, 'max_depth': 3, 'min_samples_split': 0.35044220380604507, 'min_samples_leaf': 0.2791555161904376}. Best is trial 3 with value: 10.767873996775517.\n",
            "[I 2024-06-14 16:29:13,158] Trial 4 finished with value: 9.66440714677457 and parameters: {'n_estimators': 138, 'max_depth': 16, 'min_samples_split': 0.5845794012784816, 'min_samples_leaf': 0.1295605022113108}. Best is trial 4 with value: 9.66440714677457.\n",
            "[I 2024-06-14 16:29:13,216] Trial 5 finished with value: 22.097975651809357 and parameters: {'n_estimators': 21, 'max_depth': 5, 'min_samples_split': 0.5965113461583962, 'min_samples_leaf': 0.3483981042518865}. Best is trial 4 with value: 9.66440714677457.\n",
            "[I 2024-06-14 16:29:13,272] Trial 6 finished with value: 22.097975651809357 and parameters: {'n_estimators': 21, 'max_depth': 16, 'min_samples_split': 0.8741718511686687, 'min_samples_leaf': 0.34269547740734163}. Best is trial 4 with value: 9.66440714677457.\n",
            "[I 2024-06-14 16:29:14,491] Trial 7 finished with value: 10.38528215848098 and parameters: {'n_estimators': 257, 'max_depth': 21, 'min_samples_split': 0.43536953049813387, 'min_samples_leaf': 0.23818016265926012}. Best is trial 4 with value: 9.66440714677457.\n",
            "[I 2024-06-14 16:29:14,740] Trial 8 finished with value: 5.289778203414869 and parameters: {'n_estimators': 69, 'max_depth': 17, 'min_samples_split': 0.2418187393420846, 'min_samples_leaf': 0.12095811836261805}. Best is trial 8 with value: 5.289778203414869.\n",
            "[I 2024-06-14 16:29:15,886] Trial 9 finished with value: 7.858764354625694 and parameters: {'n_estimators': 256, 'max_depth': 18, 'min_samples_split': 0.23143512726329615, 'min_samples_leaf': 0.15300885667944095}. Best is trial 8 with value: 5.289778203414869.\n",
            "[I 2024-06-14 16:29:16,613] Trial 10 finished with value: 22.07229468359453 and parameters: {'n_estimators': 96, 'max_depth': 9, 'min_samples_split': 0.161026042605951, 'min_samples_leaf': 0.4465002086865015}. Best is trial 8 with value: 5.289778203414869.\n",
            "[I 2024-06-14 16:29:18,707] Trial 11 finished with value: 4.582647024034708 and parameters: {'n_estimators': 300, 'max_depth': 21, 'min_samples_split': 0.10994813120167651, 'min_samples_leaf': 0.10800059516689015}. Best is trial 11 with value: 4.582647024034708.\n",
            "[I 2024-06-14 16:29:20,756] Trial 12 finished with value: 4.131990668526186 and parameters: {'n_estimators': 195, 'max_depth': 23, 'min_samples_split': 0.11214647394419774, 'min_samples_leaf': 0.10253018768882012}. Best is trial 12 with value: 4.131990668526186.\n",
            "[I 2024-06-14 16:29:22,479] Trial 13 finished with value: 9.538430460339695 and parameters: {'n_estimators': 300, 'max_depth': 32, 'min_samples_split': 0.10082868466180674, 'min_samples_leaf': 0.18817146006905677}. Best is trial 12 with value: 4.131990668526186.\n",
            "[I 2024-06-14 16:29:23,085] Trial 14 finished with value: 8.67743626291384 and parameters: {'n_estimators': 199, 'max_depth': 24, 'min_samples_split': 0.35554473942736553, 'min_samples_leaf': 0.1010299235434127}. Best is trial 12 with value: 4.131990668526186.\n",
            "[I 2024-06-14 16:29:23,653] Trial 15 finished with value: 22.10241216725464 and parameters: {'n_estimators': 206, 'max_depth': 10, 'min_samples_split': 0.9968000857578898, 'min_samples_leaf': 0.18249712274093927}. Best is trial 12 with value: 4.131990668526186.\n",
            "[I 2024-06-14 16:29:24,557] Trial 16 finished with value: 9.647867339207323 and parameters: {'n_estimators': 300, 'max_depth': 21, 'min_samples_split': 0.413915103533553, 'min_samples_leaf': 0.19199310681004744}. Best is trial 12 with value: 4.131990668526186.\n",
            "[I 2024-06-14 16:29:25,126] Trial 17 finished with value: 4.4153335554282735 and parameters: {'n_estimators': 237, 'max_depth': 30, 'min_samples_split': 0.232457045171218, 'min_samples_leaf': 0.10288846164103678}. Best is trial 12 with value: 4.131990668526186.\n",
            "[I 2024-06-14 16:29:25,492] Trial 18 finished with value: 10.312685726880304 and parameters: {'n_estimators': 237, 'max_depth': 31, 'min_samples_split': 0.2343453278082287, 'min_samples_leaf': 0.23595099086844878}. Best is trial 12 with value: 4.131990668526186.\n",
            "[I 2024-06-14 16:29:25,775] Trial 19 finished with value: 9.204710049214246 and parameters: {'n_estimators': 170, 'max_depth': 28, 'min_samples_split': 0.29331466536302175, 'min_samples_leaf': 0.1752673702062582}. Best is trial 12 with value: 4.131990668526186.\n",
            "[I 2024-06-14 16:29:26,094] Trial 20 finished with value: 22.100326631550544 and parameters: {'n_estimators': 229, 'max_depth': 24, 'min_samples_split': 0.47191217417033193, 'min_samples_leaf': 0.46906545108185405}. Best is trial 12 with value: 4.131990668526186.\n",
            "[I 2024-06-14 16:29:26,522] Trial 21 finished with value: 6.361685012374079 and parameters: {'n_estimators': 262, 'max_depth': 20, 'min_samples_split': 0.10954887035702462, 'min_samples_leaf': 0.14166171784739853}. Best is trial 12 with value: 4.131990668526186.\n",
            "[I 2024-06-14 16:29:26,976] Trial 22 finished with value: 4.347781594366897 and parameters: {'n_estimators': 274, 'max_depth': 28, 'min_samples_split': 0.15548284100647772, 'min_samples_leaf': 0.10513810210850007}. Best is trial 12 with value: 4.131990668526186.\n",
            "[I 2024-06-14 16:29:27,260] Trial 23 finished with value: 8.1859273720278 and parameters: {'n_estimators': 169, 'max_depth': 29, 'min_samples_split': 0.17364312894971315, 'min_samples_leaf': 0.15643365627211006}. Best is trial 12 with value: 4.131990668526186.\n",
            "[I 2024-06-14 16:29:27,612] Trial 24 finished with value: 7.802586418256068 and parameters: {'n_estimators': 227, 'max_depth': 25, 'min_samples_split': 0.32857704773630003, 'min_samples_leaf': 0.10361749860179958}. Best is trial 12 with value: 4.131990668526186.\n",
            "[I 2024-06-14 16:29:27,998] Trial 25 finished with value: 9.970353182701668 and parameters: {'n_estimators': 268, 'max_depth': 30, 'min_samples_split': 0.19465910691474095, 'min_samples_leaf': 0.21975825412117933}. Best is trial 12 with value: 4.131990668526186.\n",
            "[I 2024-06-14 16:29:28,387] Trial 26 finished with value: 7.103410050359054 and parameters: {'n_estimators': 217, 'max_depth': 27, 'min_samples_split': 0.27068837297932014, 'min_samples_leaf': 0.1489801552397793}. Best is trial 12 with value: 4.131990668526186.\n",
            "[I 2024-06-14 16:29:28,796] Trial 27 finished with value: 10.787648441108065 and parameters: {'n_estimators': 278, 'max_depth': 32, 'min_samples_split': 0.5190490412208809, 'min_samples_leaf': 0.2681521577615648}. Best is trial 12 with value: 4.131990668526186.\n",
            "[I 2024-06-14 16:29:29,129] Trial 28 finished with value: 22.091797262447944 and parameters: {'n_estimators': 248, 'max_depth': 23, 'min_samples_split': 0.7112518042231771, 'min_samples_leaf': 0.21711731064894388}. Best is trial 12 with value: 4.131990668526186.\n",
            "[I 2024-06-14 16:29:29,404] Trial 29 finished with value: 22.112827452012617 and parameters: {'n_estimators': 190, 'max_depth': 28, 'min_samples_split': 0.7103235065192655, 'min_samples_leaf': 0.13271861427193749}. Best is trial 12 with value: 4.131990668526186.\n",
            "[I 2024-06-14 16:29:29,666] Trial 30 finished with value: 9.620313488695578 and parameters: {'n_estimators': 172, 'max_depth': 26, 'min_samples_split': 0.16612468469926056, 'min_samples_leaf': 0.2081565505530592}. Best is trial 12 with value: 4.131990668526186.\n",
            "[I 2024-06-14 16:29:30,133] Trial 31 finished with value: 3.8623577013377357 and parameters: {'n_estimators': 279, 'max_depth': 22, 'min_samples_split': 0.1072723835923966, 'min_samples_leaf': 0.10040562877054264}. Best is trial 31 with value: 3.8623577013377357.\n",
            "[I 2024-06-14 16:29:30,573] Trial 32 finished with value: 8.67582228737681 and parameters: {'n_estimators': 281, 'max_depth': 23, 'min_samples_split': 0.1586414255012786, 'min_samples_leaf': 0.16284737174774863}. Best is trial 31 with value: 3.8623577013377357.\n",
            "[I 2024-06-14 16:29:30,977] Trial 33 finished with value: 5.601842852945584 and parameters: {'n_estimators': 241, 'max_depth': 19, 'min_samples_split': 0.20691096045057383, 'min_samples_leaf': 0.1310211973407642}. Best is trial 31 with value: 3.8623577013377357.\n",
            "[I 2024-06-14 16:29:31,219] Trial 34 finished with value: 5.696705111866107 and parameters: {'n_estimators': 137, 'max_depth': 12, 'min_samples_split': 0.2982447662950911, 'min_samples_leaf': 0.10272939690431573}. Best is trial 31 with value: 3.8623577013377357.\n",
            "[I 2024-06-14 16:29:31,682] Trial 35 finished with value: 5.4448613634118725 and parameters: {'n_estimators': 278, 'max_depth': 29, 'min_samples_split': 0.10409037593863792, 'min_samples_leaf': 0.12589874889853356}. Best is trial 31 with value: 3.8623577013377357.\n",
            "[I 2024-06-14 16:29:32,006] Trial 36 finished with value: 22.102487763926938 and parameters: {'n_estimators': 215, 'max_depth': 14, 'min_samples_split': 0.3587502962667959, 'min_samples_leaf': 0.4158268023085269}. Best is trial 31 with value: 3.8623577013377357.\n",
            "[I 2024-06-14 16:29:32,643] Trial 37 finished with value: 18.267666917261845 and parameters: {'n_estimators': 285, 'max_depth': 27, 'min_samples_split': 0.1545663198189048, 'min_samples_leaf': 0.31389408342627123}. Best is trial 31 with value: 3.8623577013377357.\n",
            "[I 2024-06-14 16:29:32,957] Trial 38 finished with value: 8.806370611104327 and parameters: {'n_estimators': 120, 'max_depth': 22, 'min_samples_split': 0.24999860357690853, 'min_samples_leaf': 0.16574255395131637}. Best is trial 31 with value: 3.8623577013377357.\n",
            "[I 2024-06-14 16:29:33,374] Trial 39 finished with value: 22.112827452012617 and parameters: {'n_estimators': 190, 'max_depth': 26, 'min_samples_split': 0.7692645245301764, 'min_samples_leaf': 0.11992340108116928}. Best is trial 31 with value: 3.8623577013377357.\n",
            "[I 2024-06-14 16:29:33,988] Trial 40 finished with value: 10.777337492112588 and parameters: {'n_estimators': 251, 'max_depth': 30, 'min_samples_split': 0.20325013931521874, 'min_samples_leaf': 0.26520613923922276}. Best is trial 31 with value: 3.8623577013377357.\n",
            "[I 2024-06-14 16:29:34,771] Trial 41 finished with value: 4.08998530917678 and parameters: {'n_estimators': 291, 'max_depth': 19, 'min_samples_split': 0.12474203488770595, 'min_samples_leaf': 0.10231133716067754}. Best is trial 31 with value: 3.8623577013377357.\n",
            "[I 2024-06-14 16:29:35,500] Trial 42 finished with value: 6.387435340501685 and parameters: {'n_estimators': 269, 'max_depth': 19, 'min_samples_split': 0.14034030351393592, 'min_samples_leaf': 0.14098610922320373}. Best is trial 31 with value: 3.8623577013377357.\n",
            "[I 2024-06-14 16:29:36,150] Trial 43 finished with value: 5.40398352736384 and parameters: {'n_estimators': 233, 'max_depth': 17, 'min_samples_split': 0.21968240702639724, 'min_samples_leaf': 0.12338081892329547}. Best is trial 31 with value: 3.8623577013377357.\n",
            "[I 2024-06-14 16:29:36,949] Trial 44 finished with value: 3.855041879530563 and parameters: {'n_estimators': 288, 'max_depth': 14, 'min_samples_split': 0.1398633825625313, 'min_samples_leaf': 0.10001356999190965}. Best is trial 44 with value: 3.855041879530563.\n",
            "[I 2024-06-14 16:29:37,594] Trial 45 finished with value: 5.15833485604918 and parameters: {'n_estimators': 290, 'max_depth': 14, 'min_samples_split': 0.13641177474131605, 'min_samples_leaf': 0.11670159676728292}. Best is trial 44 with value: 3.855041879530563.\n",
            "[I 2024-06-14 16:29:37,955] Trial 46 finished with value: 22.091262892102492 and parameters: {'n_estimators': 265, 'max_depth': 15, 'min_samples_split': 0.1327222671481193, 'min_samples_leaf': 0.3702403533985871}. Best is trial 44 with value: 3.855041879530563.\n",
            "[I 2024-06-14 16:29:38,057] Trial 47 finished with value: 7.3538906633791115 and parameters: {'n_estimators': 43, 'max_depth': 12, 'min_samples_split': 0.1867538168375608, 'min_samples_leaf': 0.1473844821675198}. Best is trial 44 with value: 3.855041879530563.\n",
            "[I 2024-06-14 16:29:38,506] Trial 48 finished with value: 9.305344440618892 and parameters: {'n_estimators': 287, 'max_depth': 19, 'min_samples_split': 0.2807924796928081, 'min_samples_leaf': 0.17429660569330468}. Best is trial 44 with value: 3.855041879530563.\n",
            "[I 2024-06-14 16:29:38,905] Trial 49 finished with value: 9.643039415874636 and parameters: {'n_estimators': 253, 'max_depth': 6, 'min_samples_split': 0.41081350181863974, 'min_samples_leaf': 0.1980904491559276}. Best is trial 44 with value: 3.855041879530563.\n",
            "[I 2024-06-14 16:29:39,365] Trial 50 finished with value: 7.87131657129728 and parameters: {'n_estimators': 296, 'max_depth': 17, 'min_samples_split': 0.32591166220983786, 'min_samples_leaf': 0.11689766427298741}. Best is trial 44 with value: 3.855041879530563.\n",
            "[I 2024-06-14 16:29:39,846] Trial 51 finished with value: 4.344816783029402 and parameters: {'n_estimators': 272, 'max_depth': 21, 'min_samples_split': 0.10197928906936281, 'min_samples_leaf': 0.10453711081681683}. Best is trial 44 with value: 3.855041879530563.\n",
            "[I 2024-06-14 16:29:40,302] Trial 52 finished with value: 4.114814630522886 and parameters: {'n_estimators': 273, 'max_depth': 22, 'min_samples_split': 0.10355358489673623, 'min_samples_leaf': 0.10233901243574776}. Best is trial 44 with value: 3.855041879530563.\n",
            "[I 2024-06-14 16:29:40,739] Trial 53 finished with value: 5.845603740110087 and parameters: {'n_estimators': 263, 'max_depth': 21, 'min_samples_split': 0.10055395135988807, 'min_samples_leaf': 0.1377246621748964}. Best is trial 44 with value: 3.855041879530563.\n",
            "[I 2024-06-14 16:29:40,953] Trial 54 finished with value: 3.829587726933218 and parameters: {'n_estimators': 111, 'max_depth': 22, 'min_samples_split': 0.1314975679892285, 'min_samples_leaf': 0.10050077188562391}. Best is trial 54 with value: 3.829587726933218.\n",
            "[I 2024-06-14 16:29:41,131] Trial 55 finished with value: 5.376976304824596 and parameters: {'n_estimators': 95, 'max_depth': 23, 'min_samples_split': 0.18667709400691848, 'min_samples_leaf': 0.1204432499554764}. Best is trial 54 with value: 3.829587726933218.\n",
            "[I 2024-06-14 16:29:41,269] Trial 56 finished with value: 8.458391290964554 and parameters: {'n_estimators': 74, 'max_depth': 24, 'min_samples_split': 0.13130775361229274, 'min_samples_leaf': 0.16024626717473878}. Best is trial 54 with value: 3.829587726933218.\n",
            "[I 2024-06-14 16:29:41,478] Trial 57 finished with value: 5.801653680077399 and parameters: {'n_estimators': 115, 'max_depth': 18, 'min_samples_split': 0.2422551971287279, 'min_samples_leaf': 0.13538527436188336}. Best is trial 54 with value: 3.829587726933218.\n",
            "[I 2024-06-14 16:29:41,701] Trial 58 finished with value: 18.41660849287693 and parameters: {'n_estimators': 145, 'max_depth': 20, 'min_samples_split': 0.6423507149025549, 'min_samples_leaf': 0.11654748457310876}. Best is trial 54 with value: 3.829587726933218.\n",
            "[I 2024-06-14 16:29:41,920] Trial 59 finished with value: 3.829420065048538 and parameters: {'n_estimators': 112, 'max_depth': 22, 'min_samples_split': 0.13118798020920322, 'min_samples_leaf': 0.10071613557680362}. Best is trial 59 with value: 3.829420065048538.\n",
            "[I 2024-06-14 16:29:42,137] Trial 60 finished with value: 7.939967235000344 and parameters: {'n_estimators': 111, 'max_depth': 16, 'min_samples_split': 0.17406941231231568, 'min_samples_leaf': 0.15222413159236092}. Best is trial 59 with value: 3.829420065048538.\n",
            "[I 2024-06-14 16:29:42,358] Trial 61 finished with value: 3.867753392515408 and parameters: {'n_estimators': 122, 'max_depth': 22, 'min_samples_split': 0.1313957606268017, 'min_samples_leaf': 0.10080896978314925}. Best is trial 59 with value: 3.829420065048538.\n",
            "[I 2024-06-14 16:29:42,559] Trial 62 finished with value: 3.8306870777892 and parameters: {'n_estimators': 108, 'max_depth': 22, 'min_samples_split': 0.14172053097949106, 'min_samples_leaf': 0.10121672739139537}. Best is trial 59 with value: 3.829420065048538.\n",
            "[I 2024-06-14 16:29:42,797] Trial 63 finished with value: 5.090485771406657 and parameters: {'n_estimators': 128, 'max_depth': 20, 'min_samples_split': 0.21408028834662962, 'min_samples_leaf': 0.11525864836338218}. Best is trial 59 with value: 3.829420065048538.\n",
            "[I 2024-06-14 16:29:42,968] Trial 64 finished with value: 6.189874637475159 and parameters: {'n_estimators': 82, 'max_depth': 22, 'min_samples_split': 0.1354654205761916, 'min_samples_leaf': 0.13863464560137465}. Best is trial 59 with value: 3.829420065048538.\n",
            "[I 2024-06-14 16:29:43,157] Trial 65 finished with value: 5.482885918165925 and parameters: {'n_estimators': 105, 'max_depth': 25, 'min_samples_split': 0.18159350486483233, 'min_samples_leaf': 0.1286773773824249}. Best is trial 59 with value: 3.829420065048538.\n",
            "[I 2024-06-14 16:29:43,300] Trial 66 finished with value: 22.084846109700702 and parameters: {'n_estimators': 87, 'max_depth': 25, 'min_samples_split': 0.9121106622712325, 'min_samples_leaf': 0.17558853058423435}. Best is trial 59 with value: 3.829420065048538.\n",
            "[I 2024-06-14 16:29:43,566] Trial 67 finished with value: 5.149504131730653 and parameters: {'n_estimators': 155, 'max_depth': 20, 'min_samples_split': 0.25214603800902924, 'min_samples_leaf': 0.11133977987873328}. Best is trial 59 with value: 3.829420065048538.\n",
            "[I 2024-06-14 16:29:43,764] Trial 68 finished with value: 3.8462695617309004 and parameters: {'n_estimators': 101, 'max_depth': 18, 'min_samples_split': 0.14293616950751886, 'min_samples_leaf': 0.10011308346061903}. Best is trial 59 with value: 3.829420065048538.\n",
            "[I 2024-06-14 16:29:44,016] Trial 69 finished with value: 7.042984185141736 and parameters: {'n_estimators': 130, 'max_depth': 18, 'min_samples_split': 0.15738895929806956, 'min_samples_leaf': 0.14886256239712975}. Best is trial 59 with value: 3.829420065048538.\n",
            "[I 2024-06-14 16:29:44,202] Trial 70 finished with value: 5.556783481860618 and parameters: {'n_estimators': 102, 'max_depth': 12, 'min_samples_split': 0.21325310985556897, 'min_samples_leaf': 0.13212578515141826}. Best is trial 59 with value: 3.829420065048538.\n",
            "[I 2024-06-14 16:29:44,330] Trial 71 finished with value: 3.7923527473833474 and parameters: {'n_estimators': 59, 'max_depth': 22, 'min_samples_split': 0.13978237371915675, 'min_samples_leaf': 0.1004938683505292}. Best is trial 71 with value: 3.7923527473833474.\n",
            "[I 2024-06-14 16:29:44,453] Trial 72 finished with value: 5.232389460073562 and parameters: {'n_estimators': 57, 'max_depth': 22, 'min_samples_split': 0.15642974530022152, 'min_samples_leaf': 0.11383143396021524}. Best is trial 71 with value: 3.7923527473833474.\n",
            "[I 2024-06-14 16:29:44,520] Trial 73 finished with value: 5.160787207632923 and parameters: {'n_estimators': 12, 'max_depth': 24, 'min_samples_split': 0.18974434086911857, 'min_samples_leaf': 0.12788624549808036}. Best is trial 71 with value: 3.7923527473833474.\n",
            "[I 2024-06-14 16:29:44,639] Trial 74 finished with value: 5.213814525414202 and parameters: {'n_estimators': 42, 'max_depth': 21, 'min_samples_split': 0.2642722147087293, 'min_samples_leaf': 0.1108545024243325}. Best is trial 71 with value: 3.7923527473833474.\n",
            "[I 2024-06-14 16:29:44,919] Trial 75 finished with value: 4.141106627749869 and parameters: {'n_estimators': 149, 'max_depth': 24, 'min_samples_split': 0.13610144308824237, 'min_samples_leaf': 0.102280713800762}. Best is trial 71 with value: 3.7923527473833474.\n",
            "[I 2024-06-14 16:29:45,061] Trial 76 finished with value: 22.11338247922108 and parameters: {'n_estimators': 77, 'max_depth': 23, 'min_samples_split': 0.22736004187310938, 'min_samples_leaf': 0.4888591432840991}. Best is trial 71 with value: 3.7923527473833474.\n",
            "[I 2024-06-14 16:29:45,220] Trial 77 finished with value: 3.823368399506812 and parameters: {'n_estimators': 62, 'max_depth': 2, 'min_samples_split': 0.16851254157978238, 'min_samples_leaf': 0.10033400059745727}. Best is trial 71 with value: 3.7923527473833474.\n",
            "[I 2024-06-14 16:29:45,354] Trial 78 finished with value: 5.484723849971191 and parameters: {'n_estimators': 63, 'max_depth': 2, 'min_samples_split': 0.1703570696790941, 'min_samples_leaf': 0.12593207569831644}. Best is trial 71 with value: 3.7923527473833474.\n",
            "[I 2024-06-14 16:29:45,451] Trial 79 finished with value: 6.5496912366066535 and parameters: {'n_estimators': 41, 'max_depth': 7, 'min_samples_split': 0.1552211006610306, 'min_samples_leaf': 0.14340932986179467}. Best is trial 71 with value: 3.7923527473833474.\n",
            "[I 2024-06-14 16:29:45,558] Trial 80 finished with value: 12.58997558208592 and parameters: {'n_estimators': 50, 'max_depth': 8, 'min_samples_split': 0.30561588501665005, 'min_samples_leaf': 0.30135339480114864}. Best is trial 71 with value: 3.7923527473833474.\n",
            "[I 2024-06-14 16:29:45,750] Trial 81 finished with value: 4.938049759154084 and parameters: {'n_estimators': 96, 'max_depth': 10, 'min_samples_split': 0.12164197388063207, 'min_samples_leaf': 0.10987109454917021}. Best is trial 71 with value: 3.7923527473833474.\n",
            "[I 2024-06-14 16:29:45,833] Trial 82 finished with value: 4.063082295845435 and parameters: {'n_estimators': 31, 'max_depth': 4, 'min_samples_split': 0.19307129212889657, 'min_samples_leaf': 0.10068800584659965}. Best is trial 71 with value: 3.7923527473833474.\n",
            "[I 2024-06-14 16:29:46,072] Trial 83 finished with value: 5.493525821149133 and parameters: {'n_estimators': 125, 'max_depth': 22, 'min_samples_split': 0.12168919378214337, 'min_samples_leaf': 0.12467861699900405}. Best is trial 71 with value: 3.7923527473833474.\n",
            "[I 2024-06-14 16:29:46,291] Trial 84 finished with value: 9.646542302541928 and parameters: {'n_estimators': 135, 'max_depth': 25, 'min_samples_split': 0.560424509949001, 'min_samples_leaf': 0.11386148509018916}. Best is trial 71 with value: 3.7923527473833474.\n",
            "[I 2024-06-14 16:29:46,496] Trial 85 finished with value: 3.8306870777892 and parameters: {'n_estimators': 108, 'max_depth': 23, 'min_samples_split': 0.14495383456168495, 'min_samples_leaf': 0.10008838895800652}. Best is trial 71 with value: 3.7923527473833474.\n",
            "[I 2024-06-14 16:29:46,630] Trial 86 finished with value: 8.458900706440327 and parameters: {'n_estimators': 68, 'max_depth': 27, 'min_samples_split': 0.20449340713559444, 'min_samples_leaf': 0.15994899391233933}. Best is trial 71 with value: 3.7923527473833474.\n",
            "[I 2024-06-14 16:29:46,805] Trial 87 finished with value: 5.431363362534247 and parameters: {'n_estimators': 87, 'max_depth': 18, 'min_samples_split': 0.15568138462158404, 'min_samples_leaf': 0.12201180040257442}. Best is trial 71 with value: 3.7923527473833474.\n",
            "[I 2024-06-14 16:29:46,991] Trial 88 finished with value: 22.065561967896098 and parameters: {'n_estimators': 107, 'max_depth': 23, 'min_samples_split': 0.2322021546753697, 'min_samples_leaf': 0.34357541163753763}. Best is trial 71 with value: 3.7923527473833474.\n",
            "[I 2024-06-14 16:29:47,213] Trial 89 finished with value: 6.051731774049787 and parameters: {'n_estimators': 114, 'max_depth': 26, 'min_samples_split': 0.17638501662254263, 'min_samples_leaf': 0.139803320618975}. Best is trial 71 with value: 3.7923527473833474.\n",
            "[I 2024-06-14 16:29:47,363] Trial 90 finished with value: 22.07229468359453 and parameters: {'n_estimators': 96, 'max_depth': 21, 'min_samples_split': 0.1184234445649389, 'min_samples_leaf': 0.4117553159490355}. Best is trial 71 with value: 3.7923527473833474.\n",
            "[I 2024-06-14 16:29:47,743] Trial 91 finished with value: 3.8574850458280343 and parameters: {'n_estimators': 119, 'max_depth': 20, 'min_samples_split': 0.14333028798935066, 'min_samples_leaf': 0.1001234825366587}. Best is trial 71 with value: 3.7923527473833474.\n",
            "[I 2024-06-14 16:29:48,111] Trial 92 finished with value: 4.913080516471215 and parameters: {'n_estimators': 118, 'max_depth': 20, 'min_samples_split': 0.1463063784376879, 'min_samples_leaf': 0.11088998042789854}. Best is trial 71 with value: 3.7923527473833474.\n",
            "[I 2024-06-14 16:29:48,383] Trial 93 finished with value: 9.612505566137681 and parameters: {'n_estimators': 101, 'max_depth': 19, 'min_samples_split': 0.49269131875256955, 'min_samples_leaf': 0.1316154045726381}. Best is trial 71 with value: 3.7923527473833474.\n",
            "[I 2024-06-14 16:29:48,894] Trial 94 finished with value: 4.664689699819194 and parameters: {'n_estimators': 182, 'max_depth': 21, 'min_samples_split': 0.11828350400223199, 'min_samples_leaf': 0.10933924101318425}. Best is trial 71 with value: 3.7923527473833474.\n",
            "[I 2024-06-14 16:29:49,144] Trial 95 finished with value: 5.295140216968293 and parameters: {'n_estimators': 78, 'max_depth': 20, 'min_samples_split': 0.1712974853607837, 'min_samples_leaf': 0.11954734296148684}. Best is trial 71 with value: 3.7923527473833474.\n",
            "[I 2024-06-14 16:29:49,557] Trial 96 finished with value: 5.47883862561048 and parameters: {'n_estimators': 141, 'max_depth': 16, 'min_samples_split': 0.19943147348409884, 'min_samples_leaf': 0.12403933758631008}. Best is trial 71 with value: 3.7923527473833474.\n",
            "[I 2024-06-14 16:29:49,853] Trial 97 finished with value: 3.859628039918756 and parameters: {'n_estimators': 92, 'max_depth': 23, 'min_samples_split': 0.1027589568020637, 'min_samples_leaf': 0.10045648891113776}. Best is trial 71 with value: 3.7923527473833474.\n",
            "[I 2024-06-14 16:29:50,145] Trial 98 finished with value: 7.244724719758348 and parameters: {'n_estimators': 93, 'max_depth': 23, 'min_samples_split': 0.14653339797601764, 'min_samples_leaf': 0.14735624500302377}. Best is trial 71 with value: 3.7923527473833474.\n",
            "[I 2024-06-14 16:29:50,439] Trial 99 finished with value: 22.06137618700213 and parameters: {'n_estimators': 110, 'max_depth': 24, 'min_samples_split': 0.10480608862412792, 'min_samples_leaf': 0.3662304933408459}. Best is trial 71 with value: 3.7923527473833474.\n"
          ]
        },
        {
          "output_type": "stream",
          "name": "stdout",
          "text": [
            "Mejores hiperparámetros: {'n_estimators': 59, 'max_depth': 22, 'min_samples_split': 0.13978237371915675, 'min_samples_leaf': 0.1004938683505292}\n"
          ]
        }
      ],
      "source": [
        "# Definición de la función objetivo para la optimización de hiperparámetros\n",
        "def optimize_hyperparameters(trial):\n",
        "    # Establecimiento de rangos para los hiperparámetros del modelo\n",
        "    param_n_estimators = trial.suggest_int('n_estimators', 10, 300)\n",
        "    param_max_depth = trial.suggest_int('max_depth', 2, 32)\n",
        "    param_min_samples_split = trial.suggest_float('min_samples_split', 0.1, 1.0)\n",
        "    param_min_samples_leaf = trial.suggest_float('min_samples_leaf', 0.1, 0.5)\n",
        "\n",
        "    # Instanciación y configuración del modelo RandomForestRegressor\n",
        "    model = RandomForestRegressor(\n",
        "        n_estimators=param_n_estimators,\n",
        "        max_depth=param_max_depth,\n",
        "        min_samples_split=param_min_samples_split,\n",
        "        min_samples_leaf=param_min_samples_leaf,\n",
        "        random_state=42\n",
        "    )\n",
        "\n",
        "    # Entrenamiento del modelo y predicción en el conjunto de prueba\n",
        "    model.fit(X_train, y_train)\n",
        "    predictions = model.predict(X_test)\n",
        "\n",
        "    # Cálculo del Mean Squared Error (MSE)\n",
        "    mse_error = mean_squared_error(y_test, predictions)\n",
        "\n",
        "    return mse_error\n",
        "\n",
        "# Creación de un estudio de optimización con Optuna\n",
        "study = optuna.create_study(direction='minimize')\n",
        "\n",
        "# Supresión de la salida de consola durante la optimización\n",
        "with redirect_stdout(StringIO()), redirect_stderr(StringIO()):\n",
        "    # Ejecución del proceso de optimización\n",
        "    study.optimize(optimize_hyperparameters, n_trials=100)\n",
        "\n",
        "# Recuperación y presentación de los mejores hiperparámetros encontrados\n",
        "best_hyperparameters = study.best_params\n",
        "print(\"Mejores hiperparámetros:\", best_hyperparameters)\n"
      ]
    },
    {
      "cell_type": "markdown",
      "metadata": {
        "id": "1gN0KOX8-oRQ"
      },
      "source": [
        "### Deep Learning (DL) ###"
      ]
    },
    {
      "cell_type": "markdown",
      "metadata": {
        "id": "BYNRZBxB_DnO"
      },
      "source": [
        "#### Model ####"
      ]
    },
    {
      "cell_type": "markdown",
      "metadata": {
        "id": "mLiMf74ZFVmt"
      },
      "source": [
        "#### FNN ####"
      ]
    },
    {
      "cell_type": "code",
      "execution_count": null,
      "metadata": {
        "id": "pCPwjdWA-vTH",
        "colab": {
          "base_uri": "https://localhost:8080/",
          "height": 504
        },
        "outputId": "2ec38cb3-8992-4e67-c612-c005df891be6"
      },
      "outputs": [
        {
          "output_type": "stream",
          "name": "stdout",
          "text": [
            "2/2 [==============================] - 0s 7ms/step\n",
            "R-squared (FNN): 0.7783441000361192\n",
            "RMSE: 2.1547939494284347\n"
          ]
        },
        {
          "output_type": "display_data",
          "data": {
            "text/plain": [
              "<Figure size 640x480 with 1 Axes>"
            ],
            "image/png": "[encoded data removed]"
          },
          "metadata": {}
        }
      ],
      "source": [
        "# FNN\n",
        "# Definir y compilar el modelo\n",
        "fnn_model = Sequential()\n",
        "fnn_model.add(Dense(128, input_dim=X_train.shape[1], activation='relu', kernel_regularizer=l2(0.01)))\n",
        "fnn_model.add(BatchNormalization())\n",
        "fnn_model.add(Dense(64, activation='relu', kernel_regularizer=l2(0.01)))\n",
        "fnn_model.add(Dense(1, activation='linear', kernel_regularizer=l2(0.02)))\n",
        "optimizer = Adam(learning_rate=0.001)\n",
        "fnn_model.compile(optimizer=optimizer, loss='mean_squared_error')\n",
        "\n",
        "# Early Stopping\n",
        "early_stopping = EarlyStopping(monitor='val_loss', patience=2000, restore_best_weights=True)\n",
        "\n",
        "# Entrenar el modelo - Con 30 bien\n",
        "history = fnn_model.fit(X_train, y_train, epochs=20000, batch_size=100, validation_data=(X_test, y_test), callbacks=[early_stopping], verbose=0)\n",
        "\n",
        "# Evaluar\n",
        "fnn_predictions = fnn_model.predict(X_test)\n",
        "r2_fnn = r2_score(y_test, fnn_predictions)\n",
        "mse_fnn = mean_squared_error(y_test, fnn_predictions)\n",
        "print(f'R-squared (FNN): {r2_fnn}')\n",
        "print(f\"RMSE: {np.sqrt(mse_fnn)}\")\n",
        "RMSEFNN = np.sqrt(mse_fnn)\n",
        "\n",
        "# Historial de entrenamiento\n",
        "plt.plot(history.history['loss'], label='Training Loss')\n",
        "plt.plot(history.history['val_loss'], label='Validation Loss')\n",
        "plt.xlabel('Epochs')\n",
        "plt.ylabel('Mean Squared Error')\n",
        "plt.legend()\n",
        "plt.show()\n"
      ]
    },
    {
      "cell_type": "markdown",
      "metadata": {
        "id": "mGGr6mWvFre0"
      },
      "source": [
        "#### Bidirectional LSTM -BiLSTM ####"
      ]
    },
    {
      "cell_type": "code",
      "execution_count": null,
      "metadata": {
        "id": "DurELUVda7TF",
        "colab": {
          "base_uri": "https://localhost:8080/",
          "height": 523
        },
        "outputId": "08b4d7aa-587d-4d2f-a634-f6bbcaa74d51"
      },
      "outputs": [
        {
          "output_type": "stream",
          "name": "stdout",
          "text": [
            "2/2 [==============================] - 1s 9ms/step\n",
            "Mean Squared Error (BiLSTM): 4.067895479943834\n",
            "R-squared (BiLSTM): 0.8058052044423518\n",
            "RMSE (BiLSTM): 2.0169024468089263\n"
          ]
        },
        {
          "output_type": "display_data",
          "data": {
            "text/plain": [
              "<Figure size 640x480 with 1 Axes>"
            ],
            "image/png": "[encoded data removed]"
          },
          "metadata": {}
        }
      ],
      "source": [
        "# Formatear el dataset para pasarlo a 3D\n",
        "X_train_bilstm = X_train.values.reshape((X_train.shape[0], 1, X_train.shape[1]))\n",
        "X_test_bilstm = X_test.values.reshape((X_test.shape[0], 1, X_test.shape[1]))\n",
        "\n",
        "# Crear el modelo secuencial\n",
        "model_bilstm = Sequential()\n",
        "\n",
        "# Agregar las capas Bidirectional LSTM al modelo\n",
        "model_bilstm.add(Bidirectional(LSTM(64, activation='tanh'), input_shape=(1, X_train.shape[1])))\n",
        "model_bilstm.add(Dense(32, activation='relu'))\n",
        "model_bilstm.add(Dense(1, activation='linear'))\n",
        "\n",
        "# Early stopping\n",
        "early_stopping = EarlyStopping(monitor='val_loss', patience=60, restore_best_weights=True)\n",
        "\n",
        "# Configure the Adam optimizer with a learning rate schedule\n",
        "initial_learning_rate = 0.01\n",
        "lr_schedule = tf.keras.optimizers.schedules.ExponentialDecay(\n",
        "    initial_learning_rate, decay_steps=200, decay_rate=0.4, staircase=True)\n",
        "custom_optimizer = Adam(learning_rate=lr_schedule)\n",
        "\n",
        "# Compilar el modelo\n",
        "model_bilstm.compile(optimizer=custom_optimizer, loss='mean_squared_error')\n",
        "\n",
        "# Entrenar el modelo\n",
        "history_bilstm = model_bilstm.fit(X_train_bilstm, y_train, epochs=3000, batch_size=3000, validation_data=(X_test_bilstm, y_test), callbacks=[early_stopping], verbose=0)\n",
        "\n",
        "# Evaluar\n",
        "bilstm_predictions = model_bilstm.predict(X_test_bilstm)\n",
        "mse_bilstm = mean_squared_error(y_test, bilstm_predictions)\n",
        "r2_bilstm = r2_score(y_test, bilstm_predictions)\n",
        "print(f'Mean Squared Error (BiLSTM): {mse_bilstm}')\n",
        "print(f'R-squared (BiLSTM): {r2_bilstm}')\n",
        "print(f'RMSE (BiLSTM): {np.sqrt(mse_bilstm)}')\n",
        "BILSTM  = np.sqrt(mse_bilstm)\n",
        "\n",
        "# Historial de entrenamiento\n",
        "plt.plot(history_bilstm.history['loss'], label='Training Loss (BiLSTM)')\n",
        "plt.plot(history_bilstm.history['val_loss'], label='Validation Loss (BiLSTM)')\n",
        "plt.xlabel('Epochs')\n",
        "plt.ylabel('Mean Squared Error')\n",
        "plt.legend()\n",
        "plt.show()\n"
      ]
    },
    {
      "cell_type": "markdown",
      "metadata": {
        "id": "-edSBKsHF1ad"
      },
      "source": [
        "#### Gated Recurrent Unit -GRU ####"
      ]
    },
    {
      "cell_type": "code",
      "execution_count": null,
      "metadata": {
        "colab": {
          "base_uri": "https://localhost:8080/",
          "height": 504
        },
        "id": "JcFq1APYa-A1",
        "outputId": "21dbae6f-1dca-4de8-fd51-d712bcd4299f"
      },
      "outputs": [
        {
          "output_type": "stream",
          "name": "stdout",
          "text": [
            "2/2 [==============================] - 1s 6ms/step\n",
            "Mean Squared Error (GRU): 3.3776234791952744\n",
            "R-squared (GRU): 0.838757680907255\n"
          ]
        },
        {
          "output_type": "display_data",
          "data": {
            "text/plain": [
              "<Figure size 640x480 with 1 Axes>"
            ],
            "image/png": "[encoded data removed]"
          },
          "metadata": {}
        }
      ],
      "source": [
        "# Formatear el dataset para pasarlo a 2D\n",
        "X_train_rnn = X_train.values.reshape((X_train.shape[0], 1, X_train.shape[1]))\n",
        "X_test_rnn = X_test.values.reshape((X_test.shape[0], 1, X_test.shape[1]))\n",
        "\n",
        "# Definir y compilar el modelo GRU\n",
        "gru_model = Sequential()\n",
        "gru_model.add(GRU(32, activation='tanh', input_shape=(1, X_train.shape[1]), kernel_regularizer='l2'))\n",
        "gru_model.add(Dense(64, activation='relu', kernel_regularizer='l2'))\n",
        "gru_model.add(Dense(1, activation='linear', kernel_regularizer='l2'))\n",
        "gru_model.compile(optimizer='adam', loss='mean_squared_error')\n",
        "\n",
        "early_stopping = EarlyStopping(monitor='val_loss', patience=300, restore_best_weights=True)\n",
        "\n",
        "# Entrenar el modelo\n",
        "history_gru = gru_model.fit(X_train_rnn, y_train, epochs=30000, batch_size=3000, validation_data=(X_test_rnn, y_test), callbacks=[early_stopping], verbose=0)\n",
        "\n",
        "# Evaluar\n",
        "gru_predictions = gru_model.predict(X_test_rnn)\n",
        "mse_gru = mean_squared_error(y_test, gru_predictions)\n",
        "r2_gru = r2_score(y_test, gru_predictions)\n",
        "print(f'Mean Squared Error (GRU): {mse_gru}')\n",
        "print(f'R-squared (GRU): {r2_gru}')\n",
        "RMSEGRU = np.sqrt(mse_gru)\n",
        "\n",
        "# Historial de entrenamiento\n",
        "plt.plot(history_gru.history['loss'], label='Training Loss (GRU)')\n",
        "plt.plot(history_gru.history['val_loss'], label='Validation Loss (GRU)')\n",
        "plt.xlabel('Epochs')\n",
        "plt.ylabel('Mean Squared Error')\n",
        "plt.legend()\n",
        "plt.show()\n"
      ]
    },
    {
      "cell_type": "markdown",
      "metadata": {
        "id": "kmkMjBI4_E5u"
      },
      "source": [
        "#### Evaluation ####"
      ]
    },
    {
      "cell_type": "markdown",
      "metadata": {
        "id": "fkIcouNu_HWn"
      },
      "source": [
        "#### Hyperparametrization ####"
      ]
    },
    {
      "cell_type": "code",
      "execution_count": null,
      "metadata": {
        "id": "w1wwiwei_HON",
        "colab": {
          "base_uri": "https://localhost:8080/"
        },
        "outputId": "0452b789-f75e-42a7-ec23-f4cae1a0fa25"
      },
      "outputs": [
        {
          "metadata": {
            "tags": null
          },
          "name": "stderr",
          "output_type": "stream",
          "text": [
            "[I 2024-06-14 16:33:18,216] A new study created in memory with name: no-name-c5f87fa3-05d6-4e8b-b635-b5ea12ae6619\n"
          ]
        },
        {
          "metadata": {
            "tags": null
          },
          "name": "stdout",
          "output_type": "stream",
          "text": [
            "2/2 [==============================] - 0s 7ms/step - loss: 20.9700\n"
          ]
        },
        {
          "metadata": {
            "tags": null
          },
          "name": "stderr",
          "output_type": "stream",
          "text": [
            "[I 2024-06-14 16:33:23,109] Trial 0 finished with value: 20.969955444335938 and parameters: {'n_layers': 3, 'n_units': 194, 'learning_rate': 0.08083353206108909}. Best is trial 0 with value: 20.969955444335938.\n"
          ]
        },
        {
          "metadata": {
            "tags": null
          },
          "name": "stdout",
          "output_type": "stream",
          "text": [
            "2/2 [==============================] - 0s 6ms/step - loss: 4.8031\n"
          ]
        },
        {
          "metadata": {
            "tags": null
          },
          "name": "stderr",
          "output_type": "stream",
          "text": [
            "[I 2024-06-14 16:33:29,307] Trial 1 finished with value: 4.803118705749512 and parameters: {'n_layers': 3, 'n_units': 54, 'learning_rate': 0.009868803586449659}. Best is trial 1 with value: 4.803118705749512.\n"
          ]
        },
        {
          "metadata": {
            "tags": null
          },
          "name": "stdout",
          "output_type": "stream",
          "text": [
            "2/2 [==============================] - 0s 7ms/step - loss: 2.8340\n"
          ]
        },
        {
          "metadata": {
            "tags": null
          },
          "name": "stderr",
          "output_type": "stream",
          "text": [
            "[I 2024-06-14 16:33:50,669] Trial 2 finished with value: 2.8339715003967285 and parameters: {'n_layers': 2, 'n_units': 208, 'learning_rate': 0.061354363073358655}. Best is trial 2 with value: 2.8339715003967285.\n"
          ]
        },
        {
          "metadata": {
            "tags": null
          },
          "name": "stdout",
          "output_type": "stream",
          "text": [
            "2/2 [==============================] - 0s 6ms/step - loss: 4.2891\n"
          ]
        },
        {
          "metadata": {
            "tags": null
          },
          "name": "stderr",
          "output_type": "stream",
          "text": [
            "[I 2024-06-14 16:33:56,508] Trial 3 finished with value: 4.2891316413879395 and parameters: {'n_layers': 1, 'n_units': 128, 'learning_rate': 0.04709689217886381}. Best is trial 2 with value: 2.8339715003967285.\n"
          ]
        },
        {
          "metadata": {
            "tags": null
          },
          "name": "stdout",
          "output_type": "stream",
          "text": [
            "2/2 [==============================] - 0s 5ms/step - loss: 4.0033\n"
          ]
        },
        {
          "metadata": {
            "tags": null
          },
          "name": "stderr",
          "output_type": "stream",
          "text": [
            "[I 2024-06-14 16:34:01,413] Trial 4 finished with value: 4.0032639503479 and parameters: {'n_layers': 1, 'n_units': 247, 'learning_rate': 0.05330200263032729}. Best is trial 2 with value: 2.8339715003967285.\n"
          ]
        },
        {
          "metadata": {
            "tags": null
          },
          "name": "stdout",
          "output_type": "stream",
          "text": [
            "2/2 [==============================] - 0s 9ms/step - loss: 2.6067\n"
          ]
        },
        {
          "metadata": {
            "tags": null
          },
          "name": "stderr",
          "output_type": "stream",
          "text": [
            "[I 2024-06-14 16:34:15,541] Trial 5 finished with value: 2.606727123260498 and parameters: {'n_layers': 3, 'n_units': 105, 'learning_rate': 0.061855661955154476}. Best is trial 5 with value: 2.606727123260498.\n"
          ]
        },
        {
          "metadata": {
            "tags": null
          },
          "name": "stdout",
          "output_type": "stream",
          "text": [
            "2/2 [==============================] - 0s 7ms/step - loss: 3.9075\n"
          ]
        },
        {
          "metadata": {
            "tags": null
          },
          "name": "stderr",
          "output_type": "stream",
          "text": [
            "[I 2024-06-14 16:34:20,826] Trial 6 finished with value: 3.9074699878692627 and parameters: {'n_layers': 1, 'n_units': 248, 'learning_rate': 0.061098616098902554}. Best is trial 5 with value: 2.606727123260498.\n"
          ]
        },
        {
          "metadata": {
            "tags": null
          },
          "name": "stdout",
          "output_type": "stream",
          "text": [
            "2/2 [==============================] - 0s 7ms/step - loss: 3.6772\n"
          ]
        },
        {
          "metadata": {
            "tags": null
          },
          "name": "stderr",
          "output_type": "stream",
          "text": [
            "[I 2024-06-14 16:34:26,671] Trial 7 finished with value: 3.6771531105041504 and parameters: {'n_layers': 1, 'n_units': 226, 'learning_rate': 0.06826861517390408}. Best is trial 5 with value: 2.606727123260498.\n"
          ]
        },
        {
          "metadata": {
            "tags": null
          },
          "name": "stdout",
          "output_type": "stream",
          "text": [
            "2/2 [==============================] - 0s 7ms/step - loss: 20.9480\n"
          ]
        },
        {
          "metadata": {
            "tags": null
          },
          "name": "stderr",
          "output_type": "stream",
          "text": [
            "[I 2024-06-14 16:34:31,594] Trial 8 finished with value: 20.94803237915039 and parameters: {'n_layers': 4, 'n_units': 66, 'learning_rate': 0.09436616031412391}. Best is trial 5 with value: 2.606727123260498.\n"
          ]
        },
        {
          "metadata": {
            "tags": null
          },
          "name": "stdout",
          "output_type": "stream",
          "text": [
            "2/2 [==============================] - 0s 7ms/step - loss: 2.8570\n"
          ]
        },
        {
          "metadata": {
            "tags": null
          },
          "name": "stderr",
          "output_type": "stream",
          "text": [
            "[I 2024-06-14 16:34:40,877] Trial 9 finished with value: 2.8570055961608887 and parameters: {'n_layers': 3, 'n_units': 51, 'learning_rate': 0.06950033000483304}. Best is trial 5 with value: 2.606727123260498.\n"
          ]
        },
        {
          "metadata": {
            "tags": null
          },
          "name": "stdout",
          "output_type": "stream",
          "text": [
            "2/2 [==============================] - 0s 7ms/step - loss: 3.8355\n"
          ]
        },
        {
          "metadata": {
            "tags": null
          },
          "name": "stderr",
          "output_type": "stream",
          "text": [
            "[I 2024-06-14 16:34:47,179] Trial 10 finished with value: 3.8354687690734863 and parameters: {'n_layers': 4, 'n_units': 115, 'learning_rate': 0.031046683522131815}. Best is trial 5 with value: 2.606727123260498.\n"
          ]
        },
        {
          "metadata": {
            "tags": null
          },
          "name": "stdout",
          "output_type": "stream",
          "text": [
            "2/2 [==============================] - 0s 7ms/step - loss: 3.1004\n"
          ]
        },
        {
          "metadata": {
            "tags": null
          },
          "name": "stderr",
          "output_type": "stream",
          "text": [
            "[I 2024-06-14 16:34:57,582] Trial 11 finished with value: 3.100351333618164 and parameters: {'n_layers': 2, 'n_units': 192, 'learning_rate': 0.03730805055853655}. Best is trial 5 with value: 2.606727123260498.\n"
          ]
        },
        {
          "metadata": {
            "tags": null
          },
          "name": "stdout",
          "output_type": "stream",
          "text": [
            "2/2 [==============================] - 0s 10ms/step - loss: 2.8321\n"
          ]
        },
        {
          "metadata": {
            "tags": null
          },
          "name": "stderr",
          "output_type": "stream",
          "text": [
            "[I 2024-06-14 16:35:04,927] Trial 12 finished with value: 2.8320751190185547 and parameters: {'n_layers': 2, 'n_units': 164, 'learning_rate': 0.0837172329203319}. Best is trial 5 with value: 2.606727123260498.\n"
          ]
        },
        {
          "metadata": {
            "tags": null
          },
          "name": "stdout",
          "output_type": "stream",
          "text": [
            "2/2 [==============================] - 0s 7ms/step - loss: 20.9557\n"
          ]
        },
        {
          "metadata": {
            "tags": null
          },
          "name": "stderr",
          "output_type": "stream",
          "text": [
            "[I 2024-06-14 16:35:08,964] Trial 13 finished with value: 20.955652236938477 and parameters: {'n_layers': 2, 'n_units': 149, 'learning_rate': 0.0953014075025636}. Best is trial 5 with value: 2.606727123260498.\n"
          ]
        },
        {
          "metadata": {
            "tags": null
          },
          "name": "stdout",
          "output_type": "stream",
          "text": [
            "2/2 [==============================] - 0s 9ms/step - loss: 21.0122\n"
          ]
        },
        {
          "metadata": {
            "tags": null
          },
          "name": "stderr",
          "output_type": "stream",
          "text": [
            "[I 2024-06-14 16:35:20,281] Trial 14 finished with value: 21.012161254882812 and parameters: {'n_layers': 3, 'n_units': 95, 'learning_rate': 0.08190526844321465}. Best is trial 5 with value: 2.606727123260498.\n"
          ]
        },
        {
          "metadata": {
            "tags": null
          },
          "name": "stdout",
          "output_type": "stream",
          "text": [
            "2/2 [==============================] - 0s 8ms/step - loss: 2.8023\n"
          ]
        },
        {
          "metadata": {
            "tags": null
          },
          "name": "stderr",
          "output_type": "stream",
          "text": [
            "[I 2024-06-14 16:35:31,506] Trial 15 finished with value: 2.8023409843444824 and parameters: {'n_layers': 2, 'n_units': 166, 'learning_rate': 0.07528499617573048}. Best is trial 5 with value: 2.606727123260498.\n"
          ]
        },
        {
          "metadata": {
            "tags": null
          },
          "name": "stdout",
          "output_type": "stream",
          "text": [
            "2/2 [==============================] - 0s 7ms/step - loss: 5.3027\n"
          ]
        },
        {
          "metadata": {
            "tags": null
          },
          "name": "stderr",
          "output_type": "stream",
          "text": [
            "[I 2024-06-14 16:35:38,016] Trial 16 finished with value: 5.302719593048096 and parameters: {'n_layers': 4, 'n_units': 91, 'learning_rate': 0.0038537879836920905}. Best is trial 5 with value: 2.606727123260498.\n"
          ]
        },
        {
          "metadata": {
            "tags": null
          },
          "name": "stdout",
          "output_type": "stream",
          "text": [
            "2/2 [==============================] - 0s 6ms/step - loss: 2.9603\n"
          ]
        },
        {
          "metadata": {
            "tags": null
          },
          "name": "stderr",
          "output_type": "stream",
          "text": [
            "[I 2024-06-14 16:35:49,990] Trial 17 finished with value: 2.9603471755981445 and parameters: {'n_layers': 3, 'n_units': 161, 'learning_rate': 0.03154887324106563}. Best is trial 5 with value: 2.606727123260498.\n"
          ]
        },
        {
          "metadata": {
            "tags": null
          },
          "name": "stdout",
          "output_type": "stream",
          "text": [
            "2/2 [==============================] - 0s 9ms/step - loss: 3.5762\n"
          ]
        },
        {
          "metadata": {
            "tags": null
          },
          "name": "stderr",
          "output_type": "stream",
          "text": [
            "[I 2024-06-14 16:36:00,841] Trial 18 finished with value: 3.576158046722412 and parameters: {'n_layers': 2, 'n_units': 122, 'learning_rate': 0.046791775870950285}. Best is trial 5 with value: 2.606727123260498.\n"
          ]
        },
        {
          "metadata": {
            "tags": null
          },
          "name": "stdout",
          "output_type": "stream",
          "text": [
            "2/2 [==============================] - 0s 21ms/step - loss: 3.9232\n"
          ]
        },
        {
          "metadata": {
            "tags": null
          },
          "name": "stderr",
          "output_type": "stream",
          "text": [
            "[I 2024-06-14 16:36:12,581] Trial 19 finished with value: 3.923203945159912 and parameters: {'n_layers': 3, 'n_units': 79, 'learning_rate': 0.01830804759383521}. Best is trial 5 with value: 2.606727123260498.\n"
          ]
        },
        {
          "metadata": {
            "tags": null
          },
          "name": "stdout",
          "output_type": "stream",
          "text": [
            "2/2 [==============================] - 0s 8ms/step - loss: 4.0471\n"
          ]
        },
        {
          "metadata": {
            "tags": null
          },
          "name": "stderr",
          "output_type": "stream",
          "text": [
            "[I 2024-06-14 16:36:25,229] Trial 20 finished with value: 4.047116279602051 and parameters: {'n_layers': 2, 'n_units': 33, 'learning_rate': 0.07197246444426747}. Best is trial 5 with value: 2.606727123260498.\n"
          ]
        },
        {
          "metadata": {
            "tags": null
          },
          "name": "stdout",
          "output_type": "stream",
          "text": [
            "2/2 [==============================] - 0s 7ms/step - loss: 20.9578\n"
          ]
        },
        {
          "metadata": {
            "tags": null
          },
          "name": "stderr",
          "output_type": "stream",
          "text": [
            "[I 2024-06-14 16:36:29,254] Trial 21 finished with value: 20.957761764526367 and parameters: {'n_layers': 2, 'n_units': 166, 'learning_rate': 0.07969802383786533}. Best is trial 5 with value: 2.606727123260498.\n"
          ]
        },
        {
          "metadata": {
            "tags": null
          },
          "name": "stdout",
          "output_type": "stream",
          "text": [
            "2/2 [==============================] - 0s 8ms/step - loss: 2.7142\n"
          ]
        },
        {
          "metadata": {
            "tags": null
          },
          "name": "stderr",
          "output_type": "stream",
          "text": [
            "[I 2024-06-14 16:36:36,163] Trial 22 finished with value: 2.7142441272735596 and parameters: {'n_layers': 2, 'n_units': 177, 'learning_rate': 0.08754483607180526}. Best is trial 5 with value: 2.606727123260498.\n"
          ]
        },
        {
          "metadata": {
            "tags": null
          },
          "name": "stdout",
          "output_type": "stream",
          "text": [
            "2/2 [==============================] - 0s 7ms/step - loss: 2.5491\n"
          ]
        },
        {
          "metadata": {
            "tags": null
          },
          "name": "stderr",
          "output_type": "stream",
          "text": [
            "[I 2024-06-14 16:36:48,403] Trial 23 finished with value: 2.5490949153900146 and parameters: {'n_layers': 2, 'n_units': 141, 'learning_rate': 0.09015068034790888}. Best is trial 23 with value: 2.5490949153900146.\n"
          ]
        },
        {
          "metadata": {
            "tags": null
          },
          "name": "stdout",
          "output_type": "stream",
          "text": [
            "2/2 [==============================] - 0s 7ms/step - loss: 2.8450\n"
          ]
        },
        {
          "metadata": {
            "tags": null
          },
          "name": "stderr",
          "output_type": "stream",
          "text": [
            "[I 2024-06-14 16:36:55,565] Trial 24 finished with value: 2.845012903213501 and parameters: {'n_layers': 3, 'n_units': 104, 'learning_rate': 0.09966562653393302}. Best is trial 23 with value: 2.5490949153900146.\n"
          ]
        },
        {
          "metadata": {
            "tags": null
          },
          "name": "stdout",
          "output_type": "stream",
          "text": [
            "2/2 [==============================] - 0s 7ms/step - loss: 2.2591\n"
          ]
        },
        {
          "metadata": {
            "tags": null
          },
          "name": "stderr",
          "output_type": "stream",
          "text": [
            "[I 2024-06-14 16:37:00,042] Trial 25 finished with value: 2.2590863704681396 and parameters: {'n_layers': 2, 'n_units': 137, 'learning_rate': 0.08967036818605663}. Best is trial 25 with value: 2.2590863704681396.\n"
          ]
        },
        {
          "metadata": {
            "tags": null
          },
          "name": "stdout",
          "output_type": "stream",
          "text": [
            "2/2 [==============================] - 0s 7ms/step - loss: 3.6119\n"
          ]
        },
        {
          "metadata": {
            "tags": null
          },
          "name": "stderr",
          "output_type": "stream",
          "text": [
            "[I 2024-06-14 16:37:11,020] Trial 26 finished with value: 3.6119372844696045 and parameters: {'n_layers': 1, 'n_units': 132, 'learning_rate': 0.089785761117321}. Best is trial 25 with value: 2.2590863704681396.\n"
          ]
        },
        {
          "metadata": {
            "tags": null
          },
          "name": "stdout",
          "output_type": "stream",
          "text": [
            "2/2 [==============================] - 0s 8ms/step - loss: 20.9576\n"
          ]
        },
        {
          "metadata": {
            "tags": null
          },
          "name": "stderr",
          "output_type": "stream",
          "text": [
            "[I 2024-06-14 16:37:14,917] Trial 27 finished with value: 20.957592010498047 and parameters: {'n_layers': 3, 'n_units': 137, 'learning_rate': 0.0625376362785388}. Best is trial 25 with value: 2.2590863704681396.\n"
          ]
        },
        {
          "metadata": {
            "tags": null
          },
          "name": "stdout",
          "output_type": "stream",
          "text": [
            "2/2 [==============================] - 0s 6ms/step - loss: 4.0625\n"
          ]
        },
        {
          "metadata": {
            "tags": null
          },
          "name": "stderr",
          "output_type": "stream",
          "text": [
            "[I 2024-06-14 16:37:27,548] Trial 28 finished with value: 4.062497138977051 and parameters: {'n_layers': 4, 'n_units': 147, 'learning_rate': 0.09186781090514182}. Best is trial 25 with value: 2.2590863704681396.\n"
          ]
        },
        {
          "metadata": {
            "tags": null
          },
          "name": "stdout",
          "output_type": "stream",
          "text": [
            "2/2 [==============================] - 0s 8ms/step - loss: 3.0478\n"
          ]
        },
        {
          "metadata": {
            "tags": null
          },
          "name": "stderr",
          "output_type": "stream",
          "text": [
            "[I 2024-06-14 16:37:34,835] Trial 29 finished with value: 3.047820568084717 and parameters: {'n_layers': 3, 'n_units': 110, 'learning_rate': 0.07645623838800912}. Best is trial 25 with value: 2.2590863704681396.\n"
          ]
        },
        {
          "metadata": {
            "tags": null
          },
          "name": "stdout",
          "output_type": "stream",
          "text": [
            "2/2 [==============================] - 0s 7ms/step - loss: 3.0179\n"
          ]
        },
        {
          "metadata": {
            "tags": null
          },
          "name": "stderr",
          "output_type": "stream",
          "text": [
            "[I 2024-06-14 16:37:41,325] Trial 30 finished with value: 3.017857551574707 and parameters: {'n_layers': 2, 'n_units': 184, 'learning_rate': 0.05189030375367529}. Best is trial 25 with value: 2.2590863704681396.\n"
          ]
        },
        {
          "metadata": {
            "tags": null
          },
          "name": "stdout",
          "output_type": "stream",
          "text": [
            "2/2 [==============================] - 0s 5ms/step - loss: 20.9785\n"
          ]
        },
        {
          "metadata": {
            "tags": null
          },
          "name": "stderr",
          "output_type": "stream",
          "text": [
            "[I 2024-06-14 16:37:47,622] Trial 31 finished with value: 20.978450775146484 and parameters: {'n_layers': 2, 'n_units': 145, 'learning_rate': 0.08507285549593933}. Best is trial 25 with value: 2.2590863704681396.\n"
          ]
        },
        {
          "metadata": {
            "tags": null
          },
          "name": "stdout",
          "output_type": "stream",
          "text": [
            "2/2 [==============================] - 0s 8ms/step - loss: 2.7190\n"
          ]
        },
        {
          "metadata": {
            "tags": null
          },
          "name": "stderr",
          "output_type": "stream",
          "text": [
            "[I 2024-06-14 16:38:04,627] Trial 32 finished with value: 2.7190213203430176 and parameters: {'n_layers': 2, 'n_units': 182, 'learning_rate': 0.09996803584184163}. Best is trial 25 with value: 2.2590863704681396.\n"
          ]
        },
        {
          "metadata": {
            "tags": null
          },
          "name": "stdout",
          "output_type": "stream",
          "text": [
            "2/2 [==============================] - 0s 5ms/step - loss: 20.9691\n"
          ]
        },
        {
          "metadata": {
            "tags": null
          },
          "name": "stderr",
          "output_type": "stream",
          "text": [
            "[I 2024-06-14 16:38:08,086] Trial 33 finished with value: 20.969087600708008 and parameters: {'n_layers': 2, 'n_units': 88, 'learning_rate': 0.08709515898811436}. Best is trial 25 with value: 2.2590863704681396.\n"
          ]
        },
        {
          "metadata": {
            "tags": null
          },
          "name": "stdout",
          "output_type": "stream",
          "text": [
            "2/2 [==============================] - 0s 7ms/step - loss: 3.6644\n"
          ]
        },
        {
          "metadata": {
            "tags": null
          },
          "name": "stderr",
          "output_type": "stream",
          "text": [
            "[I 2024-06-14 16:38:19,435] Trial 34 finished with value: 3.6643567085266113 and parameters: {'n_layers': 3, 'n_units': 207, 'learning_rate': 0.08879594538505628}. Best is trial 25 with value: 2.2590863704681396.\n"
          ]
        },
        {
          "metadata": {
            "tags": null
          },
          "name": "stdout",
          "output_type": "stream",
          "text": [
            "2/2 [==============================] - 0s 8ms/step - loss: 3.9192\n"
          ]
        },
        {
          "metadata": {
            "tags": null
          },
          "name": "stderr",
          "output_type": "stream",
          "text": [
            "[I 2024-06-14 16:38:25,634] Trial 35 finished with value: 3.9192023277282715 and parameters: {'n_layers': 1, 'n_units': 121, 'learning_rate': 0.06196805156548145}. Best is trial 25 with value: 2.2590863704681396.\n"
          ]
        },
        {
          "metadata": {
            "tags": null
          },
          "name": "stdout",
          "output_type": "stream",
          "text": [
            "2/2 [==============================] - 0s 7ms/step - loss: 3.0390\n"
          ]
        },
        {
          "metadata": {
            "tags": null
          },
          "name": "stderr",
          "output_type": "stream",
          "text": [
            "[I 2024-06-14 16:38:37,571] Trial 36 finished with value: 3.0390467643737793 and parameters: {'n_layers': 2, 'n_units': 155, 'learning_rate': 0.08020881210901017}. Best is trial 25 with value: 2.2590863704681396.\n"
          ]
        },
        {
          "metadata": {
            "tags": null
          },
          "name": "stdout",
          "output_type": "stream",
          "text": [
            "2/2 [==============================] - 0s 8ms/step - loss: 4.4860\n"
          ]
        },
        {
          "metadata": {
            "tags": null
          },
          "name": "stderr",
          "output_type": "stream",
          "text": [
            "[I 2024-06-14 16:38:43,518] Trial 37 finished with value: 4.486024379730225 and parameters: {'n_layers': 1, 'n_units': 177, 'learning_rate': 0.06721552287290006}. Best is trial 25 with value: 2.2590863704681396.\n"
          ]
        },
        {
          "metadata": {
            "tags": null
          },
          "name": "stdout",
          "output_type": "stream",
          "text": [
            "2/2 [==============================] - 0s 10ms/step - loss: 20.9484\n"
          ]
        },
        {
          "metadata": {
            "tags": null
          },
          "name": "stderr",
          "output_type": "stream",
          "text": [
            "[I 2024-06-14 16:38:49,618] Trial 38 finished with value: 20.94839096069336 and parameters: {'n_layers': 2, 'n_units': 206, 'learning_rate': 0.058131687761816146}. Best is trial 25 with value: 2.2590863704681396.\n"
          ]
        },
        {
          "metadata": {
            "tags": null
          },
          "name": "stdout",
          "output_type": "stream",
          "text": [
            "2/2 [==============================] - 0s 7ms/step - loss: 4.1121\n"
          ]
        },
        {
          "metadata": {
            "tags": null
          },
          "name": "stderr",
          "output_type": "stream",
          "text": [
            "[I 2024-06-14 16:38:53,620] Trial 39 finished with value: 4.112126350402832 and parameters: {'n_layers': 1, 'n_units': 135, 'learning_rate': 0.09433368081666695}. Best is trial 25 with value: 2.2590863704681396.\n"
          ]
        },
        {
          "metadata": {
            "tags": null
          },
          "name": "stdout",
          "output_type": "stream",
          "text": [
            "2/2 [==============================] - 0s 8ms/step - loss: 3.3452\n"
          ]
        },
        {
          "metadata": {
            "tags": null
          },
          "name": "stderr",
          "output_type": "stream",
          "text": [
            "[I 2024-06-14 16:39:04,960] Trial 40 finished with value: 3.3451740741729736 and parameters: {'n_layers': 3, 'n_units': 236, 'learning_rate': 0.07479566443911584}. Best is trial 25 with value: 2.2590863704681396.\n"
          ]
        },
        {
          "metadata": {
            "tags": null
          },
          "name": "stdout",
          "output_type": "stream",
          "text": [
            "2/2 [==============================] - 0s 7ms/step - loss: 3.3896\n"
          ]
        },
        {
          "metadata": {
            "tags": null
          },
          "name": "stderr",
          "output_type": "stream",
          "text": [
            "[I 2024-06-14 16:39:16,099] Trial 41 finished with value: 3.389589309692383 and parameters: {'n_layers': 2, 'n_units': 178, 'learning_rate': 0.09980972135655816}. Best is trial 25 with value: 2.2590863704681396.\n"
          ]
        },
        {
          "metadata": {
            "tags": null
          },
          "name": "stdout",
          "output_type": "stream",
          "text": [
            "2/2 [==============================] - 0s 6ms/step - loss: 2.6761\n"
          ]
        },
        {
          "metadata": {
            "tags": null
          },
          "name": "stderr",
          "output_type": "stream",
          "text": [
            "[I 2024-06-14 16:39:30,553] Trial 42 finished with value: 2.6761486530303955 and parameters: {'n_layers': 2, 'n_units': 196, 'learning_rate': 0.09692167696032612}. Best is trial 25 with value: 2.2590863704681396.\n"
          ]
        },
        {
          "metadata": {
            "tags": null
          },
          "name": "stdout",
          "output_type": "stream",
          "text": [
            "2/2 [==============================] - 0s 7ms/step - loss: 4.6628\n"
          ]
        },
        {
          "metadata": {
            "tags": null
          },
          "name": "stderr",
          "output_type": "stream",
          "text": [
            "[I 2024-06-14 16:39:36,709] Trial 43 finished with value: 4.662778854370117 and parameters: {'n_layers': 2, 'n_units': 225, 'learning_rate': 0.0925065264448333}. Best is trial 25 with value: 2.2590863704681396.\n"
          ]
        },
        {
          "metadata": {
            "tags": null
          },
          "name": "stdout",
          "output_type": "stream",
          "text": [
            "2/2 [==============================] - 0s 5ms/step - loss: 1.5576\n"
          ]
        },
        {
          "metadata": {
            "tags": null
          },
          "name": "stderr",
          "output_type": "stream",
          "text": [
            "[I 2024-06-14 16:39:54,233] Trial 44 finished with value: 1.557615041732788 and parameters: {'n_layers': 2, 'n_units': 196, 'learning_rate': 0.04377127010721801}. Best is trial 44 with value: 1.557615041732788.\n"
          ]
        },
        {
          "metadata": {
            "tags": null
          },
          "name": "stdout",
          "output_type": "stream",
          "text": [
            "2/2 [==============================] - 0s 8ms/step - loss: 2.1914\n"
          ]
        },
        {
          "metadata": {
            "tags": null
          },
          "name": "stderr",
          "output_type": "stream",
          "text": [
            "[I 2024-06-14 16:40:05,114] Trial 45 finished with value: 2.1914219856262207 and parameters: {'n_layers': 2, 'n_units': 221, 'learning_rate': 0.046051597926172014}. Best is trial 44 with value: 1.557615041732788.\n"
          ]
        },
        {
          "metadata": {
            "tags": null
          },
          "name": "stdout",
          "output_type": "stream",
          "text": [
            "2/2 [==============================] - 0s 7ms/step - loss: 3.6533\n"
          ]
        },
        {
          "metadata": {
            "tags": null
          },
          "name": "stderr",
          "output_type": "stream",
          "text": [
            "[I 2024-06-14 16:40:10,146] Trial 46 finished with value: 3.653315782546997 and parameters: {'n_layers': 1, 'n_units': 223, 'learning_rate': 0.03569829887312161}. Best is trial 44 with value: 1.557615041732788.\n"
          ]
        },
        {
          "metadata": {
            "tags": null
          },
          "name": "stdout",
          "output_type": "stream",
          "text": [
            "2/2 [==============================] - 0s 7ms/step - loss: 3.5435\n"
          ]
        },
        {
          "metadata": {
            "tags": null
          },
          "name": "stderr",
          "output_type": "stream",
          "text": [
            "[I 2024-06-14 16:40:16,170] Trial 47 finished with value: 3.543506145477295 and parameters: {'n_layers': 2, 'n_units': 238, 'learning_rate': 0.04935010386388814}. Best is trial 44 with value: 1.557615041732788.\n"
          ]
        },
        {
          "metadata": {
            "tags": null
          },
          "name": "stdout",
          "output_type": "stream",
          "text": [
            "2/2 [==============================] - 0s 7ms/step - loss: 2.7221\n"
          ]
        },
        {
          "metadata": {
            "tags": null
          },
          "name": "stderr",
          "output_type": "stream",
          "text": [
            "[I 2024-06-14 16:40:27,498] Trial 48 finished with value: 2.722114086151123 and parameters: {'n_layers': 3, 'n_units': 104, 'learning_rate': 0.0396749364745969}. Best is trial 44 with value: 1.557615041732788.\n"
          ]
        },
        {
          "metadata": {
            "tags": null
          },
          "name": "stdout",
          "output_type": "stream",
          "text": [
            "2/2 [==============================] - 0s 12ms/step - loss: 20.9486\n"
          ]
        },
        {
          "metadata": {
            "tags": null
          },
          "name": "stderr",
          "output_type": "stream",
          "text": [
            "[I 2024-06-14 16:40:33,705] Trial 49 finished with value: 20.94862174987793 and parameters: {'n_layers': 3, 'n_units': 67, 'learning_rate': 0.044741967169928405}. Best is trial 44 with value: 1.557615041732788.\n"
          ]
        },
        {
          "metadata": {
            "tags": null
          },
          "name": "stdout",
          "output_type": "stream",
          "text": [
            "2/2 [==============================] - 0s 6ms/step - loss: 4.2128\n"
          ]
        },
        {
          "metadata": {
            "tags": null
          },
          "name": "stderr",
          "output_type": "stream",
          "text": [
            "[I 2024-06-14 16:40:38,415] Trial 50 finished with value: 4.212790489196777 and parameters: {'n_layers': 2, 'n_units': 217, 'learning_rate': 0.020403794409821485}. Best is trial 44 with value: 1.557615041732788.\n"
          ]
        },
        {
          "metadata": {
            "tags": null
          },
          "name": "stdout",
          "output_type": "stream",
          "text": [
            "2/2 [==============================] - 0s 14ms/step - loss: 2.9923\n"
          ]
        },
        {
          "metadata": {
            "tags": null
          },
          "name": "stderr",
          "output_type": "stream",
          "text": [
            "[I 2024-06-14 16:40:49,608] Trial 51 finished with value: 2.992265462875366 and parameters: {'n_layers': 2, 'n_units': 190, 'learning_rate': 0.055853050477329115}. Best is trial 44 with value: 1.557615041732788.\n"
          ]
        },
        {
          "metadata": {
            "tags": null
          },
          "name": "stdout",
          "output_type": "stream",
          "text": [
            "2/2 [==============================] - 0s 7ms/step - loss: 4.4109\n"
          ]
        },
        {
          "metadata": {
            "tags": null
          },
          "name": "stderr",
          "output_type": "stream",
          "text": [
            "[I 2024-06-14 16:40:55,618] Trial 52 finished with value: 4.410857200622559 and parameters: {'n_layers': 2, 'n_units': 198, 'learning_rate': 0.024118612351629737}. Best is trial 44 with value: 1.557615041732788.\n"
          ]
        },
        {
          "metadata": {
            "tags": null
          },
          "name": "stdout",
          "output_type": "stream",
          "text": [
            "2/2 [==============================] - 0s 7ms/step - loss: 2.9664\n"
          ]
        },
        {
          "metadata": {
            "tags": null
          },
          "name": "stderr",
          "output_type": "stream",
          "text": [
            "[I 2024-06-14 16:41:06,765] Trial 53 finished with value: 2.9664459228515625 and parameters: {'n_layers': 2, 'n_units': 255, 'learning_rate': 0.04397994661015601}. Best is trial 44 with value: 1.557615041732788.\n"
          ]
        },
        {
          "metadata": {
            "tags": null
          },
          "name": "stdout",
          "output_type": "stream",
          "text": [
            "2/2 [==============================] - 0s 6ms/step - loss: 3.8107\n"
          ]
        },
        {
          "metadata": {
            "tags": null
          },
          "name": "stderr",
          "output_type": "stream",
          "text": [
            "[I 2024-06-14 16:41:17,886] Trial 54 finished with value: 3.8107120990753174 and parameters: {'n_layers': 2, 'n_units': 197, 'learning_rate': 0.030729032612425336}. Best is trial 44 with value: 1.557615041732788.\n"
          ]
        },
        {
          "metadata": {
            "tags": null
          },
          "name": "stdout",
          "output_type": "stream",
          "text": [
            "2/2 [==============================] - 0s 7ms/step - loss: 2.8851\n"
          ]
        },
        {
          "metadata": {
            "tags": null
          },
          "name": "stderr",
          "output_type": "stream",
          "text": [
            "[I 2024-06-14 16:41:29,017] Trial 55 finished with value: 2.8850905895233154 and parameters: {'n_layers': 2, 'n_units': 157, 'learning_rate': 0.04220818099281446}. Best is trial 44 with value: 1.557615041732788.\n"
          ]
        },
        {
          "metadata": {
            "tags": null
          },
          "name": "stdout",
          "output_type": "stream",
          "text": [
            "2/2 [==============================] - 0s 11ms/step - loss: 2.6341\n"
          ]
        },
        {
          "metadata": {
            "tags": null
          },
          "name": "stderr",
          "output_type": "stream",
          "text": [
            "[I 2024-06-14 16:41:40,209] Trial 56 finished with value: 2.63411545753479 and parameters: {'n_layers': 2, 'n_units': 214, 'learning_rate': 0.095861525812582}. Best is trial 44 with value: 1.557615041732788.\n"
          ]
        },
        {
          "metadata": {
            "tags": null
          },
          "name": "stdout",
          "output_type": "stream",
          "text": [
            "2/2 [==============================] - 0s 9ms/step - loss: 3.2952\n"
          ]
        },
        {
          "metadata": {
            "tags": null
          },
          "name": "stderr",
          "output_type": "stream",
          "text": [
            "[I 2024-06-14 16:41:46,223] Trial 57 finished with value: 3.295152187347412 and parameters: {'n_layers': 3, 'n_units': 215, 'learning_rate': 0.05475758615898688}. Best is trial 44 with value: 1.557615041732788.\n"
          ]
        },
        {
          "metadata": {
            "tags": null
          },
          "name": "stdout",
          "output_type": "stream",
          "text": [
            "2/2 [==============================] - 0s 7ms/step - loss: 2.6651\n"
          ]
        },
        {
          "metadata": {
            "tags": null
          },
          "name": "stderr",
          "output_type": "stream",
          "text": [
            "[I 2024-06-14 16:42:01,927] Trial 58 finished with value: 2.6651270389556885 and parameters: {'n_layers': 2, 'n_units': 241, 'learning_rate': 0.035741689342012266}. Best is trial 44 with value: 1.557615041732788.\n"
          ]
        },
        {
          "metadata": {
            "tags": null
          },
          "name": "stdout",
          "output_type": "stream",
          "text": [
            "2/2 [==============================] - 0s 9ms/step - loss: 20.9559\n"
          ]
        },
        {
          "metadata": {
            "tags": null
          },
          "name": "stderr",
          "output_type": "stream",
          "text": [
            "[I 2024-06-14 16:42:06,398] Trial 59 finished with value: 20.95587730407715 and parameters: {'n_layers': 2, 'n_units': 122, 'learning_rate': 0.06534012168447093}. Best is trial 44 with value: 1.557615041732788.\n"
          ]
        },
        {
          "metadata": {
            "tags": null
          },
          "name": "stdout",
          "output_type": "stream",
          "text": [
            "2/2 [==============================] - 0s 7ms/step - loss: 3.0734\n"
          ]
        },
        {
          "metadata": {
            "tags": null
          },
          "name": "stderr",
          "output_type": "stream",
          "text": [
            "[I 2024-06-14 16:42:12,921] Trial 60 finished with value: 3.0734305381774902 and parameters: {'n_layers': 4, 'n_units': 214, 'learning_rate': 0.047256239713720144}. Best is trial 44 with value: 1.557615041732788.\n"
          ]
        },
        {
          "metadata": {
            "tags": null
          },
          "name": "stdout",
          "output_type": "stream",
          "text": [
            "2/2 [==============================] - 0s 7ms/step - loss: 4.0818\n"
          ]
        },
        {
          "metadata": {
            "tags": null
          },
          "name": "stderr",
          "output_type": "stream",
          "text": [
            "[I 2024-06-14 16:42:24,955] Trial 61 finished with value: 4.081762313842773 and parameters: {'n_layers': 2, 'n_units': 241, 'learning_rate': 0.037165229902291715}. Best is trial 44 with value: 1.557615041732788.\n"
          ]
        },
        {
          "metadata": {
            "tags": null
          },
          "name": "stdout",
          "output_type": "stream",
          "text": [
            "2/2 [==============================] - 0s 9ms/step - loss: 3.6100\n"
          ]
        },
        {
          "metadata": {
            "tags": null
          },
          "name": "stderr",
          "output_type": "stream",
          "text": [
            "[I 2024-06-14 16:42:46,413] Trial 62 finished with value: 3.609968900680542 and parameters: {'n_layers': 2, 'n_units': 231, 'learning_rate': 0.03365305884184011}. Best is trial 44 with value: 1.557615041732788.\n"
          ]
        },
        {
          "output_type": "stream",
          "name": "stdout",
          "text": [
            "2/2 [==============================] - 0s 9ms/step - loss: 3.9169\n"
          ]
        },
        {
          "output_type": "stream",
          "name": "stderr",
          "text": [
            "[I 2024-06-14 16:42:57,990] Trial 63 finished with value: 3.9168522357940674 and parameters: {'n_layers': 2, 'n_units': 248, 'learning_rate': 0.027158064917247496}. Best is trial 44 with value: 1.557615041732788.\n"
          ]
        },
        {
          "output_type": "stream",
          "name": "stdout",
          "text": [
            "2/2 [==============================] - 0s 9ms/step - loss: 5.0208\n"
          ]
        },
        {
          "output_type": "stream",
          "name": "stderr",
          "text": [
            "[I 2024-06-14 16:43:04,242] Trial 64 finished with value: 5.020759105682373 and parameters: {'n_layers': 2, 'n_units': 255, 'learning_rate': 0.013900002896277092}. Best is trial 44 with value: 1.557615041732788.\n"
          ]
        },
        {
          "output_type": "stream",
          "name": "stdout",
          "text": [
            "2/2 [==============================] - 0s 9ms/step - loss: 2.0988\n"
          ]
        },
        {
          "output_type": "stream",
          "name": "stderr",
          "text": [
            "[I 2024-06-14 16:43:11,856] Trial 65 finished with value: 2.098809003829956 and parameters: {'n_layers': 2, 'n_units': 138, 'learning_rate': 0.04066280830635688}. Best is trial 44 with value: 1.557615041732788.\n"
          ]
        },
        {
          "output_type": "stream",
          "name": "stdout",
          "text": [
            "2/2 [==============================] - 0s 8ms/step - loss: 3.7709\n"
          ]
        },
        {
          "output_type": "stream",
          "name": "stderr",
          "text": [
            "[I 2024-06-14 16:43:17,151] Trial 66 finished with value: 3.7709147930145264 and parameters: {'n_layers': 1, 'n_units': 143, 'learning_rate': 0.040227284301597395}. Best is trial 44 with value: 1.557615041732788.\n"
          ]
        },
        {
          "output_type": "stream",
          "name": "stdout",
          "text": [
            "2/2 [==============================] - 0s 9ms/step - loss: 20.9500\n"
          ]
        },
        {
          "output_type": "stream",
          "name": "stderr",
          "text": [
            "[I 2024-06-14 16:43:20,615] Trial 67 finished with value: 20.950023651123047 and parameters: {'n_layers': 2, 'n_units': 130, 'learning_rate': 0.0835084004371035}. Best is trial 44 with value: 1.557615041732788.\n"
          ]
        },
        {
          "output_type": "stream",
          "name": "stdout",
          "text": [
            "2/2 [==============================] - 0s 9ms/step - loss: 2.8392\n"
          ]
        },
        {
          "output_type": "stream",
          "name": "stderr",
          "text": [
            "[I 2024-06-14 16:43:31,885] Trial 68 finished with value: 2.83919095993042 and parameters: {'n_layers': 3, 'n_units': 112, 'learning_rate': 0.05045959355537363}. Best is trial 44 with value: 1.557615041732788.\n"
          ]
        },
        {
          "output_type": "stream",
          "name": "stdout",
          "text": [
            "2/2 [==============================] - 0s 8ms/step - loss: 2.4868\n"
          ]
        },
        {
          "output_type": "stream",
          "name": "stderr",
          "text": [
            "[I 2024-06-14 16:43:46,056] Trial 69 finished with value: 2.4867894649505615 and parameters: {'n_layers': 2, 'n_units': 125, 'learning_rate': 0.05903099448614239}. Best is trial 44 with value: 1.557615041732788.\n"
          ]
        },
        {
          "output_type": "stream",
          "name": "stdout",
          "text": [
            "2/2 [==============================] - 0s 7ms/step - loss: 21.0964\n"
          ]
        },
        {
          "output_type": "stream",
          "name": "stderr",
          "text": [
            "[I 2024-06-14 16:43:49,670] Trial 70 finished with value: 21.096439361572266 and parameters: {'n_layers': 3, 'n_units': 122, 'learning_rate': 0.05984363705299053}. Best is trial 44 with value: 1.557615041732788.\n"
          ]
        },
        {
          "output_type": "stream",
          "name": "stdout",
          "text": [
            "2/2 [==============================] - 0s 9ms/step - loss: 3.8934\n"
          ]
        },
        {
          "output_type": "stream",
          "name": "stderr",
          "text": [
            "[I 2024-06-14 16:43:55,664] Trial 71 finished with value: 3.893397569656372 and parameters: {'n_layers': 2, 'n_units': 101, 'learning_rate': 0.04775679015092243}. Best is trial 44 with value: 1.557615041732788.\n"
          ]
        },
        {
          "output_type": "stream",
          "name": "stdout",
          "text": [
            "2/2 [==============================] - 0s 9ms/step - loss: 20.9759\n"
          ]
        },
        {
          "output_type": "stream",
          "name": "stderr",
          "text": [
            "[I 2024-06-14 16:44:01,679] Trial 72 finished with value: 20.97589111328125 and parameters: {'n_layers': 2, 'n_units': 142, 'learning_rate': 0.06996635380290063}. Best is trial 44 with value: 1.557615041732788.\n"
          ]
        },
        {
          "output_type": "stream",
          "name": "stdout",
          "text": [
            "2/2 [==============================] - 0s 12ms/step - loss: 4.0382\n"
          ]
        },
        {
          "output_type": "stream",
          "name": "stderr",
          "text": [
            "[I 2024-06-14 16:44:07,283] Trial 73 finished with value: 4.038221836090088 and parameters: {'n_layers': 2, 'n_units': 152, 'learning_rate': 0.0573777522281248}. Best is trial 44 with value: 1.557615041732788.\n"
          ]
        },
        {
          "output_type": "stream",
          "name": "stdout",
          "text": [
            "2/2 [==============================] - 0s 7ms/step - loss: 2.5502\n"
          ]
        },
        {
          "output_type": "stream",
          "name": "stderr",
          "text": [
            "[I 2024-06-14 16:44:18,552] Trial 74 finished with value: 2.5502076148986816 and parameters: {'n_layers': 2, 'n_units': 127, 'learning_rate': 0.05223537905014377}. Best is trial 44 with value: 1.557615041732788.\n"
          ]
        },
        {
          "output_type": "stream",
          "name": "stdout",
          "text": [
            "2/2 [==============================] - 0s 6ms/step - loss: 2.5515\n"
          ]
        },
        {
          "output_type": "stream",
          "name": "stderr",
          "text": [
            "[I 2024-06-14 16:44:39,850] Trial 75 finished with value: 2.5514614582061768 and parameters: {'n_layers': 2, 'n_units': 117, 'learning_rate': 0.05272146674516448}. Best is trial 44 with value: 1.557615041732788.\n"
          ]
        },
        {
          "output_type": "stream",
          "name": "stdout",
          "text": [
            "2/2 [==============================] - 0s 6ms/step - loss: 21.1578\n"
          ]
        },
        {
          "output_type": "stream",
          "name": "stderr",
          "text": [
            "[I 2024-06-14 16:44:45,872] Trial 76 finished with value: 21.15776824951172 and parameters: {'n_layers': 2, 'n_units': 127, 'learning_rate': 0.0519617897079069}. Best is trial 44 with value: 1.557615041732788.\n"
          ]
        },
        {
          "output_type": "stream",
          "name": "stdout",
          "text": [
            "2/2 [==============================] - 0s 5ms/step - loss: 4.1556\n"
          ]
        },
        {
          "output_type": "stream",
          "name": "stderr",
          "text": [
            "[I 2024-06-14 16:44:51,898] Trial 77 finished with value: 4.155634880065918 and parameters: {'n_layers': 2, 'n_units': 117, 'learning_rate': 0.04363486017714556}. Best is trial 44 with value: 1.557615041732788.\n"
          ]
        },
        {
          "output_type": "stream",
          "name": "stdout",
          "text": [
            "2/2 [==============================] - 0s 9ms/step - loss: 3.6685\n"
          ]
        },
        {
          "output_type": "stream",
          "name": "stderr",
          "text": [
            "[I 2024-06-14 16:45:03,036] Trial 78 finished with value: 3.6685497760772705 and parameters: {'n_layers': 2, 'n_units': 141, 'learning_rate': 0.06498831512795317}. Best is trial 44 with value: 1.557615041732788.\n"
          ]
        },
        {
          "output_type": "stream",
          "name": "stdout",
          "text": [
            "2/2 [==============================] - 0s 6ms/step - loss: 20.9669\n"
          ]
        },
        {
          "output_type": "stream",
          "name": "stderr",
          "text": [
            "[I 2024-06-14 16:45:09,110] Trial 79 finished with value: 20.966901779174805 and parameters: {'n_layers': 2, 'n_units': 168, 'learning_rate': 0.05259936081330101}. Best is trial 44 with value: 1.557615041732788.\n"
          ]
        },
        {
          "output_type": "stream",
          "name": "stdout",
          "text": [
            "2/2 [==============================] - 0s 8ms/step - loss: 3.8215\n"
          ]
        },
        {
          "output_type": "stream",
          "name": "stderr",
          "text": [
            "[I 2024-06-14 16:45:15,278] Trial 80 finished with value: 3.8215432167053223 and parameters: {'n_layers': 1, 'n_units': 135, 'learning_rate': 0.038962371033850654}. Best is trial 44 with value: 1.557615041732788.\n"
          ]
        },
        {
          "output_type": "stream",
          "name": "stdout",
          "text": [
            "2/2 [==============================] - 0s 11ms/step - loss: 21.2309\n"
          ]
        },
        {
          "output_type": "stream",
          "name": "stderr",
          "text": [
            "[I 2024-06-14 16:45:21,421] Trial 81 finished with value: 21.23091697692871 and parameters: {'n_layers': 2, 'n_units': 107, 'learning_rate': 0.05403782012108143}. Best is trial 44 with value: 1.557615041732788.\n"
          ]
        },
        {
          "output_type": "stream",
          "name": "stdout",
          "text": [
            "2/2 [==============================] - 0s 7ms/step - loss: 2.6648\n"
          ]
        },
        {
          "output_type": "stream",
          "name": "stderr",
          "text": [
            "[I 2024-06-14 16:45:43,794] Trial 82 finished with value: 2.6648497581481934 and parameters: {'n_layers': 2, 'n_units': 96, 'learning_rate': 0.059700825035919614}. Best is trial 44 with value: 1.557615041732788.\n"
          ]
        },
        {
          "output_type": "stream",
          "name": "stdout",
          "text": [
            "2/2 [==============================] - 0s 8ms/step - loss: 2.7701\n"
          ]
        },
        {
          "output_type": "stream",
          "name": "stderr",
          "text": [
            "[I 2024-06-14 16:45:54,476] Trial 83 finished with value: 2.770143985748291 and parameters: {'n_layers': 2, 'n_units': 115, 'learning_rate': 0.04977034646640089}. Best is trial 44 with value: 1.557615041732788.\n"
          ]
        },
        {
          "output_type": "stream",
          "name": "stdout",
          "text": [
            "2/2 [==============================] - 0s 9ms/step - loss: 3.5146\n"
          ]
        },
        {
          "output_type": "stream",
          "name": "stderr",
          "text": [
            "[I 2024-06-14 16:45:59,479] Trial 84 finished with value: 3.5145790576934814 and parameters: {'n_layers': 2, 'n_units': 128, 'learning_rate': 0.045817481800857054}. Best is trial 44 with value: 1.557615041732788.\n"
          ]
        },
        {
          "output_type": "stream",
          "name": "stdout",
          "text": [
            "2/2 [==============================] - 0s 6ms/step - loss: 5.5709\n"
          ]
        },
        {
          "output_type": "stream",
          "name": "stderr",
          "text": [
            "[I 2024-06-14 16:46:20,974] Trial 85 finished with value: 5.5708909034729 and parameters: {'n_layers': 2, 'n_units': 89, 'learning_rate': 0.0010955118737209224}. Best is trial 44 with value: 1.557615041732788.\n"
          ]
        },
        {
          "output_type": "stream",
          "name": "stdout",
          "text": [
            "2/2 [==============================] - 0s 6ms/step - loss: 2.6581\n"
          ]
        },
        {
          "output_type": "stream",
          "name": "stderr",
          "text": [
            "[I 2024-06-14 16:46:32,325] Trial 86 finished with value: 2.658104419708252 and parameters: {'n_layers': 2, 'n_units': 150, 'learning_rate': 0.07412319004800746}. Best is trial 44 with value: 1.557615041732788.\n"
          ]
        },
        {
          "output_type": "stream",
          "name": "stdout",
          "text": [
            "2/2 [==============================] - 0s 8ms/step - loss: 3.1889\n"
          ]
        },
        {
          "output_type": "stream",
          "name": "stderr",
          "text": [
            "[I 2024-06-14 16:46:36,381] Trial 87 finished with value: 3.1888515949249268 and parameters: {'n_layers': 2, 'n_units': 137, 'learning_rate': 0.041881422238862154}. Best is trial 44 with value: 1.557615041732788.\n"
          ]
        },
        {
          "output_type": "stream",
          "name": "stdout",
          "text": [
            "2/2 [==============================] - 0s 15ms/step - loss: 4.1294\n"
          ]
        },
        {
          "output_type": "stream",
          "name": "stderr",
          "text": [
            "[I 2024-06-14 16:46:42,464] Trial 88 finished with value: 4.129403591156006 and parameters: {'n_layers': 2, 'n_units': 170, 'learning_rate': 0.07895199300293454}. Best is trial 44 with value: 1.557615041732788.\n"
          ]
        },
        {
          "output_type": "stream",
          "name": "stdout",
          "text": [
            "2/2 [==============================] - 0s 12ms/step - loss: 2.6988\n"
          ]
        },
        {
          "output_type": "stream",
          "name": "stderr",
          "text": [
            "[I 2024-06-14 16:46:51,533] Trial 89 finished with value: 2.6987533569335938 and parameters: {'n_layers': 3, 'n_units': 82, 'learning_rate': 0.05816783792669857}. Best is trial 44 with value: 1.557615041732788.\n"
          ]
        },
        {
          "output_type": "stream",
          "name": "stdout",
          "text": [
            "2/2 [==============================] - 0s 10ms/step - loss: 2.3252\n"
          ]
        },
        {
          "output_type": "stream",
          "name": "stderr",
          "text": [
            "[I 2024-06-14 16:47:03,261] Trial 90 finished with value: 2.3252005577087402 and parameters: {'n_layers': 2, 'n_units': 159, 'learning_rate': 0.05580592440300646}. Best is trial 44 with value: 1.557615041732788.\n"
          ]
        },
        {
          "output_type": "stream",
          "name": "stdout",
          "text": [
            "2/2 [==============================] - 0s 9ms/step - loss: 2.5870\n"
          ]
        },
        {
          "output_type": "stream",
          "name": "stderr",
          "text": [
            "[I 2024-06-14 16:47:10,640] Trial 91 finished with value: 2.5869855880737305 and parameters: {'n_layers': 2, 'n_units': 160, 'learning_rate': 0.0639931291729885}. Best is trial 44 with value: 1.557615041732788.\n"
          ]
        },
        {
          "output_type": "stream",
          "name": "stdout",
          "text": [
            "2/2 [==============================] - 0s 9ms/step - loss: 2.8595\n"
          ]
        },
        {
          "output_type": "stream",
          "name": "stderr",
          "text": [
            "[I 2024-06-14 16:47:22,374] Trial 92 finished with value: 2.859496831893921 and parameters: {'n_layers': 2, 'n_units': 156, 'learning_rate': 0.06422733429247798}. Best is trial 44 with value: 1.557615041732788.\n"
          ]
        },
        {
          "output_type": "stream",
          "name": "stdout",
          "text": [
            "2/2 [==============================] - 0s 8ms/step - loss: 21.1828\n"
          ]
        },
        {
          "output_type": "stream",
          "name": "stderr",
          "text": [
            "[I 2024-06-14 16:47:25,979] Trial 93 finished with value: 21.18284034729004 and parameters: {'n_layers': 2, 'n_units': 161, 'learning_rate': 0.05653007206540135}. Best is trial 44 with value: 1.557615041732788.\n"
          ]
        },
        {
          "output_type": "stream",
          "name": "stdout",
          "text": [
            "2/2 [==============================] - 0s 8ms/step - loss: 20.9798\n"
          ]
        },
        {
          "output_type": "stream",
          "name": "stderr",
          "text": [
            "[I 2024-06-14 16:47:29,653] Trial 94 finished with value: 20.979846954345703 and parameters: {'n_layers': 2, 'n_units': 173, 'learning_rate': 0.04894133255360899}. Best is trial 44 with value: 1.557615041732788.\n"
          ]
        },
        {
          "output_type": "stream",
          "name": "stdout",
          "text": [
            "2/2 [==============================] - 0s 9ms/step - loss: 2.6987\n"
          ]
        },
        {
          "output_type": "stream",
          "name": "stderr",
          "text": [
            "[I 2024-06-14 16:47:43,195] Trial 95 finished with value: 2.69866943359375 and parameters: {'n_layers': 2, 'n_units': 147, 'learning_rate': 0.05314970228140057}. Best is trial 44 with value: 1.557615041732788.\n"
          ]
        },
        {
          "output_type": "stream",
          "name": "stdout",
          "text": [
            "2/2 [==============================] - 0s 9ms/step - loss: 4.0327\n"
          ]
        },
        {
          "output_type": "stream",
          "name": "stderr",
          "text": [
            "[I 2024-06-14 16:47:54,396] Trial 96 finished with value: 4.032654285430908 and parameters: {'n_layers': 2, 'n_units': 188, 'learning_rate': 0.06228470841497405}. Best is trial 44 with value: 1.557615041732788.\n"
          ]
        },
        {
          "output_type": "stream",
          "name": "stdout",
          "text": [
            "2/2 [==============================] - 0s 8ms/step - loss: 2.6591\n"
          ]
        },
        {
          "output_type": "stream",
          "name": "stderr",
          "text": [
            "[I 2024-06-14 16:48:15,813] Trial 97 finished with value: 2.659085512161255 and parameters: {'n_layers': 2, 'n_units': 125, 'learning_rate': 0.0917662981920119}. Best is trial 44 with value: 1.557615041732788.\n"
          ]
        },
        {
          "output_type": "stream",
          "name": "stdout",
          "text": [
            "2/2 [==============================] - 0s 10ms/step - loss: 3.6706\n"
          ]
        },
        {
          "output_type": "stream",
          "name": "stderr",
          "text": [
            "[I 2024-06-14 16:48:26,960] Trial 98 finished with value: 3.670553684234619 and parameters: {'n_layers': 2, 'n_units': 162, 'learning_rate': 0.04843678040265163}. Best is trial 44 with value: 1.557615041732788.\n"
          ]
        },
        {
          "output_type": "stream",
          "name": "stdout",
          "text": [
            "2/2 [==============================] - 0s 7ms/step - loss: 3.7714\n"
          ]
        },
        {
          "output_type": "stream",
          "name": "stderr",
          "text": [
            "[I 2024-06-14 16:48:31,500] Trial 99 finished with value: 3.7713942527770996 and parameters: {'n_layers': 2, 'n_units': 137, 'learning_rate': 0.06869266784642655}. Best is trial 44 with value: 1.557615041732788.\n"
          ]
        },
        {
          "output_type": "stream",
          "name": "stdout",
          "text": [
            "Mejores hiperparámetros: {'n_layers': 2, 'n_units': 196, 'learning_rate': 0.04377127010721801}\n"
          ]
        }
      ],
      "source": [
        "# Define una función para la optimización de hiperparámetros con Optuna\n",
        "def objective(trial):\n",
        "    # Define los hiperparámetros a buscar y sus rangos\n",
        "    n_layers=trial.suggest_int('n_layers', 1, 4)\n",
        "    n_units=trial.suggest_int('n_units', 32, 256)\n",
        "    learning_rate=trial.suggest_float('learning_rate', 1e-4, 1e-1)\n",
        "\n",
        "    # Crear el modelo secuencial\n",
        "    model = Sequential()\n",
        "\n",
        "    # Agregar capas ocultas\n",
        "    for _ in range(n_layers):\n",
        "        model.add(Dense(n_units, activation='relu'))\n",
        "\n",
        "    # Capa de salida\n",
        "    model.add(Dense(1, activation='linear'))\n",
        "\n",
        "    # Parada temprana\n",
        "    early_stopping=EarlyStopping(monitor='val_loss', patience=60, restore_best_weights=True)\n",
        "\n",
        "    # Configurar el optimizador Adam con la tasa de aprendizaje\n",
        "    custom_optimizer=Adam(learning_rate=learning_rate)\n",
        "\n",
        "    # Compilar el modelo\n",
        "    model.compile(optimizer=custom_optimizer, loss='mean_squared_error')\n",
        "\n",
        "    # Entrenar el modelo\n",
        "    model.fit(X_train, y_train, epochs=3000, batch_size=60, validation_data=(X_test, y_test), callbacks=[early_stopping], verbose=0)\n",
        "\n",
        "    # Evaluar el modelo con los datos de prueba\n",
        "    loss=model.evaluate(X_test, y_test)\n",
        "\n",
        "    # Devolver la métrica de pérdida para la optimización\n",
        "    return loss\n",
        "\n",
        "# Inicializa el estudio Optuna\n",
        "study=optuna.create_study(direction='minimize')\n",
        "\n",
        "# Ejecuta la optimización de hiperparámetros\n",
        "study.optimize(objective, n_trials=100)\n",
        "\n",
        "# Obtiene los mejores hiperparámetros\n",
        "best_params=study.best_params\n",
        "print(\"Mejores hiperparámetros:\", best_params)"
      ]
    },
    {
      "cell_type": "markdown",
      "metadata": {
        "id": "6EwrZUi0_Zes"
      },
      "source": [
        "### Comparison between ML - DL ###"
      ]
    },
    {
      "cell_type": "code",
      "execution_count": null,
      "metadata": {
        "id": "U2D19VVY_ZQ8",
        "colab": {
          "base_uri": "https://localhost:8080/",
          "height": 472
        },
        "outputId": "886ca06e-da82-487d-974c-f3d32ef9c8fa"
      },
      "outputs": [
        {
          "output_type": "display_data",
          "data": {
            "text/plain": [
              "<Figure size 640x480 with 1 Axes>"
            ],
            "image/png": "[encoded data removed]"
          },
          "metadata": {}
        }
      ],
      "source": [
        "\n",
        "# mpostrar los modelos utilizados\n",
        "model_names = ['GBR(ML)', 'KNN(ML)','RMSER(ML)', 'FNN (DL)', 'LSTM(DL)', 'GRU(DL)']\n",
        "\n",
        "# Mostar los RMSE correspondientes\n",
        "rmse_values = [RMSEGBR, RMSEKNN, RMSERIDGE, RMSEFNN, BILSTM, RMSEGRU]\n",
        "\n",
        "# Asignar colores específicos a ML y DL\n",
        "colors = ['blue', 'blue', 'blue', 'green', 'green', 'green']\n",
        "\n",
        "# Crear una gráfica de barras\n",
        "plt.bar(model_names, rmse_values, color=colors)\n",
        "plt.xlabel('Modelos')\n",
        "plt.ylabel('RMSE')\n",
        "plt.title('Comparación de RMSE entre Modelos')\n",
        "plt.show()\n"
      ]
    },
    {
      "cell_type": "markdown",
      "source": [],
      "metadata": {
        "id": "Te4L_M3fAb55"
      }
    }
  ],
  "metadata": {
    "colab": {
      "toc_visible": true,
      "provenance": []
    },
    "kernelspec": {
      "display_name": "Python 3",
      "name": "python3"
    },
    "language_info": {
      "name": "python"
    }
  },
  "nbformat": 4,
  "nbformat_minor": 0
}