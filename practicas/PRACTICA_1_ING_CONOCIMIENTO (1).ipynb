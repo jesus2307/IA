{
  "nbformat": 4,
  "nbformat_minor": 0,
  "metadata": {
    "colab": {
      "provenance": [],
      "toc_visible": true
    },
    "kernelspec": {
      "name": "python3",
      "display_name": "Python 3"
    },
    "language_info": {
      "name": "python"
    }
  },
  "cells": [
    {
      "cell_type": "markdown",
      "source": [
        "# Práctica 1 #"
      ],
      "metadata": {
        "id": "XnldHTOt-QZx"
      }
    },
    {
      "cell_type": "markdown",
      "source": [
        "## Imports ##"
      ],
      "metadata": {
        "id": "kjQsenT0_LwN"
      }
    },
    {
      "cell_type": "code",
      "source": [
        "%%time\n",
        "\n",
        "# Importar librerias\n",
        "import sys\n",
        "import os\n",
        "import pathlib\n",
        "import math\n",
        "import numpy as np; print(f'Versión de Numpy: {np.__version__}')\n",
        "import pandas as pd; print(f'Versión de Pandas: {pd.__version__}')\n",
        "import matplotlib as mpl; print(f'Versión de MatPlotLib: {mpl.__version__}')\n",
        "import sklearn as sk; print(f'Versión de ScikitLearn: {sk.__version__}')\n",
        "import tensorflow as tf; #print(f'Versión de TensorFlow: {tf.__version__}')\n",
        "import tensorflow.python.keras as tfk; #print(f'Versión de Keras: {tfk.__version__}')\n",
        "import google.colab as gc; print(f'Version de Google Colab: {gc.__version__}')\n",
        "\n",
        "# Importar funciones\n",
        "from pathlib import Path\n",
        "from math import ceil\n",
        "from numpy import abs, logical_and, nan\n",
        "from pandas import read_csv, DataFrame, get_dummies\n",
        "from matplotlib import pyplot as plt\n",
        "from sklearn.preprocessing import MinMaxScaler\n",
        "from sklearn.preprocessing import LabelEncoder\n",
        "from google.colab import drive\n",
        "from sklearn.model_selection import KFold\n",
        "from sklearn.model_selection import train_test_split\n",
        "from sklearn.preprocessing import StandardScaler\n",
        "import seaborn as sns"
      ],
      "metadata": {
        "id": "shcOA91t_LmV",
        "colab": {
          "base_uri": "https://localhost:8080/"
        },
        "outputId": "dc4115df-ae24-43ef-95a9-905ca5613e78"
      },
      "execution_count": null,
      "outputs": [
        {
          "output_type": "stream",
          "name": "stdout",
          "text": [
            "Versión de Numpy: 1.23.5\n",
            "Versión de Pandas: 1.5.3\n",
            "Versión de MatPlotLib: 3.7.1\n",
            "Versión de ScikitLearn: 1.2.2\n",
            "Version de Google Colab: 0.0.1a2\n",
            "CPU times: user 5.35 s, sys: 437 ms, total: 5.79 s\n",
            "Wall time: 9.94 s\n"
          ]
        }
      ]
    },
    {
      "cell_type": "markdown",
      "source": [
        "## Data ##"
      ],
      "metadata": {
        "id": "G9r5KHyUM9r-"
      }
    },
    {
      "cell_type": "markdown",
      "source": [
        "### Read dataset ###"
      ],
      "metadata": {
        "id": "OJDn_AZsNGTO"
      }
    },
    {
      "cell_type": "code",
      "source": [
        "%%time\n",
        "\n",
        "# Leer el conjunto de datos\n",
        "dataset = pd.read_csv('student-mat.csv', sep=';', decimal='.')\n",
        "\n",
        "# Verificar la lectura correcta\n",
        "print(dataset.info())\n",
        "\n",
        "# Estadísticas resumidas\n",
        "print(dataset.describe())"
      ],
      "metadata": {
        "id": "uAqEWZJ_NGGu",
        "colab": {
          "base_uri": "https://localhost:8080/"
        },
        "outputId": "750e217d-d873-43cf-90b1-f46b1f5bc1bf"
      },
      "execution_count": null,
      "outputs": [
        {
          "output_type": "stream",
          "name": "stdout",
          "text": [
            "<class 'pandas.core.frame.DataFrame'>\n",
            "RangeIndex: 395 entries, 0 to 394\n",
            "Data columns (total 33 columns):\n",
            " #   Column      Non-Null Count  Dtype \n",
            "---  ------      --------------  ----- \n",
            " 0   school      395 non-null    object\n",
            " 1   sex         395 non-null    object\n",
            " 2   age         395 non-null    int64 \n",
            " 3   address     395 non-null    object\n",
            " 4   famsize     395 non-null    object\n",
            " 5   Pstatus     395 non-null    object\n",
            " 6   Medu        395 non-null    int64 \n",
            " 7   Fedu        395 non-null    int64 \n",
            " 8   Mjob        395 non-null    object\n",
            " 9   Fjob        395 non-null    object\n",
            " 10  reason      395 non-null    object\n",
            " 11  guardian    395 non-null    object\n",
            " 12  traveltime  395 non-null    int64 \n",
            " 13  studytime   395 non-null    int64 \n",
            " 14  failures    395 non-null    int64 \n",
            " 15  schoolsup   395 non-null    object\n",
            " 16  famsup      395 non-null    object\n",
            " 17  paid        395 non-null    object\n",
            " 18  activities  395 non-null    object\n",
            " 19  nursery     395 non-null    object\n",
            " 20  higher      395 non-null    object\n",
            " 21  internet    395 non-null    object\n",
            " 22  romantic    395 non-null    object\n",
            " 23  famrel      395 non-null    int64 \n",
            " 24  freetime    395 non-null    int64 \n",
            " 25  goout       395 non-null    int64 \n",
            " 26  Dalc        395 non-null    int64 \n",
            " 27  Walc        395 non-null    int64 \n",
            " 28  health      395 non-null    int64 \n",
            " 29  absences    395 non-null    int64 \n",
            " 30  G1          395 non-null    int64 \n",
            " 31  G2          395 non-null    int64 \n",
            " 32  G3          395 non-null    int64 \n",
            "dtypes: int64(16), object(17)\n",
            "memory usage: 102.0+ KB\n",
            "None\n",
            "              age        Medu        Fedu  traveltime   studytime    failures  \\\n",
            "count  395.000000  395.000000  395.000000  395.000000  395.000000  395.000000   \n",
            "mean    16.696203    2.749367    2.521519    1.448101    2.035443    0.334177   \n",
            "std      1.276043    1.094735    1.088201    0.697505    0.839240    0.743651   \n",
            "min     15.000000    0.000000    0.000000    1.000000    1.000000    0.000000   \n",
            "25%     16.000000    2.000000    2.000000    1.000000    1.000000    0.000000   \n",
            "50%     17.000000    3.000000    2.000000    1.000000    2.000000    0.000000   \n",
            "75%     18.000000    4.000000    3.000000    2.000000    2.000000    0.000000   \n",
            "max     22.000000    4.000000    4.000000    4.000000    4.000000    3.000000   \n",
            "\n",
            "           famrel    freetime       goout        Dalc        Walc      health  \\\n",
            "count  395.000000  395.000000  395.000000  395.000000  395.000000  395.000000   \n",
            "mean     3.944304    3.235443    3.108861    1.481013    2.291139    3.554430   \n",
            "std      0.896659    0.998862    1.113278    0.890741    1.287897    1.390303   \n",
            "min      1.000000    1.000000    1.000000    1.000000    1.000000    1.000000   \n",
            "25%      4.000000    3.000000    2.000000    1.000000    1.000000    3.000000   \n",
            "50%      4.000000    3.000000    3.000000    1.000000    2.000000    4.000000   \n",
            "75%      5.000000    4.000000    4.000000    2.000000    3.000000    5.000000   \n",
            "max      5.000000    5.000000    5.000000    5.000000    5.000000    5.000000   \n",
            "\n",
            "         absences          G1          G2          G3  \n",
            "count  395.000000  395.000000  395.000000  395.000000  \n",
            "mean     5.708861   10.908861   10.713924   10.415190  \n",
            "std      8.003096    3.319195    3.761505    4.581443  \n",
            "min      0.000000    3.000000    0.000000    0.000000  \n",
            "25%      0.000000    8.000000    9.000000    8.000000  \n",
            "50%      4.000000   11.000000   11.000000   11.000000  \n",
            "75%      8.000000   13.000000   13.000000   14.000000  \n",
            "max     75.000000   19.000000   19.000000   20.000000  \n",
            "CPU times: user 106 ms, sys: 4.46 ms, total: 110 ms\n",
            "Wall time: 238 ms\n"
          ]
        }
      ]
    },
    {
      "cell_type": "markdown",
      "source": [
        "### Exploratory Data Analysis (EDA) ###"
      ],
      "metadata": {
        "id": "e9EqOajt-bWJ"
      }
    },
    {
      "cell_type": "markdown",
      "source": [
        "### Data pre-processing ###"
      ],
      "metadata": {
        "id": "q30iRdUHNJet"
      }
    },
    {
      "cell_type": "code",
      "source": [
        "%%time\n",
        "\n",
        "#Borrar valores faltantes\n",
        "dataset = dataset.dropna()"
      ],
      "metadata": {
        "id": "4wQkz7aJNOXj",
        "colab": {
          "base_uri": "https://localhost:8080/"
        },
        "outputId": "79467b49-1a9d-4791-a0a2-220d29731558"
      },
      "execution_count": null,
      "outputs": [
        {
          "output_type": "stream",
          "name": "stdout",
          "text": [
            "CPU times: user 4.24 ms, sys: 26 µs, total: 4.26 ms\n",
            "Wall time: 4.23 ms\n"
          ]
        }
      ]
    },
    {
      "cell_type": "markdown",
      "source": [
        "Tras la comprobación de que no falta ningún valor, podemos continuar con el preprocesamiento de datos"
      ],
      "metadata": {
        "id": "qGGA0FgwnwVC"
      }
    },
    {
      "cell_type": "code",
      "source": [
        "# Separa las características (X) de las etiquetas objetivo (y)\n",
        "X=dataset.drop(columns=['G3'])  # X contiene todas las características\n",
        "Y=dataset[['G3']]  # y contiene las etiquetas objetivo\n",
        "\n",
        "# Ahora, X contiene tus características y y contiene las etiquetas objetivo\n",
        "print(X)\n",
        "print(Y)"
      ],
      "metadata": {
        "colab": {
          "base_uri": "https://localhost:8080/"
        },
        "id": "TyEWRPHrnx5J",
        "outputId": "c870c775-2363-4538-ded4-25c56a0bec2b"
      },
      "execution_count": null,
      "outputs": [
        {
          "output_type": "stream",
          "name": "stdout",
          "text": [
            "    school sex  age address famsize Pstatus  Medu  Fedu      Mjob      Fjob  \\\n",
            "0       GP   F   18       U     GT3       A     4     4   at_home   teacher   \n",
            "1       GP   F   17       U     GT3       T     1     1   at_home     other   \n",
            "2       GP   F   15       U     LE3       T     1     1   at_home     other   \n",
            "3       GP   F   15       U     GT3       T     4     2    health  services   \n",
            "4       GP   F   16       U     GT3       T     3     3     other     other   \n",
            "..     ...  ..  ...     ...     ...     ...   ...   ...       ...       ...   \n",
            "390     MS   M   20       U     LE3       A     2     2  services  services   \n",
            "391     MS   M   17       U     LE3       T     3     1  services  services   \n",
            "392     MS   M   21       R     GT3       T     1     1     other     other   \n",
            "393     MS   M   18       R     LE3       T     3     2  services     other   \n",
            "394     MS   M   19       U     LE3       T     1     1     other   at_home   \n",
            "\n",
            "     ... romantic famrel  freetime  goout  Dalc Walc health absences  G1  G2  \n",
            "0    ...       no      4         3      4     1    1      3        6   5   6  \n",
            "1    ...       no      5         3      3     1    1      3        4   5   5  \n",
            "2    ...       no      4         3      2     2    3      3       10   7   8  \n",
            "3    ...      yes      3         2      2     1    1      5        2  15  14  \n",
            "4    ...       no      4         3      2     1    2      5        4   6  10  \n",
            "..   ...      ...    ...       ...    ...   ...  ...    ...      ...  ..  ..  \n",
            "390  ...       no      5         5      4     4    5      4       11   9   9  \n",
            "391  ...       no      2         4      5     3    4      2        3  14  16  \n",
            "392  ...       no      5         5      3     3    3      3        3  10   8  \n",
            "393  ...       no      4         4      1     3    4      5        0  11  12  \n",
            "394  ...       no      3         2      3     3    3      5        5   8   9  \n",
            "\n",
            "[395 rows x 32 columns]\n",
            "     G3\n",
            "0     6\n",
            "1     6\n",
            "2    10\n",
            "3    15\n",
            "4    10\n",
            "..   ..\n",
            "390   9\n",
            "391  16\n",
            "392   7\n",
            "393  10\n",
            "394   9\n",
            "\n",
            "[395 rows x 1 columns]\n"
          ]
        }
      ]
    },
    {
      "cell_type": "code",
      "source": [
        "columnas_categoricas=['school', 'sex', 'address', 'famsize', 'Pstatus', 'Mjob', 'Fjob', 'guardian', 'schoolsup', 'famsup', 'paid', 'higher',  'internet',  'romantic', 'activities', 'nursery', 'reason']\n",
        "\n",
        "# Aplicar One-Hot Encoding - Entrena mejor con ellos\n",
        "X_OH=pd.get_dummies(X, columns=columnas_categoricas)\n",
        "\n",
        "# Pasar a float\n",
        "X_OH = X_OH.astype(float)\n",
        "\n",
        "# Imprimir información sobre el DataFrame después de la conversión\n",
        "print(X_OH)"
      ],
      "metadata": {
        "colab": {
          "base_uri": "https://localhost:8080/"
        },
        "id": "9ew5Y5LGpjEb",
        "outputId": "4ceabd83-e153-48f9-c6e9-29b95be5930d"
      },
      "execution_count": null,
      "outputs": [
        {
          "output_type": "stream",
          "name": "stdout",
          "text": [
            "      age  Medu  Fedu  traveltime  studytime  failures  famrel  freetime  \\\n",
            "0    18.0   4.0   4.0         2.0        2.0       0.0     4.0       3.0   \n",
            "1    17.0   1.0   1.0         1.0        2.0       0.0     5.0       3.0   \n",
            "2    15.0   1.0   1.0         1.0        2.0       3.0     4.0       3.0   \n",
            "3    15.0   4.0   2.0         1.0        3.0       0.0     3.0       2.0   \n",
            "4    16.0   3.0   3.0         1.0        2.0       0.0     4.0       3.0   \n",
            "..    ...   ...   ...         ...        ...       ...     ...       ...   \n",
            "390  20.0   2.0   2.0         1.0        2.0       2.0     5.0       5.0   \n",
            "391  17.0   3.0   1.0         2.0        1.0       0.0     2.0       4.0   \n",
            "392  21.0   1.0   1.0         1.0        1.0       3.0     5.0       5.0   \n",
            "393  18.0   3.0   2.0         3.0        1.0       0.0     4.0       4.0   \n",
            "394  19.0   1.0   1.0         1.0        1.0       0.0     3.0       2.0   \n",
            "\n",
            "     goout  Dalc  ...  romantic_no  romantic_yes  activities_no  \\\n",
            "0      4.0   1.0  ...          1.0           0.0            1.0   \n",
            "1      3.0   1.0  ...          1.0           0.0            1.0   \n",
            "2      2.0   2.0  ...          1.0           0.0            1.0   \n",
            "3      2.0   1.0  ...          0.0           1.0            0.0   \n",
            "4      2.0   1.0  ...          1.0           0.0            1.0   \n",
            "..     ...   ...  ...          ...           ...            ...   \n",
            "390    4.0   4.0  ...          1.0           0.0            1.0   \n",
            "391    5.0   3.0  ...          1.0           0.0            1.0   \n",
            "392    3.0   3.0  ...          1.0           0.0            1.0   \n",
            "393    1.0   3.0  ...          1.0           0.0            1.0   \n",
            "394    3.0   3.0  ...          1.0           0.0            1.0   \n",
            "\n",
            "     activities_yes  nursery_no  nursery_yes  reason_course  reason_home  \\\n",
            "0               0.0         0.0          1.0            1.0          0.0   \n",
            "1               0.0         1.0          0.0            1.0          0.0   \n",
            "2               0.0         0.0          1.0            0.0          0.0   \n",
            "3               1.0         0.0          1.0            0.0          1.0   \n",
            "4               0.0         0.0          1.0            0.0          1.0   \n",
            "..              ...         ...          ...            ...          ...   \n",
            "390             0.0         0.0          1.0            1.0          0.0   \n",
            "391             0.0         1.0          0.0            1.0          0.0   \n",
            "392             0.0         1.0          0.0            1.0          0.0   \n",
            "393             0.0         1.0          0.0            1.0          0.0   \n",
            "394             0.0         0.0          1.0            1.0          0.0   \n",
            "\n",
            "     reason_other  reason_reputation  \n",
            "0             0.0                0.0  \n",
            "1             0.0                0.0  \n",
            "2             1.0                0.0  \n",
            "3             0.0                0.0  \n",
            "4             0.0                0.0  \n",
            "..            ...                ...  \n",
            "390           0.0                0.0  \n",
            "391           0.0                0.0  \n",
            "392           0.0                0.0  \n",
            "393           0.0                0.0  \n",
            "394           0.0                0.0  \n",
            "\n",
            "[395 rows x 58 columns]\n"
          ]
        }
      ]
    },
    {
      "cell_type": "code",
      "source": [
        "from sklearn.preprocessing import MinMaxScaler\n",
        "\n",
        "# Crear una instancia del escalador\n",
        "scaler=MinMaxScaler()\n",
        "\n",
        "# Aplicar la normalización Min-Max a todas las características\n",
        "X_OHnormalized=scaler.fit_transform(X_OH)\n",
        "\n",
        "# Crear un nuevo DataFrame con las características normalizadas\n",
        "X_OHnormalized_df=pd.DataFrame(X_OHnormalized, columns=X_OH.columns)\n",
        "\n",
        "# Visualizar el DataFrame que se va a utilizar para el entrenamiento de los modelos\n",
        "print(X_OHnormalized_df)"
      ],
      "metadata": {
        "colab": {
          "base_uri": "https://localhost:8080/"
        },
        "id": "Ket4DRD_jyi_",
        "outputId": "df18d730-197b-4e72-f412-ecf9339c4696"
      },
      "execution_count": null,
      "outputs": [
        {
          "output_type": "stream",
          "name": "stdout",
          "text": [
            "          age  Medu  Fedu  traveltime  studytime  failures  famrel  freetime  \\\n",
            "0    0.428571  1.00  1.00    0.333333   0.333333  0.000000    0.75      0.50   \n",
            "1    0.285714  0.25  0.25    0.000000   0.333333  0.000000    1.00      0.50   \n",
            "2    0.000000  0.25  0.25    0.000000   0.333333  1.000000    0.75      0.50   \n",
            "3    0.000000  1.00  0.50    0.000000   0.666667  0.000000    0.50      0.25   \n",
            "4    0.142857  0.75  0.75    0.000000   0.333333  0.000000    0.75      0.50   \n",
            "..        ...   ...   ...         ...        ...       ...     ...       ...   \n",
            "390  0.714286  0.50  0.50    0.000000   0.333333  0.666667    1.00      1.00   \n",
            "391  0.285714  0.75  0.25    0.333333   0.000000  0.000000    0.25      0.75   \n",
            "392  0.857143  0.25  0.25    0.000000   0.000000  1.000000    1.00      1.00   \n",
            "393  0.428571  0.75  0.50    0.666667   0.000000  0.000000    0.75      0.75   \n",
            "394  0.571429  0.25  0.25    0.000000   0.000000  0.000000    0.50      0.25   \n",
            "\n",
            "     goout  Dalc  ...  romantic_no  romantic_yes  activities_no  \\\n",
            "0     0.75  0.00  ...          1.0           0.0            1.0   \n",
            "1     0.50  0.00  ...          1.0           0.0            1.0   \n",
            "2     0.25  0.25  ...          1.0           0.0            1.0   \n",
            "3     0.25  0.00  ...          0.0           1.0            0.0   \n",
            "4     0.25  0.00  ...          1.0           0.0            1.0   \n",
            "..     ...   ...  ...          ...           ...            ...   \n",
            "390   0.75  0.75  ...          1.0           0.0            1.0   \n",
            "391   1.00  0.50  ...          1.0           0.0            1.0   \n",
            "392   0.50  0.50  ...          1.0           0.0            1.0   \n",
            "393   0.00  0.50  ...          1.0           0.0            1.0   \n",
            "394   0.50  0.50  ...          1.0           0.0            1.0   \n",
            "\n",
            "     activities_yes  nursery_no  nursery_yes  reason_course  reason_home  \\\n",
            "0               0.0         0.0          1.0            1.0          0.0   \n",
            "1               0.0         1.0          0.0            1.0          0.0   \n",
            "2               0.0         0.0          1.0            0.0          0.0   \n",
            "3               1.0         0.0          1.0            0.0          1.0   \n",
            "4               0.0         0.0          1.0            0.0          1.0   \n",
            "..              ...         ...          ...            ...          ...   \n",
            "390             0.0         0.0          1.0            1.0          0.0   \n",
            "391             0.0         1.0          0.0            1.0          0.0   \n",
            "392             0.0         1.0          0.0            1.0          0.0   \n",
            "393             0.0         1.0          0.0            1.0          0.0   \n",
            "394             0.0         0.0          1.0            1.0          0.0   \n",
            "\n",
            "     reason_other  reason_reputation  \n",
            "0             0.0                0.0  \n",
            "1             0.0                0.0  \n",
            "2             1.0                0.0  \n",
            "3             0.0                0.0  \n",
            "4             0.0                0.0  \n",
            "..            ...                ...  \n",
            "390           0.0                0.0  \n",
            "391           0.0                0.0  \n",
            "392           0.0                0.0  \n",
            "393           0.0                0.0  \n",
            "394           0.0                0.0  \n",
            "\n",
            "[395 rows x 58 columns]\n"
          ]
        }
      ]
    },
    {
      "cell_type": "markdown",
      "source": [
        "### Save cleaned dataset ###"
      ],
      "metadata": {
        "id": "Cj60flafNupT"
      }
    },
    {
      "cell_type": "code",
      "source": [
        "# Crear un nuevo DataFrame con las características seleccionadas\n",
        "X_OHselected=X_OHnormalized_df\n",
        "\n",
        "# Guardar el nuevo DataFrame en un archivo CSV\n",
        "X_OHselected.to_csv(\"datos_con_selected_features.csv\", index=False)\n",
        "\n",
        "# Dividir datos en conjuntos de entrenamiento y prueba\n",
        "from sklearn.model_selection import train_test_split\n",
        "\n",
        "y = Y['G3']\n",
        "\n",
        "X_train, X_test, y_train, y_test=train_test_split(X_OHselected, y, test_size=0.1, random_state=4)\n",
        "\n",
        "#from scipy.stats import zscore\n",
        "\n",
        "# Calcular Z-score para la variable objetivo\n",
        "#z_scores=zscore(y_train)\n",
        "\n",
        "# Definir un umbral\n",
        "#threshold=3 # Están más cerca a la media para ser considerados atipicos\n",
        "\n",
        "# Filtrar valores atípicos en el conjunto de entrenamiento\n",
        "#filtered_indices=np.where(np.abs(z_scores) < threshold)[0]\n",
        "#X_train_filtered=X_train.iloc[filtered_indices]\n",
        "#y_train_filtered=y_train.iloc[filtered_indices]\n",
        "\n",
        "# Imprimir información sobre valores atípicos eliminados\n",
        "#outliers_removed=len(y_train) - len(y_train_filtered)\n",
        "#print(f'Valores atípicos eliminados: {outliers_removed}')\n",
        "\n",
        "#X_train = X_train_filtered\n",
        "#y_train = y_train_filtered"
      ],
      "metadata": {
        "id": "jIi9nj3qNuez"
      },
      "execution_count": null,
      "outputs": []
    },
    {
      "cell_type": "markdown",
      "source": [
        "## Artificial Intelligence (AI) ##"
      ],
      "metadata": {
        "id": "zzSig4FL-jTg"
      }
    },
    {
      "cell_type": "markdown",
      "source": [
        "### Machine Learning (ML) ###"
      ],
      "metadata": {
        "id": "mIAOc4iQ-pkf"
      }
    },
    {
      "cell_type": "markdown",
      "source": [
        "#### Model ####"
      ],
      "metadata": {
        "id": "SxdIablC-5Ou"
      }
    },
    {
      "cell_type": "code",
      "source": [
        "from sklearn.model_selection import cross_val_score\n",
        "from sklearn.ensemble import GradientBoostingRegressor\n",
        "from sklearn.metrics import mean_squared_error, r2_score\n",
        "from matplotlib import pyplot as plt\n",
        "\n",
        "# Tasa de aprendizaje\n",
        "learning_rate=0.1\n",
        "\n",
        "# Número máximo de estimadores\n",
        "n_estimators=500\n",
        "\n",
        "# Configurar la detención temprana\n",
        "n_iter_no_learning=15  # Número de etapas sin mejora antes de detenerse #15\n",
        "\n",
        "modelo = GradientBoostingRegressor(\n",
        "    n_estimators=n_estimators,\n",
        "    learning_rate=learning_rate,\n",
        "    max_depth=2,\n",
        "    random_state=50, #40\n",
        "    n_iter_no_change=n_iter_no_learning,  # Detención temprana\n",
        "    validation_fraction=0.1  # Fracción del conjunto de entrenamiento utilizada para validación\n",
        ")\n",
        "\n",
        "modelo.fit(X_train, y_train)\n",
        "\n",
        "resultado=modelo.score(X_test, y_test)\n",
        "print(\"Score del modelo: \", resultado)\n",
        "\n",
        "scores=cross_val_score(modelo, X_train, y_train, cv=5)  # 5 pliegues de validación cruzada\n",
        "print(\"Puntajes de Validación Cruzada:\", scores)\n",
        "print(\"Puntaje promedio de Validación Cruzada:\", scores.mean())\n",
        "\n",
        "\n",
        "y_pred = modelo.predict(X_test)\n",
        "MSE = mean_squared_error(y_test, y_pred)\n",
        "R2 = r2_score(y_test, y_pred)\n",
        "APE=np.abs((y_test - y_pred) / y_test) * 100\n",
        "MAPE=np.mean(APE)\n",
        "RMSEGBR=math.sqrt(MSE)\n",
        "\n",
        "# Representar las predictiones\n",
        "print('Model predictions')\n",
        "plt.plot(y_test.values, 'go')\n",
        "plt.plot(y_pred.flatten(), 'ro')\n",
        "plt.title('GradientBoostingRegressor')\n",
        "plt.ylabel('predictions')\n",
        "plt.xlabel('item')\n",
        "plt.legend(['real', 'predicted'], loc='upper left')\n",
        "plt.show()\n",
        "\n",
        "print(f\"RMSE: {RMSEGBR}\")\n",
        "print(f\"MSE: {MSE}\")\n",
        "print(f\"R2: {R2}\")\n",
        "print(f\"MAPE: {MAPE}%\")"
      ],
      "metadata": {
        "id": "JHqLkGkx-wk3",
        "colab": {
          "base_uri": "https://localhost:8080/",
          "height": 615
        },
        "outputId": "039e5ef5-5a80-47d8-a644-720431a8282a"
      },
      "execution_count": null,
      "outputs": [
        {
          "output_type": "stream",
          "name": "stdout",
          "text": [
            "Score del modelo:  0.898006533412095\n",
            "Puntajes de Validación Cruzada: [0.91099696 0.90986452 0.8703027  0.82452231 0.80777071]\n",
            "Puntaje promedio de Validación Cruzada: 0.8646914414530912\n",
            "Model predictions\n"
          ]
        },
        {
          "output_type": "display_data",
          "data": {
            "text/plain": [
              "<Figure size 640x480 with 1 Axes>"
            ],
            "image/png": "[encoded data removed]"
          },
          "metadata": {}
        },
        {
          "output_type": "stream",
          "name": "stdout",
          "text": [
            "RMSE: 1.4616799038606705\n",
            "MSE: 2.136508141350139\n",
            "R2: 0.898006533412095\n",
            "MAPE: inf%\n"
          ]
        }
      ]
    },
    {
      "cell_type": "markdown",
      "source": [
        "### **XGBRegressor**"
      ],
      "metadata": {
        "id": "04leop62zWvw"
      }
    },
    {
      "cell_type": "code",
      "source": [
        "from xgboost import XGBRegressor\n",
        "\n",
        "# Entrenar el modelo\n",
        "model_xgb = XGBRegressor(\n",
        "    learning_rate=0.1,      # Tasa de aprendizaje\n",
        "    n_estimators=300,       # Número de árboles\n",
        "    max_depth=2,            # Profundidad máxima de cada árbol\n",
        "    subsample=0.6,          # Fracción de instancias utilizadas para entrenar cada árbol\n",
        "    colsample_bytree=0.8,   # Fracción de características utilizadas para entrenar cada árbol\n",
        "    reg_alpha=0,            # Regularización L1\n",
        "    reg_lambda=1            # Regularización L2\n",
        ")\n",
        "model_xgb.fit(X_train, y_train)\n",
        "\n",
        "y_pred = model_xgb.predict(X_test)\n",
        "\n",
        "# Calcula métricas de evaluación\n",
        "MSE=mean_squared_error(y_test, y_pred)\n",
        "R2=r2_score(y_test, y_pred)\n",
        "APE = np.abs((y_test - y_pred) / y_test) * 100\n",
        "MAPE = np.mean(APE)\n",
        "RMSEXGBR = np.sqrt(MSE)\n",
        "\n",
        "# Representa las predicciones\n",
        "plt.plot(y_test.values, 'go')\n",
        "plt.plot(y_pred, 'ro')\n",
        "plt.title('XGB')\n",
        "plt.ylabel('predictions')\n",
        "plt.xlabel('item')\n",
        "plt.legend(['real', 'predicted'], loc='upper left')\n",
        "plt.show()\n",
        "\n",
        "print(f\"RMSE: {RMSEKNN}\")\n",
        "print(f\"MSE: {MSE}\")\n",
        "print(f\"R2: {R2}\")\n",
        "print(f\"MAPE: {MAPE}%\")"
      ],
      "metadata": {
        "colab": {
          "base_uri": "https://localhost:8080/",
          "height": 543
        },
        "id": "CkYIl1F9zmjF",
        "outputId": "32f6b9ee-ec0f-4876-ba07-96ff3615877a"
      },
      "execution_count": null,
      "outputs": [
        {
          "output_type": "display_data",
          "data": {
            "text/plain": [
              "<Figure size 640x480 with 1 Axes>"
            ],
            "image/png": "[encoded data removed]"
          },
          "metadata": {}
        },
        {
          "output_type": "stream",
          "name": "stdout",
          "text": [
            "RMSE: 3.858634797438078\n",
            "MSE: 2.304811192071736\n",
            "R2: 0.8899720161321525\n",
            "MAPE: inf%\n"
          ]
        }
      ]
    },
    {
      "cell_type": "markdown",
      "source": [
        "### **KNN**"
      ],
      "metadata": {
        "id": "tueSEIBr0Tt0"
      }
    },
    {
      "cell_type": "code",
      "source": [
        "from sklearn.neighbors import KNeighborsRegressor\n",
        "from sklearn.model_selection import GridSearchCV\n",
        "from sklearn.metrics import mean_squared_error, r2_score\n",
        "import numpy as np\n",
        "import matplotlib.pyplot as plt\n",
        "\n",
        "# Crea un modelo KNN\n",
        "modeloKNN=KNeighborsRegressor(n_neighbors=4, weights='uniform', metric='manhattan', p=2)\n",
        "modeloKNN.fit(X_train, y_train)\n",
        "\n",
        "# Realiza predicciones en los datos de prueba\n",
        "y_pred=modeloKNN.predict(X_test)\n",
        "\n",
        "# Calcula métricas de evaluación\n",
        "MSE=mean_squared_error(y_test, y_pred)\n",
        "R2=r2_score(y_test, y_pred)\n",
        "APE = np.abs((y_test - y_pred) / y_test) * 100\n",
        "MAPE = np.mean(APE)\n",
        "RMSEKNN = np.sqrt(MSE)\n",
        "\n",
        "# Representa las predicciones\n",
        "plt.plot(y_test.values, 'go')\n",
        "plt.plot(y_pred, 'ro')\n",
        "plt.title('KNN')\n",
        "plt.ylabel('predictions')\n",
        "plt.xlabel('item')\n",
        "plt.legend(['real', 'predicted'], loc='upper left')\n",
        "plt.show()\n",
        "\n",
        "print(f\"RMSE: {RMSEKNN}\")\n",
        "print(f\"MSE: {MSE}\")\n",
        "print(f\"R2: {R2}\")\n",
        "print(f\"MAPE: {MAPE}%\")\n"
      ],
      "metadata": {
        "colab": {
          "base_uri": "https://localhost:8080/",
          "height": 543
        },
        "id": "vNsQpMRQ0SrZ",
        "outputId": "a3618693-bbbe-41ee-813f-8c8975532235"
      },
      "execution_count": null,
      "outputs": [
        {
          "output_type": "display_data",
          "data": {
            "text/plain": [
              "<Figure size 640x480 with 1 Axes>"
            ],
            "image/png": "[encoded data removed]"
          },
          "metadata": {}
        },
        {
          "output_type": "stream",
          "name": "stdout",
          "text": [
            "RMSE: 3.858634797438078\n",
            "MSE: 14.8890625\n",
            "R2: 0.2892200739945101\n",
            "MAPE: inf%\n"
          ]
        }
      ]
    },
    {
      "cell_type": "markdown",
      "source": [
        "#### Hyperparametrization ####"
      ],
      "metadata": {
        "id": "GZM_rJAF_A0G"
      }
    },
    {
      "cell_type": "code",
      "source": [
        "from sklearn.model_selection import RandomizedSearchCV\n",
        "from sklearn.ensemble import GradientBoostingRegressor\n",
        "from sklearn.metrics import mean_squared_error, r2_score\n",
        "import numpy as np\n",
        "\n",
        "# Definir hiperparámetros\n",
        "param_dist = {\n",
        "    'n_estimators': [10, 30, 60, 250, 400, 1000],  # Número de estimadores\n",
        "    'learning_rate': [0.001, 0.01, 0.1, 0.2, 0.3, 0.12],  # Tasa de aprendizaje\n",
        "    'max_depth': [3, 5, 7, 9, 15],  # Profundidad máxima de los árboles de decisión\n",
        "    'min_samples_split': [2, 5, 10, 5],  # Número mínimo de muestras requeridas para dividir un nodo\n",
        "    'min_samples_leaf': [1, 2, 4, 3],  # Número mínimo de muestras requeridas en un nodo hoja\n",
        "}\n",
        "\n",
        "# Configurar el estimador\n",
        "gb=GradientBoostingRegressor()\n",
        "\n",
        "# Crear un objeto RandomizedSearchCV\n",
        "random_search=RandomizedSearchCV(gb, param_distributions=param_dist, n_iter=10, cv=5, n_jobs=-1, verbose=2)\n",
        "\n",
        "# Ajustar RandomizedSearchCV a los datos de entrenamiento\n",
        "random_search.fit(X_train, y_train)\n",
        "\n",
        "# Obtener la mejor combinación de hiperparámetros y el modelo ajustado\n",
        "best_params=random_search.best_params_\n",
        "best_model=random_search.best_estimator_\n",
        "\n",
        "# Realizar predicciones\n",
        "y_pred=best_model.predict(X_test)\n",
        "\n",
        "# Calcular métricas de rendimiento\n",
        "MSE=mean_squared_error(y_test, y_pred)\n",
        "R2=r2_score(y_test, y_pred)\n",
        "RMSEGBRH=np.sqrt(MSE)\n",
        "\n",
        "# Mostrar los resultados\n",
        "print(\"Mejores hiperparámetros:\", best_params)\n",
        "print(f\"RMSE: {RMSEGBRH}\")\n",
        "print(f\"R2: {R2}\")\n"
      ],
      "metadata": {
        "colab": {
          "base_uri": "https://localhost:8080/"
        },
        "id": "A9bk8LoQ87YJ",
        "outputId": "d08e950b-c358-44f0-af66-4f7caa5b09f9"
      },
      "execution_count": null,
      "outputs": [
        {
          "output_type": "stream",
          "name": "stdout",
          "text": [
            "Fitting 5 folds for each of 10 candidates, totalling 50 fits\n",
            "Mejores hiperparámetros: {'n_estimators': 10, 'min_samples_split': 10, 'min_samples_leaf': 4, 'max_depth': 9, 'learning_rate': 0.3}\n",
            "RMSE: 1.7759520489352396\n",
            "R2: 0.8494328354162894\n"
          ]
        }
      ]
    },
    {
      "cell_type": "code",
      "source": [
        "from sklearn.model_selection import RandomizedSearchCV\n",
        "from sklearn.ensemble import RandomForestRegressor\n",
        "from sklearn.metrics import mean_squared_error, r2_score\n",
        "import numpy as np\n",
        "\n",
        "# Definir hiperparámetros\n",
        "param_dist = {\n",
        "    'n_estimators': [10, 30, 60, 250, 400],  # Número de árboles\n",
        "    'max_features': ['auto', 'sqrt', 'log2'],  # Número máximo de características a considerar en cada división\n",
        "    'max_depth': [None, 10, 20, 30, 40, 50],  # Profundidad máxima de los árboles\n",
        "    'min_samples_split': [2, 5, 10],  # Número mínimo de muestras requeridas para dividir un nodo\n",
        "    'min_samples_leaf': [1, 2, 4],  # Número mínimo de muestras requeridas en un nodo hoja\n",
        "}\n",
        "\n",
        "# Configurar el estimador (RandomForestRegressor)\n",
        "rf=RandomForestRegressor()\n",
        "\n",
        "# Crear un objeto RandomizedSearchCV\n",
        "random_search=RandomizedSearchCV(rf, param_distributions=param_dist, n_iter=1000, cv=5, n_jobs=-1, verbose=2)\n",
        "\n",
        "# Ajustar RandomizedSearchCV a los datos de entrenamiento\n",
        "random_search.fit(X_train, y_train)\n",
        "\n",
        "# Obtener la mejor combinación de hiperparámetros y el modelo ajustado\n",
        "best_params=random_search.best_params_\n",
        "best_model=random_search.best_estimator_\n",
        "\n",
        "# Realizar predicciones con el mejor modelo en los datos de prueba\n",
        "y_pred=best_model.predict(X_test)\n",
        "\n",
        "# Calcular métricas de rendimiento\n",
        "MSE=mean_squared_error(y_test, y_pred)\n",
        "R2=r2_score(y_test, y_pred)\n",
        "\n",
        "# Mostrar los resultados\n",
        "print(\"Mejores hiperparámetros:\", best_params)\n",
        "print(f\"RMSE: {np.sqrt(MSE)}\")\n",
        "print(f\"R2: {R2}\")\n"
      ],
      "metadata": {
        "id": "RVs76KLn_AnO",
        "colab": {
          "base_uri": "https://localhost:8080/"
        },
        "outputId": "5ccad8ae-dcdd-41e5-c125-7155c6092ce8"
      },
      "execution_count": null,
      "outputs": [
        {
          "output_type": "stream",
          "name": "stderr",
          "text": [
            "/usr/local/lib/python3.10/dist-packages/sklearn/model_selection/_search.py:305: UserWarning: The total space of parameters 810 is smaller than n_iter=1000. Running 810 iterations. For exhaustive searches, use GridSearchCV.\n",
            "  warnings.warn(\n"
          ]
        },
        {
          "output_type": "stream",
          "name": "stdout",
          "text": [
            "Fitting 5 folds for each of 810 candidates, totalling 4050 fits\n",
            "Mejores hiperparámetros: {'n_estimators': 30, 'min_samples_split': 5, 'min_samples_leaf': 1, 'max_features': 'auto', 'max_depth': 10}\n",
            "RMSE: 1.5677294483071833\n",
            "R2: 0.8826697399169569\n"
          ]
        },
        {
          "output_type": "stream",
          "name": "stderr",
          "text": [
            "/usr/local/lib/python3.10/dist-packages/sklearn/ensemble/_forest.py:413: FutureWarning: `max_features='auto'` has been deprecated in 1.1 and will be removed in 1.3. To keep the past behaviour, explicitly set `max_features=1.0` or remove this parameter as it is also the default value for RandomForestRegressors and ExtraTreesRegressors.\n",
            "  warn(\n"
          ]
        }
      ]
    },
    {
      "cell_type": "code",
      "source": [
        "# Optimización con Optuna - Librería de Python\n",
        "!pip install optuna\n",
        "import optuna\n",
        "import numpy as np\n",
        "from sklearn.model_selection import train_test_split\n",
        "from sklearn.ensemble import RandomForestRegressor\n",
        "from sklearn.metrics import mean_squared_error\n",
        "from contextlib import redirect_stdout, redirect_stderr\n",
        "from io import StringIO\n",
        "\n",
        "# Definir la función para la optimización de hiperparámetros\n",
        "def objective(trial):\n",
        "    # Definir los rangos de búsqueda\n",
        "    n_estimators=trial.suggest_int('n_estimators', 10, 300)\n",
        "    max_depth=trial.suggest_int('max_depth', 2, 32)\n",
        "    min_samples_split=trial.suggest_float('min_samples_split', 0.1, 1.0)\n",
        "    min_samples_leaf=trial.suggest_float('min_samples_leaf', 0.1, 0.5)\n",
        "\n",
        "    # Crear un modelo RandomForestRegressor con los hiperparámetros sugeridos\n",
        "    modeloOP = RandomForestRegressor(\n",
        "        n_estimators=n_estimators,\n",
        "        max_depth=max_depth,\n",
        "        min_samples_split=min_samples_split,\n",
        "        min_samples_leaf=min_samples_leaf,\n",
        "        random_state=42\n",
        "    )\n",
        "\n",
        "    #print(y_train.info())\n",
        "\n",
        "    # Entrena el modelo y calcula el error cuadrático medio (MSE)\n",
        "    modeloOP.fit(X_train, y_train)\n",
        "    y_pred=modeloOP.predict(X_test)\n",
        "    mse=mean_squared_error(y_test, y_pred)\n",
        "\n",
        "    return mse\n",
        "\n",
        "# Inicializa el estudio Optuna\n",
        "sstudy=optuna.create_study(direction='minimize')\n",
        "\n",
        "# Deshabilita la salida estándar y de error estándar\n",
        "with redirect_stdout(StringIO()) as stdout, redirect_stderr(StringIO()) as stderr:\n",
        "    # Ejecuta la optimización de hiperparámetros\n",
        "    sstudy.optimize(objective, n_trials=100)\n",
        "\n",
        "# Obtiene los mejores hiperparámetros\n",
        "best_params=sstudy.best_params\n",
        "\n",
        "print(\"Mejores hiperparámetros:\", best_params)\n"
      ],
      "metadata": {
        "colab": {
          "base_uri": "https://localhost:8080/"
        },
        "id": "o187P3Hqfj6d",
        "outputId": "44b4ceee-055b-437e-f260-69cafe64cd20"
      },
      "execution_count": null,
      "outputs": [
        {
          "output_type": "stream",
          "name": "stdout",
          "text": [
            "Requirement already satisfied: optuna in /usr/local/lib/python3.10/dist-packages (3.5.0)\n",
            "Requirement already satisfied: alembic>=1.5.0 in /usr/local/lib/python3.10/dist-packages (from optuna) (1.13.0)\n",
            "Requirement already satisfied: colorlog in /usr/local/lib/python3.10/dist-packages (from optuna) (6.8.0)\n",
            "Requirement already satisfied: numpy in /usr/local/lib/python3.10/dist-packages (from optuna) (1.23.5)\n",
            "Requirement already satisfied: packaging>=20.0 in /usr/local/lib/python3.10/dist-packages (from optuna) (23.2)\n",
            "Requirement already satisfied: sqlalchemy>=1.3.0 in /usr/local/lib/python3.10/dist-packages (from optuna) (2.0.23)\n",
            "Requirement already satisfied: tqdm in /usr/local/lib/python3.10/dist-packages (from optuna) (4.66.1)\n",
            "Requirement already satisfied: PyYAML in /usr/local/lib/python3.10/dist-packages (from optuna) (6.0.1)\n",
            "Requirement already satisfied: Mako in /usr/local/lib/python3.10/dist-packages (from alembic>=1.5.0->optuna) (1.3.0)\n",
            "Requirement already satisfied: typing-extensions>=4 in /usr/local/lib/python3.10/dist-packages (from alembic>=1.5.0->optuna) (4.5.0)\n",
            "Requirement already satisfied: greenlet!=0.4.17 in /usr/local/lib/python3.10/dist-packages (from sqlalchemy>=1.3.0->optuna) (3.0.1)\n",
            "Requirement already satisfied: MarkupSafe>=0.9.2 in /usr/local/lib/python3.10/dist-packages (from Mako->alembic>=1.5.0->optuna) (2.1.3)\n"
          ]
        },
        {
          "output_type": "stream",
          "name": "stderr",
          "text": [
            "[I 2023-12-11 22:22:54,782] A new study created in memory with name: no-name-d84a8a06-7010-4a22-b58b-71b16390a3bc\n",
            "[I 2023-12-11 22:22:55,096] Trial 0 finished with value: 22.0980332032886 and parameters: {'n_estimators': 75, 'max_depth': 9, 'min_samples_split': 0.6779792767454667, 'min_samples_leaf': 0.20483249983989826}. Best is trial 0 with value: 22.0980332032886.\n",
            "[I 2023-12-11 22:22:55,469] Trial 1 finished with value: 22.084146369661525 and parameters: {'n_estimators': 127, 'max_depth': 3, 'min_samples_split': 0.7355019193417554, 'min_samples_leaf': 0.3964201481214692}. Best is trial 1 with value: 22.084146369661525.\n",
            "[I 2023-12-11 22:22:56,251] Trial 2 finished with value: 9.79797284347297 and parameters: {'n_estimators': 213, 'max_depth': 6, 'min_samples_split': 0.5510797823471202, 'min_samples_leaf': 0.2175819684791522}. Best is trial 2 with value: 9.79797284347297.\n",
            "[I 2023-12-11 22:22:56,482] Trial 3 finished with value: 4.833931694127225 and parameters: {'n_estimators': 41, 'max_depth': 31, 'min_samples_split': 0.24701261659875154, 'min_samples_leaf': 0.10334176688702534}. Best is trial 3 with value: 4.833931694127225.\n",
            "[I 2023-12-11 22:22:56,695] Trial 4 finished with value: 22.125084886655763 and parameters: {'n_estimators': 62, 'max_depth': 7, 'min_samples_split': 0.7473850534298254, 'min_samples_leaf': 0.1390057632696065}. Best is trial 3 with value: 4.833931694127225.\n",
            "[I 2023-12-11 22:22:57,367] Trial 5 finished with value: 8.565313422861092 and parameters: {'n_estimators': 178, 'max_depth': 30, 'min_samples_split': 0.2757698236223306, 'min_samples_leaf': 0.16303491157837074}. Best is trial 3 with value: 4.833931694127225.\n",
            "[I 2023-12-11 22:22:58,044] Trial 6 finished with value: 20.46332265659988 and parameters: {'n_estimators': 178, 'max_depth': 31, 'min_samples_split': 0.3630565167898462, 'min_samples_leaf': 0.31855936791426265}. Best is trial 3 with value: 4.833931694127225.\n",
            "[I 2023-12-11 22:22:58,192] Trial 7 finished with value: 22.174873616683463 and parameters: {'n_estimators': 23, 'max_depth': 22, 'min_samples_split': 0.3149851986093395, 'min_samples_leaf': 0.4426977820928081}. Best is trial 3 with value: 4.833931694127225.\n",
            "[I 2023-12-11 22:22:58,315] Trial 8 finished with value: 22.10263520104005 and parameters: {'n_estimators': 17, 'max_depth': 32, 'min_samples_split': 0.8262826652960905, 'min_samples_leaf': 0.24845151678692587}. Best is trial 3 with value: 4.833931694127225.\n",
            "[I 2023-12-11 22:22:59,794] Trial 9 finished with value: 22.09680280077954 and parameters: {'n_estimators': 273, 'max_depth': 7, 'min_samples_split': 0.9983277384007715, 'min_samples_leaf': 0.46606154489707774}. Best is trial 3 with value: 4.833931694127225.\n",
            "[I 2023-12-11 22:23:01,650] Trial 10 finished with value: 22.06678909859818 and parameters: {'n_estimators': 113, 'max_depth': 21, 'min_samples_split': 0.1658667232907574, 'min_samples_leaf': 0.33657372077474734}. Best is trial 3 with value: 4.833931694127225.\n",
            "[I 2023-12-11 22:23:03,034] Trial 11 finished with value: 4.378364075080789 and parameters: {'n_estimators': 215, 'max_depth': 25, 'min_samples_split': 0.10668317982157474, 'min_samples_leaf': 0.10466508463398333}. Best is trial 11 with value: 4.378364075080789.\n",
            "[I 2023-12-11 22:23:04,238] Trial 12 finished with value: 4.860406730219104 and parameters: {'n_estimators': 251, 'max_depth': 24, 'min_samples_split': 0.10435780017028849, 'min_samples_leaf': 0.11123029927995785}. Best is trial 11 with value: 4.378364075080789.\n",
            "[I 2023-12-11 22:23:05,019] Trial 13 finished with value: 9.613202331418064 and parameters: {'n_estimators': 222, 'max_depth': 26, 'min_samples_split': 0.4216724418149995, 'min_samples_leaf': 0.11523084221262841}. Best is trial 11 with value: 4.378364075080789.\n",
            "[I 2023-12-11 22:23:05,875] Trial 14 finished with value: 10.780837933739688 and parameters: {'n_estimators': 290, 'max_depth': 16, 'min_samples_split': 0.20361979419471377, 'min_samples_leaf': 0.2628298136401648}. Best is trial 11 with value: 4.378364075080789.\n",
            "[I 2023-12-11 22:23:06,301] Trial 15 finished with value: 9.66938103007851 and parameters: {'n_estimators': 143, 'max_depth': 17, 'min_samples_split': 0.4671891180178885, 'min_samples_leaf': 0.17922512317949935}. Best is trial 11 with value: 4.378364075080789.\n",
            "[I 2023-12-11 22:23:06,609] Trial 16 finished with value: 3.8432683512930694 and parameters: {'n_estimators': 88, 'max_depth': 27, 'min_samples_split': 0.10008060115354443, 'min_samples_leaf': 0.10038715989558142}. Best is trial 16 with value: 3.8432683512930694.\n",
            "[I 2023-12-11 22:23:06,924] Trial 17 finished with value: 8.937800438936126 and parameters: {'n_estimators': 100, 'max_depth': 27, 'min_samples_split': 0.10140646924662818, 'min_samples_leaf': 0.1686874030922367}. Best is trial 16 with value: 3.8432683512930694.\n",
            "[I 2023-12-11 22:23:07,607] Trial 18 finished with value: 10.771420666376253 and parameters: {'n_estimators': 175, 'max_depth': 13, 'min_samples_split': 0.549933063764436, 'min_samples_leaf': 0.2690290979702644}. Best is trial 16 with value: 3.8432683512930694.\n",
            "[I 2023-12-11 22:23:08,357] Trial 19 finished with value: 22.09929412738542 and parameters: {'n_estimators': 217, 'max_depth': 20, 'min_samples_split': 0.19596551017645258, 'min_samples_leaf': 0.37981485141775384}. Best is trial 16 with value: 3.8432683512930694.\n",
            "[I 2023-12-11 22:23:08,709] Trial 20 finished with value: 9.156531823607594 and parameters: {'n_estimators': 88, 'max_depth': 26, 'min_samples_split': 0.364169174147142, 'min_samples_leaf': 0.1432491281745113}. Best is trial 16 with value: 3.8432683512930694.\n",
            "[I 2023-12-11 22:23:08,854] Trial 21 finished with value: 5.342939561415678 and parameters: {'n_estimators': 46, 'max_depth': 28, 'min_samples_split': 0.25876470601242146, 'min_samples_leaf': 0.11804552968067494}. Best is trial 16 with value: 3.8432683512930694.\n",
            "[I 2023-12-11 22:23:08,982] Trial 22 finished with value: 4.222720566510965 and parameters: {'n_estimators': 54, 'max_depth': 29, 'min_samples_split': 0.16095756071716913, 'min_samples_leaf': 0.10404290108184383}. Best is trial 16 with value: 3.8432683512930694.\n",
            "[I 2023-12-11 22:23:09,243] Trial 23 finished with value: 9.587887870474532 and parameters: {'n_estimators': 150, 'max_depth': 24, 'min_samples_split': 0.14773998800410476, 'min_samples_leaf': 0.20275529824801952}. Best is trial 16 with value: 3.8432683512930694.\n",
            "[I 2023-12-11 22:23:09,371] Trial 24 finished with value: 7.294486540366674 and parameters: {'n_estimators': 56, 'max_depth': 28, 'min_samples_split': 0.10089393378512189, 'min_samples_leaf': 0.14908780830565835}. Best is trial 16 with value: 3.8432683512930694.\n",
            "[I 2023-12-11 22:23:09,556] Trial 25 finished with value: 4.161141572148334 and parameters: {'n_estimators': 85, 'max_depth': 24, 'min_samples_split': 0.19925128868390585, 'min_samples_leaf': 0.10207273209530776}. Best is trial 16 with value: 3.8432683512930694.\n",
            "[I 2023-12-11 22:23:09,735] Trial 26 finished with value: 9.324635716377852 and parameters: {'n_estimators': 94, 'max_depth': 20, 'min_samples_split': 0.3244588727618233, 'min_samples_leaf': 0.17783327917051286}. Best is trial 16 with value: 3.8432683512930694.\n",
            "[I 2023-12-11 22:23:09,953] Trial 27 finished with value: 10.106089362589616 and parameters: {'n_estimators': 124, 'max_depth': 29, 'min_samples_split': 0.4487331446744063, 'min_samples_leaf': 0.22541428852080517}. Best is trial 16 with value: 3.8432683512930694.\n",
            "[I 2023-12-11 22:23:10,107] Trial 28 finished with value: 6.4553036320500565 and parameters: {'n_estimators': 72, 'max_depth': 23, 'min_samples_split': 0.2029277264450386, 'min_samples_leaf': 0.14316685676990398}. Best is trial 16 with value: 3.8432683512930694.\n",
            "[I 2023-12-11 22:23:10,268] Trial 29 finished with value: 9.717748884183854 and parameters: {'n_estimators': 79, 'max_depth': 14, 'min_samples_split': 0.5668300208551781, 'min_samples_leaf': 0.19885225832437664}. Best is trial 16 with value: 3.8432683512930694.\n",
            "[I 2023-12-11 22:23:10,360] Trial 30 finished with value: 11.101823167509224 and parameters: {'n_estimators': 35, 'max_depth': 19, 'min_samples_split': 0.24101086777675312, 'min_samples_leaf': 0.2914623741699567}. Best is trial 16 with value: 3.8432683512930694.\n",
            "[I 2023-12-11 22:23:10,573] Trial 31 finished with value: 4.472889789659483 and parameters: {'n_estimators': 105, 'max_depth': 25, 'min_samples_split': 0.15509172959078432, 'min_samples_leaf': 0.10520948715416095}. Best is trial 16 with value: 3.8432683512930694.\n",
            "[I 2023-12-11 22:23:10,813] Trial 32 finished with value: 5.813957565213876 and parameters: {'n_estimators': 126, 'max_depth': 29, 'min_samples_split': 0.1548553314393321, 'min_samples_leaf': 0.13565424906121695}. Best is trial 16 with value: 3.8432683512930694.\n",
            "[I 2023-12-11 22:23:11,244] Trial 33 finished with value: 3.871948101022005 and parameters: {'n_estimators': 237, 'max_depth': 26, 'min_samples_split': 0.21259774781690213, 'min_samples_leaf': 0.10095485516876203}. Best is trial 16 with value: 3.8432683512930694.\n",
            "[I 2023-12-11 22:23:11,388] Trial 34 finished with value: 6.084970858610355 and parameters: {'n_estimators': 63, 'max_depth': 32, 'min_samples_split': 0.29243495927879243, 'min_samples_leaf': 0.12387266282709702}. Best is trial 16 with value: 3.8432683512930694.\n",
            "[I 2023-12-11 22:23:11,731] Trial 35 finished with value: 8.424321148311662 and parameters: {'n_estimators': 195, 'max_depth': 22, 'min_samples_split': 0.23423347424706514, 'min_samples_leaf': 0.15997526661115158}. Best is trial 16 with value: 3.8432683512930694.\n",
            "[I 2023-12-11 22:23:11,819] Trial 36 finished with value: 9.77278688191429 and parameters: {'n_estimators': 35, 'max_depth': 30, 'min_samples_split': 0.3705308070569062, 'min_samples_leaf': 0.19749933069271097}. Best is trial 16 with value: 3.8432683512930694.\n",
            "[I 2023-12-11 22:23:11,962] Trial 37 finished with value: 9.961163994117422 and parameters: {'n_estimators': 74, 'max_depth': 27, 'min_samples_split': 0.19934098542274803, 'min_samples_leaf': 0.2252163062142706}. Best is trial 16 with value: 3.8432683512930694.\n",
            "[I 2023-12-11 22:23:12,350] Trial 38 finished with value: 12.43663624140853 and parameters: {'n_estimators': 243, 'max_depth': 4, 'min_samples_split': 0.6258252012796859, 'min_samples_leaf': 0.1322525826135005}. Best is trial 16 with value: 3.8432683512930694.\n",
            "[I 2023-12-11 22:23:12,409] Trial 39 finished with value: 7.977120260456171 and parameters: {'n_estimators': 14, 'max_depth': 11, 'min_samples_split': 0.30468042221675584, 'min_samples_leaf': 0.10194447147359165}. Best is trial 16 with value: 3.8432683512930694.\n",
            "[I 2023-12-11 22:23:12,614] Trial 40 finished with value: 22.087591389447375 and parameters: {'n_estimators': 136, 'max_depth': 30, 'min_samples_split': 0.23404069392933316, 'min_samples_leaf': 0.35694568826526446}. Best is trial 16 with value: 3.8432683512930694.\n",
            "[I 2023-12-11 22:23:12,982] Trial 41 finished with value: 4.4213880433587365 and parameters: {'n_estimators': 165, 'max_depth': 25, 'min_samples_split': 0.13426643908074254, 'min_samples_leaf': 0.10534554100662136}. Best is trial 16 with value: 3.8432683512930694.\n",
            "[I 2023-12-11 22:23:13,539] Trial 42 finished with value: 5.540601557843187 and parameters: {'n_estimators': 196, 'max_depth': 23, 'min_samples_split': 0.17538775915191623, 'min_samples_leaf': 0.1275615982724349}. Best is trial 16 with value: 3.8432683512930694.\n",
            "[I 2023-12-11 22:23:14,117] Trial 43 finished with value: 22.091282855953 and parameters: {'n_estimators': 246, 'max_depth': 27, 'min_samples_split': 0.8796343753294484, 'min_samples_leaf': 0.10034490385632736}. Best is trial 16 with value: 3.8432683512930694.\n",
            "[I 2023-12-11 22:23:14,669] Trial 44 finished with value: 22.09729560699285 and parameters: {'n_estimators': 231, 'max_depth': 25, 'min_samples_split': 0.12084179679442238, 'min_samples_leaf': 0.42318720014606764}. Best is trial 16 with value: 3.8432683512930694.\n",
            "[I 2023-12-11 22:23:15,431] Trial 45 finished with value: 8.468884808300151 and parameters: {'n_estimators': 291, 'max_depth': 32, 'min_samples_split': 0.2679940283769337, 'min_samples_leaf': 0.15809082496548815}. Best is trial 16 with value: 3.8432683512930694.\n",
            "[I 2023-12-11 22:23:16,199] Trial 46 finished with value: 5.457752157846496 and parameters: {'n_estimators': 264, 'max_depth': 29, 'min_samples_split': 0.17753448809524647, 'min_samples_leaf': 0.12409138697571961}. Best is trial 16 with value: 3.8432683512930694.\n",
            "[I 2023-12-11 22:23:16,738] Trial 47 finished with value: 9.354810103843912 and parameters: {'n_estimators': 206, 'max_depth': 22, 'min_samples_split': 0.14183258440771224, 'min_samples_leaf': 0.18045894250573247}. Best is trial 16 with value: 3.8432683512930694.\n",
            "[I 2023-12-11 22:23:17,432] Trial 48 finished with value: 8.553014341450085 and parameters: {'n_estimators': 267, 'max_depth': 18, 'min_samples_split': 0.33963840935648226, 'min_samples_leaf': 0.1465920737834973}. Best is trial 16 with value: 3.8432683512930694.\n",
            "[I 2023-12-11 22:23:17,625] Trial 49 finished with value: 5.290408612025696 and parameters: {'n_estimators': 58, 'max_depth': 26, 'min_samples_split': 0.21430020172809403, 'min_samples_leaf': 0.12064869645932394}. Best is trial 16 with value: 3.8432683512930694.\n",
            "[I 2023-12-11 22:23:17,807] Trial 50 finished with value: 22.06137618700213 and parameters: {'n_estimators': 110, 'max_depth': 24, 'min_samples_split': 0.7347043651223794, 'min_samples_leaf': 0.49612492628210714}. Best is trial 16 with value: 3.8432683512930694.\n",
            "[I 2023-12-11 22:23:18,127] Trial 51 finished with value: 4.147072446675149 and parameters: {'n_estimators': 164, 'max_depth': 25, 'min_samples_split': 0.13196961622760364, 'min_samples_leaf': 0.10395253751334725}. Best is trial 16 with value: 3.8432683512930694.\n",
            "[I 2023-12-11 22:23:18,440] Trial 52 finished with value: 5.738517643705714 and parameters: {'n_estimators': 161, 'max_depth': 28, 'min_samples_split': 0.12661062298384648, 'min_samples_leaf': 0.13287356550808338}. Best is trial 16 with value: 3.8432683512930694.\n",
            "[I 2023-12-11 22:23:18,868] Trial 53 finished with value: 3.856262742119835 and parameters: {'n_estimators': 230, 'max_depth': 31, 'min_samples_split': 0.16903628982060376, 'min_samples_leaf': 0.10007892356547873}. Best is trial 16 with value: 3.8432683512930694.\n",
            "[I 2023-12-11 22:23:19,294] Trial 54 finished with value: 5.085974772252548 and parameters: {'n_estimators': 227, 'max_depth': 30, 'min_samples_split': 0.1774707978765778, 'min_samples_leaf': 0.11527450146344353}. Best is trial 16 with value: 3.8432683512930694.\n",
            "[I 2023-12-11 22:23:19,468] Trial 55 finished with value: 8.365767038848563 and parameters: {'n_estimators': 86, 'max_depth': 31, 'min_samples_split': 0.27077564883438154, 'min_samples_leaf': 0.1575753059321894}. Best is trial 16 with value: 3.8432683512930694.\n",
            "[I 2023-12-11 22:23:19,552] Trial 56 finished with value: 4.001617220649114 and parameters: {'n_estimators': 26, 'max_depth': 27, 'min_samples_split': 0.20987862450636263, 'min_samples_leaf': 0.10067485189686977}. Best is trial 16 with value: 3.8432683512930694.\n",
            "[I 2023-12-11 22:23:19,652] Trial 57 finished with value: 5.43990791012875 and parameters: {'n_estimators': 27, 'max_depth': 26, 'min_samples_split': 0.22227995865533284, 'min_samples_leaf': 0.11815299321456467}. Best is trial 16 with value: 3.8432683512930694.\n",
            "[I 2023-12-11 22:23:19,958] Trial 58 finished with value: 9.272912681253626 and parameters: {'n_estimators': 177, 'max_depth': 21, 'min_samples_split': 0.37767644432347636, 'min_samples_leaf': 0.16931294169392994}. Best is trial 16 with value: 3.8432683512930694.\n",
            "[I 2023-12-11 22:23:20,408] Trial 59 finished with value: 9.662029025129199 and parameters: {'n_estimators': 280, 'max_depth': 27, 'min_samples_split': 0.4159441971043008, 'min_samples_leaf': 0.13969362733465596}. Best is trial 16 with value: 3.8432683512930694.\n",
            "[I 2023-12-11 22:23:20,727] Trial 60 finished with value: 9.296077841921795 and parameters: {'n_estimators': 187, 'max_depth': 23, 'min_samples_split': 0.10110683984217236, 'min_samples_leaf': 0.1824680783145758}. Best is trial 16 with value: 3.8432683512930694.\n",
            "[I 2023-12-11 22:23:20,849] Trial 61 finished with value: 4.255337674973466 and parameters: {'n_estimators': 49, 'max_depth': 28, 'min_samples_split': 0.17880182204450062, 'min_samples_leaf': 0.10177400086430909}. Best is trial 16 with value: 3.8432683512930694.\n",
            "[I 2023-12-11 22:23:20,920] Trial 62 finished with value: 5.361351742816039 and parameters: {'n_estimators': 20, 'max_depth': 31, 'min_samples_split': 0.1442286974584498, 'min_samples_leaf': 0.11555731631094861}. Best is trial 16 with value: 3.8432683512930694.\n",
            "[I 2023-12-11 22:23:20,976] Trial 63 finished with value: 8.520503423692924 and parameters: {'n_estimators': 10, 'max_depth': 29, 'min_samples_split': 0.2873719687357418, 'min_samples_leaf': 0.14655526306817643}. Best is trial 16 with value: 3.8432683512930694.\n",
            "[I 2023-12-11 22:23:21,402] Trial 64 finished with value: 5.513681582713711 and parameters: {'n_estimators': 237, 'max_depth': 26, 'min_samples_split': 0.24171331550071828, 'min_samples_leaf': 0.12751654221899622}. Best is trial 16 with value: 3.8432683512930694.\n",
            "[I 2023-12-11 22:23:21,627] Trial 65 finished with value: 5.117903552367407 and parameters: {'n_estimators': 117, 'max_depth': 24, 'min_samples_split': 0.200085448273507, 'min_samples_leaf': 0.11346914810959578}. Best is trial 16 with value: 3.8432683512930694.\n",
            "[I 2023-12-11 22:23:21,788] Trial 66 finished with value: 5.78259185152883 and parameters: {'n_estimators': 67, 'max_depth': 28, 'min_samples_split': 0.15667738097359538, 'min_samples_leaf': 0.13576614598412307}. Best is trial 16 with value: 3.8432683512930694.\n",
            "[I 2023-12-11 22:23:21,905] Trial 67 finished with value: 8.286782158469565 and parameters: {'n_estimators': 50, 'max_depth': 31, 'min_samples_split': 0.3373318739362917, 'min_samples_leaf': 0.11178484186763558}. Best is trial 16 with value: 3.8432683512930694.\n",
            "[I 2023-12-11 22:23:22,010] Trial 68 finished with value: 8.317256392986405 and parameters: {'n_estimators': 39, 'max_depth': 27, 'min_samples_split': 0.26310609676840213, 'min_samples_leaf': 0.15399697924761532}. Best is trial 16 with value: 3.8432683512930694.\n",
            "[I 2023-12-11 22:23:22,089] Trial 69 finished with value: 18.76904388831076 and parameters: {'n_estimators': 26, 'max_depth': 25, 'min_samples_split': 0.49634714524287143, 'min_samples_leaf': 0.30957009526269663}. Best is trial 16 with value: 3.8432683512930694.\n",
            "[I 2023-12-11 22:23:22,550] Trial 70 finished with value: 4.1347831944013596 and parameters: {'n_estimators': 253, 'max_depth': 30, 'min_samples_split': 0.12595609594037666, 'min_samples_leaf': 0.10143851207138953}. Best is trial 16 with value: 3.8432683512930694.\n",
            "[I 2023-12-11 22:23:23,103] Trial 71 finished with value: 3.8481488126666576 and parameters: {'n_estimators': 300, 'max_depth': 29, 'min_samples_split': 0.12478517577405068, 'min_samples_leaf': 0.10032480561591064}. Best is trial 16 with value: 3.8432683512930694.\n",
            "[I 2023-12-11 22:23:23,608] Trial 72 finished with value: 3.8577644355268013 and parameters: {'n_estimators': 280, 'max_depth': 30, 'min_samples_split': 0.1264319349826775, 'min_samples_leaf': 0.10002133123515052}. Best is trial 16 with value: 3.8432683512930694.\n",
            "[I 2023-12-11 22:23:24,149] Trial 73 finished with value: 5.4545089492875825 and parameters: {'n_estimators': 298, 'max_depth': 32, 'min_samples_split': 0.1226454639203281, 'min_samples_leaf': 0.12598527450932304}. Best is trial 16 with value: 3.8432683512930694.\n",
            "[I 2023-12-11 22:23:24,635] Trial 74 finished with value: 3.8718310809381484 and parameters: {'n_estimators': 264, 'max_depth': 30, 'min_samples_split': 0.11805785467226682, 'min_samples_leaf': 0.1001809510787458}. Best is trial 16 with value: 3.8432683512930694.\n",
            "[I 2023-12-11 22:23:25,112] Trial 75 finished with value: 5.072275287151884 and parameters: {'n_estimators': 256, 'max_depth': 31, 'min_samples_split': 0.10271879034095663, 'min_samples_leaf': 0.1143910492449147}. Best is trial 16 with value: 3.8432683512930694.\n",
            "[I 2023-12-11 22:23:25,596] Trial 76 finished with value: 6.060442724293847 and parameters: {'n_estimators': 279, 'max_depth': 30, 'min_samples_split': 0.17425737039910738, 'min_samples_leaf': 0.13809166771935583}. Best is trial 16 with value: 3.8432683512930694.\n",
            "[I 2023-12-11 22:23:26,076] Trial 77 finished with value: 5.461007323347167 and parameters: {'n_estimators': 263, 'max_depth': 29, 'min_samples_split': 0.21494933566265031, 'min_samples_leaf': 0.12571056562778474}. Best is trial 16 with value: 3.8432683512930694.\n",
            "[I 2023-12-11 22:23:26,576] Trial 78 finished with value: 4.592109908290994 and parameters: {'n_estimators': 277, 'max_depth': 30, 'min_samples_split': 0.1250355565915274, 'min_samples_leaf': 0.10881142226724148}. Best is trial 16 with value: 3.8432683512930694.\n",
            "[I 2023-12-11 22:23:27,009] Trial 79 finished with value: 9.296342023094144 and parameters: {'n_estimators': 253, 'max_depth': 32, 'min_samples_split': 0.1691604259897039, 'min_samples_leaf': 0.1720270623428927}. Best is trial 16 with value: 3.8432683512930694.\n",
            "[I 2023-12-11 22:23:27,475] Trial 80 finished with value: 10.636398415299444 and parameters: {'n_estimators': 289, 'max_depth': 28, 'min_samples_split': 0.18858002824620415, 'min_samples_leaf': 0.24663201646681004}. Best is trial 16 with value: 3.8432683512930694.\n",
            "[I 2023-12-11 22:23:28,130] Trial 81 finished with value: 3.8647576680411917 and parameters: {'n_estimators': 241, 'max_depth': 31, 'min_samples_split': 0.15153114909617604, 'min_samples_leaf': 0.1011353784325717}. Best is trial 16 with value: 3.8432683512930694.\n",
            "[I 2023-12-11 22:23:28,940] Trial 82 finished with value: 3.8639061841124054 and parameters: {'n_estimators': 271, 'max_depth': 30, 'min_samples_split': 0.15108099521216461, 'min_samples_leaf': 0.10090685342334031}. Best is trial 16 with value: 3.8432683512930694.\n",
            "[I 2023-12-11 22:23:29,715] Trial 83 finished with value: 5.158214652756669 and parameters: {'n_estimators': 271, 'max_depth': 29, 'min_samples_split': 0.15484010725403854, 'min_samples_leaf': 0.11609881255999822}. Best is trial 16 with value: 3.8432683512930694.\n",
            "[I 2023-12-11 22:23:30,536] Trial 84 finished with value: 5.7260677501860755 and parameters: {'n_estimators': 287, 'max_depth': 31, 'min_samples_split': 0.247963241537273, 'min_samples_leaf': 0.13369492370986516}. Best is trial 16 with value: 3.8432683512930694.\n",
            "[I 2023-12-11 22:23:31,356] Trial 85 finished with value: 7.055789898475824 and parameters: {'n_estimators': 300, 'max_depth': 32, 'min_samples_split': 0.10044607522754484, 'min_samples_leaf': 0.14736806333466151}. Best is trial 16 with value: 3.8432683512930694.\n",
            "[I 2023-12-11 22:23:32,063] Trial 86 finished with value: 3.9841431505802447 and parameters: {'n_estimators': 242, 'max_depth': 31, 'min_samples_split': 0.22036144104839406, 'min_samples_leaf': 0.10048099737200551}. Best is trial 16 with value: 3.8432683512930694.\n",
            "[I 2023-12-11 22:23:32,589] Trial 87 finished with value: 5.403758931094936 and parameters: {'n_estimators': 238, 'max_depth': 31, 'min_samples_split': 0.14493844378602797, 'min_samples_leaf': 0.12260401170278122}. Best is trial 16 with value: 3.8432683512930694.\n",
            "[I 2023-12-11 22:23:32,989] Trial 88 finished with value: 4.87760432754384 and parameters: {'n_estimators': 209, 'max_depth': 30, 'min_samples_split': 0.16160533738484822, 'min_samples_leaf': 0.1124620622392906}. Best is trial 16 with value: 3.8432683512930694.\n",
            "[I 2023-12-11 22:23:33,382] Trial 89 finished with value: 22.091611836667152 and parameters: {'n_estimators': 260, 'max_depth': 28, 'min_samples_split': 0.22416776314340112, 'min_samples_leaf': 0.3383974095188268}. Best is trial 16 with value: 3.8432683512930694.\n",
            "[I 2023-12-11 22:23:33,740] Trial 90 finished with value: 22.09259037114499 and parameters: {'n_estimators': 247, 'max_depth': 32, 'min_samples_split': 0.9162734908711174, 'min_samples_leaf': 0.4054818750304986}. Best is trial 16 with value: 3.8432683512930694.\n",
            "[I 2023-12-11 22:23:34,176] Trial 91 finished with value: 4.1416467380429065 and parameters: {'n_estimators': 228, 'max_depth': 29, 'min_samples_split': 0.19929259138169345, 'min_samples_leaf': 0.10211682753163398}. Best is trial 16 with value: 3.8432683512930694.\n",
            "[I 2023-12-11 22:23:34,629] Trial 92 finished with value: 3.8538924845586164 and parameters: {'n_estimators': 238, 'max_depth': 27, 'min_samples_split': 0.12103139269861135, 'min_samples_leaf': 0.10030379128664067}. Best is trial 16 with value: 3.8432683512930694.\n",
            "[I 2023-12-11 22:23:35,031] Trial 93 finished with value: 4.87183751956698 and parameters: {'n_estimators': 221, 'max_depth': 30, 'min_samples_split': 0.1180340139161808, 'min_samples_leaf': 0.11092277677480765}. Best is trial 16 with value: 3.8432683512930694.\n",
            "[I 2023-12-11 22:23:35,466] Trial 94 finished with value: 5.519344253293762 and parameters: {'n_estimators': 236, 'max_depth': 29, 'min_samples_split': 0.1505512096947864, 'min_samples_leaf': 0.12921371878007343}. Best is trial 16 with value: 3.8432683512930694.\n",
            "[I 2023-12-11 22:23:35,935] Trial 95 finished with value: 5.448680262598754 and parameters: {'n_estimators': 270, 'max_depth': 15, 'min_samples_split': 0.18965055473846026, 'min_samples_leaf': 0.12397256226795915}. Best is trial 16 with value: 3.8432683512930694.\n",
            "[I 2023-12-11 22:23:36,387] Trial 96 finished with value: 4.644330509835419 and parameters: {'n_estimators': 241, 'max_depth': 9, 'min_samples_split': 0.13793121369202035, 'min_samples_leaf': 0.10958232057043926}. Best is trial 16 with value: 3.8432683512930694.\n",
            "[I 2023-12-11 22:23:36,885] Trial 97 finished with value: 6.373416373321335 and parameters: {'n_estimators': 284, 'max_depth': 31, 'min_samples_split': 0.11359036645812012, 'min_samples_leaf': 0.14290589244241667}. Best is trial 16 with value: 3.8432683512930694.\n",
            "[I 2023-12-11 22:23:37,336] Trial 98 finished with value: 14.400915320097303 and parameters: {'n_estimators': 295, 'max_depth': 26, 'min_samples_split': 0.6314313416063227, 'min_samples_leaf': 0.28382693263947745}. Best is trial 16 with value: 3.8432683512930694.\n",
            "[I 2023-12-11 22:23:37,805] Trial 99 finished with value: 3.873284338079631 and parameters: {'n_estimators': 259, 'max_depth': 28, 'min_samples_split': 0.16489604151344595, 'min_samples_leaf': 0.10004005277917433}. Best is trial 16 with value: 3.8432683512930694.\n"
          ]
        },
        {
          "output_type": "stream",
          "name": "stdout",
          "text": [
            "Mejores hiperparámetros: {'n_estimators': 88, 'max_depth': 27, 'min_samples_split': 0.10008060115354443, 'min_samples_leaf': 0.10038715989558142}\n"
          ]
        }
      ]
    }
  ]
}